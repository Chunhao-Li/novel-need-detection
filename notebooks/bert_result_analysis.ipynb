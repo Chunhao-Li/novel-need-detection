{
 "cells": [
  {
   "cell_type": "code",
   "execution_count": 3,
   "metadata": {
    "pycharm": {
     "name": "#%%\n"
    }
   },
   "outputs": [],
   "source": [
    "import pandas as pd\n",
    "from sklearn.metrics import precision_score, recall_score, f1_score, confusion_matrix"
   ]
  },
  {
   "cell_type": "code",
   "execution_count": 11,
   "metadata": {},
   "outputs": [
    {
     "name": "stdout",
     "output_type": "stream",
     "text": [
      "total 1:  20\n",
      "(1.0, 0.25, 0.4)\n",
      "(1.0, 0.5, 0.6666666666666666)\n",
      "(1.0, 0.75, 0.8571428571428571)\n",
      "(0.9, 0.9, 0.9)\n"
     ]
    }
   ],
   "source": [
    "## top K\n",
    "\n",
    "with open('../exp-result/bert/generate_v2_result/predict_results_None.txt') as f:\n",
    "        lines = f.readlines()\n",
    "\n",
    "        \n",
    "# preds = []\n",
    "probs = []\n",
    "for l in lines[1:]:\n",
    "    cur_result = l.strip().split('\\t')\n",
    "    if cur_result[0] == '0':\n",
    "        # only store the prob of 1\n",
    "        probs.append(1-float(cur_result[1]))\n",
    "    else:\n",
    "        probs.append(float(cur_result[1]))\n",
    "sorted_probs_indices = sorted(range(len(probs)), key=lambda k: probs[k], reverse=True)\n",
    "\n",
    "df = pd.read_csv('../data/bert/novel_valid_generate_v2.csv')\n",
    "labels = list(df['label'])\n",
    "total = sum(labels)\n",
    "print(\"total 1: \", total)\n",
    "\n",
    "def get_top_k(labels, sorted_probs_indices, probs, k, total):\n",
    "    correct = 0\n",
    "    for i in range(k):\n",
    "        index = sorted_probs_indices[i]\n",
    "#         if probs[index] < 0.5:\n",
    "#             print(probs[index]) # check probability\n",
    "        if labels[index] == 1:\n",
    "            correct += 1\n",
    "\n",
    "    precision = correct / k\n",
    "    recall = correct / total\n",
    "    f1 = 2*precision*recall / (precision+recall)\n",
    "    return precision, recall, f1\n",
    "\n",
    "print(get_top_k(labels, sorted_probs_indices, probs, 5, total))\n",
    "print(get_top_k(labels, sorted_probs_indices, probs, 10, total))\n",
    "print(get_top_k(labels, sorted_probs_indices, probs, 15, total))\n",
    "print(get_top_k(labels, sorted_probs_indices, probs, total, total))\n",
    "        \n",
    "    "
   ]
  },
  {
   "cell_type": "code",
   "execution_count": 12,
   "metadata": {
    "pycharm": {
     "name": "#%%\n"
    }
   },
   "outputs": [
    {
     "name": "stdout",
     "output_type": "stream",
     "text": [
      "1.0 0.9 0.9473684210526316\n"
     ]
    },
    {
     "data": {
      "text/plain": [
       "array([[3314,    0],\n",
       "       [   2,   18]])"
      ]
     },
     "execution_count": 12,
     "metadata": {},
     "output_type": "execute_result"
    }
   ],
   "source": [
    "with open('../exp-result/bert/generate_v2_result/predict_results_None.txt') as f:\n",
    "        lines = f.readlines()\n",
    "\n",
    "preds = []\n",
    "probs = []\n",
    "for l in lines[1:]:\n",
    "    cur_result = l.strip().split('\\t')\n",
    "    preds.append(int(cur_result[0]))\n",
    "    probs.append(float(cur_result[1]))\n",
    "\n",
    "df = pd.read_csv('../data/bert/novel_valid_generate_v2.csv')\n",
    "labels = list(df['label'])\n",
    "\n",
    "\n",
    "\n",
    "pre = precision_score(labels, preds)\n",
    "rec = recall_score(labels, preds)\n",
    "f1 = f1_score(labels, preds)\n",
    "conf_matrix = confusion_matrix(labels, preds)\n",
    "print(pre, rec, f1)\n",
    "conf_matrix"
   ]
  },
  {
   "cell_type": "code",
   "execution_count": 21,
   "metadata": {
    "pycharm": {
     "name": "#%%\n"
    }
   },
   "outputs": [],
   "source": []
  },
  {
   "cell_type": "code",
   "execution_count": 22,
   "metadata": {
    "pycharm": {
     "name": "#%%\n"
    }
   },
   "outputs": [],
   "source": []
  }
 ],
 "metadata": {
  "kernelspec": {
   "display_name": "Python 3 (ipykernel)",
   "language": "python",
   "name": "python3"
  },
  "language_info": {
   "codemirror_mode": {
    "name": "ipython",
    "version": 3
   },
   "file_extension": ".py",
   "mimetype": "text/x-python",
   "name": "python",
   "nbconvert_exporter": "python",
   "pygments_lexer": "ipython3",
   "version": "3.8.16"
  }
 },
 "nbformat": 4,
 "nbformat_minor": 1
}
