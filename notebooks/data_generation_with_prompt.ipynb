{
 "cells": [
  {
   "cell_type": "code",
   "execution_count": 6,
   "metadata": {
    "pycharm": {
     "name": "#%%\n"
    }
   },
   "outputs": [],
   "source": [
    "import numpy as np\n",
    "import pandas as pd\n",
    "import json"
   ]
  },
  {
   "cell_type": "code",
   "execution_count": 7,
   "metadata": {},
   "outputs": [
    {
     "data": {
      "text/plain": [
       "0    13253\n",
       "1       78\n",
       "Name: label, dtype: int64"
      ]
     },
     "execution_count": 7,
     "metadata": {},
     "output_type": "execute_result"
    }
   ],
   "source": [
    "df_train = pd.read_csv('../data/novel_train_generate_v2.csv')\n",
    "df_valid = pd.read_csv('../data/novel_valid_generate_v2.csv')\n",
    "df_train = df_train.dropna()\n",
    "df_valid = df_valid.dropna()\n",
    "df_train['label'].value_counts()"
   ]
  },
  {
   "cell_type": "code",
   "execution_count": 8,
   "metadata": {},
   "outputs": [
    {
     "data": {
      "text/plain": [
       "0    3314\n",
       "1      20\n",
       "Name: label, dtype: int64"
      ]
     },
     "execution_count": 8,
     "metadata": {},
     "output_type": "execute_result"
    }
   ],
   "source": [
    "df_valid['label'].value_counts()"
   ]
  },
  {
   "cell_type": "code",
   "execution_count": 30,
   "metadata": {},
   "outputs": [],
   "source": [
    "df_train_0 = df_train[df_train['label']==0]\n",
    "df_train_1 = df_train[df_train['label']==1]\n",
    "# df_train_0_new = df_train_0.sample(n=3000)\n",
    "\n",
    "df_valid_0 = df_valid[df_valid['label']==0]\n",
    "df_valid_1 = df_valid[df_valid['label']==1]\n",
    "df_valid_0_new = df_valid_0.sample(n=100)"
   ]
  },
  {
   "cell_type": "code",
   "execution_count": 31,
   "metadata": {},
   "outputs": [
    {
     "data": {
      "text/plain": [
       "((20, 2), (100, 2))"
      ]
     },
     "execution_count": 31,
     "metadata": {},
     "output_type": "execute_result"
    }
   ],
   "source": [
    "df_valid_1.shape, df_valid_0_new.shape"
   ]
  },
  {
   "cell_type": "code",
   "execution_count": 32,
   "metadata": {},
   "outputs": [],
   "source": [
    "# df_train = pd.concat([df_train_0_new, df_train_1])\n",
    "df_valid = pd.concat([df_valid_0_new, df_valid_1])\n",
    "# df_train = df_train.sample(n=len(df_train))\n",
    "# df_valid = df_valid.sample(n=len(df_valid))"
   ]
  },
  {
   "cell_type": "code",
   "execution_count": 33,
   "metadata": {},
   "outputs": [
    {
     "name": "stdout",
     "output_type": "stream",
     "text": [
      "0    13253\n",
      "1       78\n",
      "Name: label, dtype: int64\n",
      "0    100\n",
      "1     20\n",
      "Name: label, dtype: int64\n"
     ]
    }
   ],
   "source": [
    "print(df_train['label'].value_counts())\n",
    "print(df_valid['label'].value_counts())"
   ]
  },
  {
   "cell_type": "code",
   "execution_count": 123,
   "metadata": {
    "scrolled": true
   },
   "outputs": [
    {
     "data": {
      "text/plain": [
       "[\"I needed a new laptop for school, but I also wanted something powerful enough for some casual gaming here and there and maybe some video editing down the line. This notebook is able to do both of those! And it's light enough that I don't feel weighed down when it's in my school bag. I'm not a fan of the red keyboard, but it's no deal breaker. I upgraded to a Samsung 1tb nvme SSD and added 8gb more ram for 16 total. This thing is officially a little powerhouse! MSI customer support is also amazing, they answer the phone right away and are very knowledgeable about all of their products. There's tons and tons of information about their products on their website and youtube page. Thanks to that, upgrading this notebook was easy for me (who's otherwise not super knowledgeable about computers). Money well spent!\"]"
      ]
     },
     "execution_count": 123,
     "metadata": {},
     "output_type": "execute_result"
    }
   ],
   "source": [
    "text = list(df_train.sample(1).sentence1)\n",
    "text"
   ]
  },
  {
   "cell_type": "code",
   "execution_count": 124,
   "metadata": {},
   "outputs": [
    {
     "data": {
      "text/plain": [
       "False"
      ]
     },
     "execution_count": 124,
     "metadata": {},
     "output_type": "execute_result"
    }
   ],
   "source": [
    "text in list(df_valid.sentence1)"
   ]
  },
  {
   "cell_type": "code",
   "execution_count": 113,
   "metadata": {},
   "outputs": [
    {
     "data": {
      "text/plain": [
       "\"MSI GL65 with RTX 2070 and i7 10th Gen CPU rocks my world. I've benched with COD MW and are getting 110-130 FPS with maxed settings. Boot up is extremely fast, very responsive. Love the screen. I don't see any tearing of the images. Very sharp text and videos. The speakers are not bad. You just have to use the MSI Nahimic Audio tools to increase BASS and or the surround sound. I had to dig a around to find the correct settings. The webcam is 720p and it's kind of grainy when used with lower light background. I'll live with it, not that I want everyone to see me in PJ's while in company meeting. The RGB keyboard keys can be individually set for different colors. I still can't figure out why the discrete RTX2070 is always on for some reasons. The power button on mine is always Orange (on GPU RTX2070). This probably explains why I'm only getting like 1 hour and 15 minutes instead of 2-3 hours while watching youtube. If anyone else figures this out please reply. The glide pad is very responsive. unlike my Dell laptops. It would have been nicer if this price comes with 90WHr battery instead of the 50's. Great buy for $1399, will recommend to others.\""
      ]
     },
     "execution_count": 113,
     "metadata": {},
     "output_type": "execute_result"
    }
   ],
   "source": [
    "df_valid.iloc[78].sentence1"
   ]
  },
  {
   "cell_type": "code",
   "execution_count": 48,
   "metadata": {},
   "outputs": [],
   "source": [
    "df_valid['len'] = df_valid.sentence1.apply(lambda x:len(x))\n",
    "df_valid[df_valid['label']==0]['len'].describe()"
   ]
  },
  {
   "cell_type": "code",
   "execution_count": 36,
   "metadata": {},
   "outputs": [],
   "source": [
    "# df_valid.to_csv('../data/novel_valid_generate_v2_sample.csv', index=False)"
   ]
  },
  {
   "cell_type": "code",
   "execution_count": null,
   "metadata": {},
   "outputs": [],
   "source": []
  },
  {
   "cell_type": "code",
   "execution_count": 92,
   "metadata": {},
   "outputs": [
    {
     "name": "stdout",
     "output_type": "stream",
     "text": [
      "3056 324\n"
     ]
    },
    {
     "data": {
      "text/plain": [
       "{'instruction': \"Given a computer purchase review data from an e-commerce platform, determine whether the review data contains new requirements. New requirements indicate features that the computer does not currently have. Return 1 (contains new requirements) or 0 (does not contain new requirements).\\nHere are some examples:\\n\\nThe computer runs fast, but the cooling is lacking. It would be great if it could use a freeze-like technology to cool down in a second. And then there is the screen quality is not good, cracks appeared without much use.\\t1\\nThis computer has a great processing speed and the design is sleek, but the battery life leaves a lot to be desired. I hope in the future they could incorporate solar charging features so I could work all day without worrying about running out of power.\\t1\\nThe laptop is a great choice for people who want a portable gaming experience, though there are a few problems. First, the laptop will get loud/hot very fast on newer games unless you lower the quality a lot. Second, the touchpad is sensitive and you'll find yourself accidently clicking things from time to time. Third, the people who shipped my laptop didn't have a sticker on the package warning about the lithium batteries as well as didn't even put any bubble wrap to keep the laptop safe. Finally, the battery life only last a few hours so you'll have to charge regularly. Other than that, the laptop works great and can play any game I throw at it. I would recommend it to anyone who wants an affordable gaming experience\\t0\\ni had to buy this for school but honestly the m1 is a better value, especially refurbished or used. if all you'll be doing is schoolwork, youtube, spotify and mail, this laptop does not feel worth 1000 bucks. i'm too lazy to return it at this point but if i could pick again i would've bought the cheaper m1 macbooks.\\t0\\n\\nGiven the following reviews, please return the judgement result:\",\n",
       " 'input': 'Wish it had windows and office downloaded on it',\n",
       " 'output': '0'}"
      ]
     },
     "execution_count": 92,
     "metadata": {},
     "output_type": "execute_result"
    }
   ],
   "source": [
    "valid_array = []\n",
    "train_array = []\n",
    "prompt = '''Given a computer purchase review data from an e-commerce platform, determine whether the review data contains new requirements. New requirements indicate features that the computer does not currently have. Return 1 (contains new requirements) or 0 (does not contain new requirements).\n",
    "Here are some examples:\n",
    "\n",
    "The pre-installed software on this computer is helpful, but the bloatware is a nuisance. An innovative idea would be an intelligent software manager that can automatically detect and uninstall unwanted programs.-->1\n",
    "I am bringing my review down to 3 stars for now as I had to just send the computer back to the manufacturer because it wouldn't turn on. I have had the computer less than 2 months and already an issue. Before this happened I did like the computer and loved how fast it loaded and operated as just a basic model laptop. However, not even 2 months later it wont turn on and I had to pay to ship to the manufacture to see what the issue is.I bought this as a replacement to the laptop that I had. The one I had was extremely slow and would have an error and restart on its own every once in awhile. This Chromebook is a 1000x faster than the old laptop. It's great for just a computer to have access to the internet. If you don't need much out of a laptop then this one is great, has a couple USB ports and an HDMI port as well as blue tooth ability. I also like how the screen is less reflective so it has less glare. Overall, great product for the short time I have had it!-->0\n",
    "\n",
    "\n",
    "Given the following review, please return the judgement result:'''\n",
    "\n",
    "output_prompt = \"\"\n",
    "for _,row in df_valid.iterrows():\n",
    "    cur_label = row['label']\n",
    "    cur_text = row['sentence1']\n",
    "    cur_data = {}\n",
    "    cur_data['instruction'] = prompt\n",
    "    cur_data['input'] = cur_text\n",
    "    cur_data['output'] = output_prompt + str(cur_label)\n",
    "    valid_array.append(cur_data)\n",
    "    \n",
    "    \n",
    "    \n",
    "\n",
    "for _,row in df_train.iterrows():\n",
    "    cur_label = row['label']\n",
    "    cur_text = row['sentence1']\n",
    "    cur_data = {}\n",
    "    cur_data['instruction'] = prompt\n",
    "    cur_data['input'] = cur_text\n",
    "    cur_data['output'] = output_prompt + str(cur_label)\n",
    "    train_array.append(cur_data)\n",
    "    \n",
    "print(len(train_array),len(valid_array))\n",
    "\n",
    "valid_array[23]"
   ]
  },
  {
   "cell_type": "code",
   "execution_count": 93,
   "metadata": {},
   "outputs": [],
   "source": [
    "with open('../data/valid_prompt1.json', 'w') as f:\n",
    "    json.dump(valid_array, f, ensure_ascii=True)\n",
    "    \n",
    "with open('../data/train_prompt1.json', 'w') as f:\n",
    "    json.dump(train_array, f, ensure_ascii=True)"
   ]
  },
  {
   "cell_type": "code",
   "execution_count": 44,
   "metadata": {
    "scrolled": true
   },
   "outputs": [
    {
     "data": {
      "text/plain": [
       "[{'instruction': \"Given a computer purchase review data from an e-commerce platform, determine whether the review data contains new requirements. New requirements indicate features that the computer does not currently have. Return 1 (contains new requirements) or 0 (does not contain new requirements).\\nHere are some examples:\\n\\nThe computer runs fast, but the cooling is lacking. It would be great if it could use a freeze-like technology to cool down in a second. And then there is the screen quality is not good, cracks appeared without much use.\\t1\\nThis computer has a great processing speed and the design is sleek, but the battery life leaves a lot to be desired. I hope in the future they could incorporate solar charging features so I could work all day without worrying about running out of power.\\t1\\nThe laptop is a great choice for people who want a portable gaming experience, though there are a few problems. First, the laptop will get loud/hot very fast on newer games unless you lower the quality a lot. Second, the touchpad is sensitive and you'll find yourself accidently clicking things from time to time. Third, the people who shipped my laptop didn't have a sticker on the package warning about the lithium batteries as well as didn't even put any bubble wrap to keep the laptop safe. Finally, the battery life only last a few hours so you'll have to charge regularly. Other than that, the laptop works great and can play any game I throw at it. I would recommend it to anyone who wants an affordable gaming experience\\t0\\ni had to buy this for school but honestly the m1 is a better value, especially refurbished or used. if all you'll be doing is schoolwork, youtube, spotify and mail, this laptop does not feel worth 1000 bucks. i'm too lazy to return it at this point but if i could pick again i would've bought the cheaper m1 macbooks.\\t0\\n\\nGiven the following reviews, please return the judgement result:\",\n",
       "  'input': \"What I don't like is that every few months there's an update which crashes my computer. Up until now I fixed it with recover. At this point, 6 months in, it is totally crashed with a stop code. I'm trying to get support but the serial number are these tiny numbers on the motherboard which don't distinguish between 0 and 0. I am so disappointed in this product!\",\n",
       "  'output': 'The result is: 0'},\n",
       " {'instruction': \"Given a computer purchase review data from an e-commerce platform, determine whether the review data contains new requirements. New requirements indicate features that the computer does not currently have. Return 1 (contains new requirements) or 0 (does not contain new requirements).\\nHere are some examples:\\n\\nThe computer runs fast, but the cooling is lacking. It would be great if it could use a freeze-like technology to cool down in a second. And then there is the screen quality is not good, cracks appeared without much use.\\t1\\nThis computer has a great processing speed and the design is sleek, but the battery life leaves a lot to be desired. I hope in the future they could incorporate solar charging features so I could work all day without worrying about running out of power.\\t1\\nThe laptop is a great choice for people who want a portable gaming experience, though there are a few problems. First, the laptop will get loud/hot very fast on newer games unless you lower the quality a lot. Second, the touchpad is sensitive and you'll find yourself accidently clicking things from time to time. Third, the people who shipped my laptop didn't have a sticker on the package warning about the lithium batteries as well as didn't even put any bubble wrap to keep the laptop safe. Finally, the battery life only last a few hours so you'll have to charge regularly. Other than that, the laptop works great and can play any game I throw at it. I would recommend it to anyone who wants an affordable gaming experience\\t0\\ni had to buy this for school but honestly the m1 is a better value, especially refurbished or used. if all you'll be doing is schoolwork, youtube, spotify and mail, this laptop does not feel worth 1000 bucks. i'm too lazy to return it at this point but if i could pick again i would've bought the cheaper m1 macbooks.\\t0\\n\\nGiven the following reviews, please return the judgement result:\",\n",
       "  'input': 'I am not sure about gaming. We are just using it for school',\n",
       "  'output': 'The result is: 0'},\n",
       " {'instruction': \"Given a computer purchase review data from an e-commerce platform, determine whether the review data contains new requirements. New requirements indicate features that the computer does not currently have. Return 1 (contains new requirements) or 0 (does not contain new requirements).\\nHere are some examples:\\n\\nThe computer runs fast, but the cooling is lacking. It would be great if it could use a freeze-like technology to cool down in a second. And then there is the screen quality is not good, cracks appeared without much use.\\t1\\nThis computer has a great processing speed and the design is sleek, but the battery life leaves a lot to be desired. I hope in the future they could incorporate solar charging features so I could work all day without worrying about running out of power.\\t1\\nThe laptop is a great choice for people who want a portable gaming experience, though there are a few problems. First, the laptop will get loud/hot very fast on newer games unless you lower the quality a lot. Second, the touchpad is sensitive and you'll find yourself accidently clicking things from time to time. Third, the people who shipped my laptop didn't have a sticker on the package warning about the lithium batteries as well as didn't even put any bubble wrap to keep the laptop safe. Finally, the battery life only last a few hours so you'll have to charge regularly. Other than that, the laptop works great and can play any game I throw at it. I would recommend it to anyone who wants an affordable gaming experience\\t0\\ni had to buy this for school but honestly the m1 is a better value, especially refurbished or used. if all you'll be doing is schoolwork, youtube, spotify and mail, this laptop does not feel worth 1000 bucks. i'm too lazy to return it at this point but if i could pick again i would've bought the cheaper m1 macbooks.\\t0\\n\\nGiven the following reviews, please return the judgement result:\",\n",
       "  'input': 'the fans do get loud on turbo mode',\n",
       "  'output': 'The result is: 0'},\n",
       " {'instruction': \"Given a computer purchase review data from an e-commerce platform, determine whether the review data contains new requirements. New requirements indicate features that the computer does not currently have. Return 1 (contains new requirements) or 0 (does not contain new requirements).\\nHere are some examples:\\n\\nThe computer runs fast, but the cooling is lacking. It would be great if it could use a freeze-like technology to cool down in a second. And then there is the screen quality is not good, cracks appeared without much use.\\t1\\nThis computer has a great processing speed and the design is sleek, but the battery life leaves a lot to be desired. I hope in the future they could incorporate solar charging features so I could work all day without worrying about running out of power.\\t1\\nThe laptop is a great choice for people who want a portable gaming experience, though there are a few problems. First, the laptop will get loud/hot very fast on newer games unless you lower the quality a lot. Second, the touchpad is sensitive and you'll find yourself accidently clicking things from time to time. Third, the people who shipped my laptop didn't have a sticker on the package warning about the lithium batteries as well as didn't even put any bubble wrap to keep the laptop safe. Finally, the battery life only last a few hours so you'll have to charge regularly. Other than that, the laptop works great and can play any game I throw at it. I would recommend it to anyone who wants an affordable gaming experience\\t0\\ni had to buy this for school but honestly the m1 is a better value, especially refurbished or used. if all you'll be doing is schoolwork, youtube, spotify and mail, this laptop does not feel worth 1000 bucks. i'm too lazy to return it at this point but if i could pick again i would've bought the cheaper m1 macbooks.\\t0\\n\\nGiven the following reviews, please return the judgement result:\",\n",
       "  'input': 'had this laptop for around 3 weeks now and it is running very well. almost every game I have runs extremely fast. definitely recommended.pros:- i7-10th gen processor and a full RTX 2070 GPU- 144hz display- great keyboard- very sturdy- comes with a program that monitors the laptop and allows you to overclock- can change to a battery \"eco\" mode in the built-in program that prolongs the battery life greatly (game performance is really bad while in this mode though, so its only good for light work)cons:- battery drains really quickly while gaming- fans can be loud but this is the case for all laptops around this price range- mediocre speakers',\n",
       "  'output': 'The result is: 0'},\n",
       " {'instruction': \"Given a computer purchase review data from an e-commerce platform, determine whether the review data contains new requirements. New requirements indicate features that the computer does not currently have. Return 1 (contains new requirements) or 0 (does not contain new requirements).\\nHere are some examples:\\n\\nThe computer runs fast, but the cooling is lacking. It would be great if it could use a freeze-like technology to cool down in a second. And then there is the screen quality is not good, cracks appeared without much use.\\t1\\nThis computer has a great processing speed and the design is sleek, but the battery life leaves a lot to be desired. I hope in the future they could incorporate solar charging features so I could work all day without worrying about running out of power.\\t1\\nThe laptop is a great choice for people who want a portable gaming experience, though there are a few problems. First, the laptop will get loud/hot very fast on newer games unless you lower the quality a lot. Second, the touchpad is sensitive and you'll find yourself accidently clicking things from time to time. Third, the people who shipped my laptop didn't have a sticker on the package warning about the lithium batteries as well as didn't even put any bubble wrap to keep the laptop safe. Finally, the battery life only last a few hours so you'll have to charge regularly. Other than that, the laptop works great and can play any game I throw at it. I would recommend it to anyone who wants an affordable gaming experience\\t0\\ni had to buy this for school but honestly the m1 is a better value, especially refurbished or used. if all you'll be doing is schoolwork, youtube, spotify and mail, this laptop does not feel worth 1000 bucks. i'm too lazy to return it at this point but if i could pick again i would've bought the cheaper m1 macbooks.\\t0\\n\\nGiven the following reviews, please return the judgement result:\",\n",
       "  'input': 'Customer Service is to be commended , they immediately reached out to me via email to notify me of their free offer of a laptop bag.',\n",
       "  'output': 'The result is: 0'}]"
      ]
     },
     "execution_count": 44,
     "metadata": {},
     "output_type": "execute_result"
    }
   ],
   "source": [
    "with open('../data/valid_prompt1.json', 'r') as f:\n",
    "    res = json.load(f)\n",
    "    \n",
    "res[:5]"
   ]
  },
  {
   "cell_type": "code",
   "execution_count": 9,
   "metadata": {
    "pycharm": {
     "name": "#%%\n"
    }
   },
   "outputs": [],
   "source": [
    "df = pd.read_excel('data/novel_sentence.xlsx', header=None)"
   ]
  },
  {
   "cell_type": "code",
   "execution_count": 13,
   "metadata": {
    "pycharm": {
     "name": "#%%\n"
    }
   },
   "outputs": [
    {
     "data": {
      "text/html": [
       "<div>\n",
       "<style scoped>\n",
       "    .dataframe tbody tr th:only-of-type {\n",
       "        vertical-align: middle;\n",
       "    }\n",
       "\n",
       "    .dataframe tbody tr th {\n",
       "        vertical-align: top;\n",
       "    }\n",
       "\n",
       "    .dataframe thead th {\n",
       "        text-align: right;\n",
       "    }\n",
       "</style>\n",
       "<table border=\"1\" class=\"dataframe\">\n",
       "  <thead>\n",
       "    <tr style=\"text-align: right;\">\n",
       "      <th></th>\n",
       "      <th>0</th>\n",
       "    </tr>\n",
       "  </thead>\n",
       "  <tbody>\n",
       "    <tr>\n",
       "      <th>0</th>\n",
       "      <td>I wish on the PSU there would have been a USB ...</td>\n",
       "    </tr>\n",
       "    <tr>\n",
       "      <th>1</th>\n",
       "      <td>I do wish that there was a windows hello enabl...</td>\n",
       "    </tr>\n",
       "    <tr>\n",
       "      <th>2</th>\n",
       "      <td>Wish it had another thunderbolt 3 port</td>\n",
       "    </tr>\n",
       "    <tr>\n",
       "      <th>3</th>\n",
       "      <td>I wanted a new machine that was lighter, had b...</td>\n",
       "    </tr>\n",
       "    <tr>\n",
       "      <th>4</th>\n",
       "      <td>Wish it had more memory and a card reader</td>\n",
       "    </tr>\n",
       "    <tr>\n",
       "      <th>5</th>\n",
       "      <td>I would have been fine with a longer space bar.</td>\n",
       "    </tr>\n",
       "    <tr>\n",
       "      <th>6</th>\n",
       "      <td>I wanted a powerhouse that was light and fast.</td>\n",
       "    </tr>\n",
       "    <tr>\n",
       "      <th>7</th>\n",
       "      <td>Wish it had one more thunderbolt port instead ...</td>\n",
       "    </tr>\n",
       "    <tr>\n",
       "      <th>8</th>\n",
       "      <td>I needed something small for work and travel, ...</td>\n",
       "    </tr>\n",
       "    <tr>\n",
       "      <th>9</th>\n",
       "      <td>It could've been really nice if it had double ...</td>\n",
       "    </tr>\n",
       "    <tr>\n",
       "      <th>10</th>\n",
       "      <td>it would've been great if it came with the Eth...</td>\n",
       "    </tr>\n",
       "    <tr>\n",
       "      <th>11</th>\n",
       "      <td>It would have been ergonomically nice to have ...</td>\n",
       "    </tr>\n",
       "    <tr>\n",
       "      <th>12</th>\n",
       "      <td>If AORUS offers two AC adapters to end user wi...</td>\n",
       "    </tr>\n",
       "    <tr>\n",
       "      <th>13</th>\n",
       "      <td>It would be better if the screen is foldable, ...</td>\n",
       "    </tr>\n",
       "    <tr>\n",
       "      <th>14</th>\n",
       "      <td>I still think an even powerful laptop is neede...</td>\n",
       "    </tr>\n",
       "    <tr>\n",
       "      <th>15</th>\n",
       "      <td>The weight should be under 1.8kg so I can carr...</td>\n",
       "    </tr>\n",
       "    <tr>\n",
       "      <th>16</th>\n",
       "      <td>This is the smallest laptop I can find, but I ...</td>\n",
       "    </tr>\n",
       "    <tr>\n",
       "      <th>17</th>\n",
       "      <td>If it is foldable and can be put in my pocket,...</td>\n",
       "    </tr>\n",
       "    <tr>\n",
       "      <th>18</th>\n",
       "      <td>If a laptop has mechanical keyboard, I would d...</td>\n",
       "    </tr>\n",
       "    <tr>\n",
       "      <th>19</th>\n",
       "      <td>Maybe a laptop with multiple foldable screens ...</td>\n",
       "    </tr>\n",
       "    <tr>\n",
       "      <th>20</th>\n",
       "      <td>I would like to see some real Mini LED laptop ...</td>\n",
       "    </tr>\n",
       "    <tr>\n",
       "      <th>21</th>\n",
       "      <td>I would like super-speedy 300Hz or higher refr...</td>\n",
       "    </tr>\n",
       "    <tr>\n",
       "      <th>22</th>\n",
       "      <td>I want the laptop with good speaker and profes...</td>\n",
       "    </tr>\n",
       "    <tr>\n",
       "      <th>23</th>\n",
       "      <td>It would be fantastic if the laptop has a proj...</td>\n",
       "    </tr>\n",
       "    <tr>\n",
       "      <th>24</th>\n",
       "      <td>It would be fantastic if the laptop is foldabl...</td>\n",
       "    </tr>\n",
       "    <tr>\n",
       "      <th>25</th>\n",
       "      <td>Can we consider developing a laptop with water...</td>\n",
       "    </tr>\n",
       "    <tr>\n",
       "      <th>26</th>\n",
       "      <td>It's perfect to turn its components into modul...</td>\n",
       "    </tr>\n",
       "    <tr>\n",
       "      <th>27</th>\n",
       "      <td>It would be better if it could have cool light...</td>\n",
       "    </tr>\n",
       "    <tr>\n",
       "      <th>28</th>\n",
       "      <td>Is there a laptop that can connect more devices?</td>\n",
       "    </tr>\n",
       "    <tr>\n",
       "      <th>29</th>\n",
       "      <td>If the sound quality can reach the standard of...</td>\n",
       "    </tr>\n",
       "  </tbody>\n",
       "</table>\n",
       "</div>"
      ],
      "text/plain": [
       "                                                    0\n",
       "0   I wish on the PSU there would have been a USB ...\n",
       "1   I do wish that there was a windows hello enabl...\n",
       "2              Wish it had another thunderbolt 3 port\n",
       "3   I wanted a new machine that was lighter, had b...\n",
       "4           Wish it had more memory and a card reader\n",
       "5     I would have been fine with a longer space bar.\n",
       "6      I wanted a powerhouse that was light and fast.\n",
       "7   Wish it had one more thunderbolt port instead ...\n",
       "8   I needed something small for work and travel, ...\n",
       "9   It could've been really nice if it had double ...\n",
       "10  it would've been great if it came with the Eth...\n",
       "11  It would have been ergonomically nice to have ...\n",
       "12  If AORUS offers two AC adapters to end user wi...\n",
       "13  It would be better if the screen is foldable, ...\n",
       "14  I still think an even powerful laptop is neede...\n",
       "15  The weight should be under 1.8kg so I can carr...\n",
       "16  This is the smallest laptop I can find, but I ...\n",
       "17  If it is foldable and can be put in my pocket,...\n",
       "18  If a laptop has mechanical keyboard, I would d...\n",
       "19  Maybe a laptop with multiple foldable screens ...\n",
       "20  I would like to see some real Mini LED laptop ...\n",
       "21  I would like super-speedy 300Hz or higher refr...\n",
       "22  I want the laptop with good speaker and profes...\n",
       "23  It would be fantastic if the laptop has a proj...\n",
       "24  It would be fantastic if the laptop is foldabl...\n",
       "25  Can we consider developing a laptop with water...\n",
       "26  It's perfect to turn its components into modul...\n",
       "27  It would be better if it could have cool light...\n",
       "28   Is there a laptop that can connect more devices?\n",
       "29  If the sound quality can reach the standard of..."
      ]
     },
     "execution_count": 13,
     "metadata": {},
     "output_type": "execute_result"
    }
   ],
   "source": [
    "df"
   ]
  },
  {
   "cell_type": "code",
   "execution_count": 14,
   "metadata": {
    "pycharm": {
     "name": "#%%\n"
    }
   },
   "outputs": [
    {
     "name": "stdout",
     "output_type": "stream",
     "text": [
      "novel need: I wish on the PSU there would have been a USB port.\n",
      "novel need: I do wish that there was a windows hello enabled camera or a fingerprint reader.\n",
      "novel need: Wish it had another thunderbolt 3 port\n",
      "novel need: I wanted a new machine that was lighter, had better battery life and was just as powerful for my gaming needs\n",
      "novel need: Wish it had more memory and a card reader\n",
      "novel need: I would have been fine with a longer space bar.\n",
      "novel need: I wanted a powerhouse that was light and fast.\n",
      "novel need: Wish it had one more thunderbolt port instead of that mini display port\n",
      "novel need: I needed something small for work and travel, but strong enough to do light gaming, preferably heavy gaming.\n",
      "novel need: It could've been really nice if it had double slots for the storage.\n"
     ]
    }
   ],
   "source": [
    "for i in range(10):\n",
    "    print(\"novel need: \" + df[0].iloc[i])"
   ]
  },
  {
   "cell_type": "code",
   "execution_count": null,
   "metadata": {},
   "outputs": [],
   "source": []
  },
  {
   "cell_type": "markdown",
   "metadata": {},
   "source": [
    "## Data statistic"
   ]
  },
  {
   "cell_type": "code",
   "execution_count": 2,
   "metadata": {},
   "outputs": [
    {
     "name": "stderr",
     "output_type": "stream",
     "text": [
      "/var/folders/d8/2y_jk5rx6hqfkxl1fjgh5lwh0000gn/T/ipykernel_9646/986036026.py:4: SettingWithCopyWarning: \n",
      "A value is trying to be set on a copy of a slice from a DataFrame\n",
      "\n",
      "See the caveats in the documentation: https://pandas.pydata.org/pandas-docs/stable/user_guide/indexing.html#returning-a-view-versus-a-copy\n",
      "  df_need_gv1.dropna(inplace=True)\n",
      "/var/folders/d8/2y_jk5rx6hqfkxl1fjgh5lwh0000gn/T/ipykernel_9646/986036026.py:5: SettingWithCopyWarning: \n",
      "A value is trying to be set on a copy of a slice from a DataFrame\n",
      "\n",
      "See the caveats in the documentation: https://pandas.pydata.org/pandas-docs/stable/user_guide/indexing.html#returning-a-view-versus-a-copy\n",
      "  df_need_gv2.dropna(inplace=True)\n"
     ]
    }
   ],
   "source": [
    "df_need = pd.read_excel('../data/new_novel_need.xlsx')\n",
    "df_need_gv1 = df_need[['generate_v1']]\n",
    "df_need_gv2 = df_need[['generate_v2']]\n",
    "df_need_gv1.dropna(inplace=True)\n",
    "df_need_gv2.dropna(inplace=True)"
   ]
  },
  {
   "cell_type": "code",
   "execution_count": 3,
   "metadata": {
    "scrolled": false
   },
   "outputs": [
    {
     "name": "stdout",
     "output_type": "stream",
     "text": [
      "count     80.00000\n",
      "mean     284.11250\n",
      "std       67.42403\n",
      "min      166.00000\n",
      "25%      235.50000\n",
      "50%      283.50000\n",
      "75%      323.00000\n",
      "max      510.00000\n",
      "Name: len, dtype: float64\n"
     ]
    },
    {
     "name": "stderr",
     "output_type": "stream",
     "text": [
      "/var/folders/d8/2y_jk5rx6hqfkxl1fjgh5lwh0000gn/T/ipykernel_9646/1061950457.py:1: SettingWithCopyWarning: \n",
      "A value is trying to be set on a copy of a slice from a DataFrame.\n",
      "Try using .loc[row_indexer,col_indexer] = value instead\n",
      "\n",
      "See the caveats in the documentation: https://pandas.pydata.org/pandas-docs/stable/user_guide/indexing.html#returning-a-view-versus-a-copy\n",
      "  df_need_gv1['len'] = df_need_gv1['generate_v1'].apply(lambda x: len(x))\n",
      "/var/folders/d8/2y_jk5rx6hqfkxl1fjgh5lwh0000gn/T/ipykernel_9646/1061950457.py:4: SettingWithCopyWarning: \n",
      "A value is trying to be set on a copy of a slice from a DataFrame.\n",
      "Try using .loc[row_indexer,col_indexer] = value instead\n",
      "\n",
      "See the caveats in the documentation: https://pandas.pydata.org/pandas-docs/stable/user_guide/indexing.html#returning-a-view-versus-a-copy\n",
      "  df_need_gv2['len'] = df_need_gv2['generate_v2'].apply(lambda x: len(x))\n"
     ]
    },
    {
     "data": {
      "text/plain": [
       "count      98.000000\n",
       "mean      380.377551\n",
       "std       343.351958\n",
       "min        52.000000\n",
       "25%       222.000000\n",
       "50%       293.500000\n",
       "75%       337.000000\n",
       "max      2201.000000\n",
       "Name: len, dtype: float64"
      ]
     },
     "execution_count": 3,
     "metadata": {},
     "output_type": "execute_result"
    }
   ],
   "source": [
    "df_need_gv1['len'] = df_need_gv1['generate_v1'].apply(lambda x: len(x))\n",
    "print(df_need_gv1['len'].describe())\n",
    "\n",
    "df_need_gv2['len'] = df_need_gv2['generate_v2'].apply(lambda x: len(x))\n",
    "df_need_gv2['len'].describe()"
   ]
  },
  {
   "cell_type": "code",
   "execution_count": 4,
   "metadata": {},
   "outputs": [
    {
     "name": "stderr",
     "output_type": "stream",
     "text": [
      "/var/folders/d8/2y_jk5rx6hqfkxl1fjgh5lwh0000gn/T/ipykernel_9646/1790795437.py:2: SettingWithCopyWarning: \n",
      "A value is trying to be set on a copy of a slice from a DataFrame\n",
      "\n",
      "See the caveats in the documentation: https://pandas.pydata.org/pandas-docs/stable/user_guide/indexing.html#returning-a-view-versus-a-copy\n",
      "  df_need_ori.dropna(inplace=True)\n",
      "/var/folders/d8/2y_jk5rx6hqfkxl1fjgh5lwh0000gn/T/ipykernel_9646/1790795437.py:4: SettingWithCopyWarning: \n",
      "A value is trying to be set on a copy of a slice from a DataFrame.\n",
      "Try using .loc[row_indexer,col_indexer] = value instead\n",
      "\n",
      "See the caveats in the documentation: https://pandas.pydata.org/pandas-docs/stable/user_guide/indexing.html#returning-a-view-versus-a-copy\n",
      "  df_need_ori['len'] = df_need_ori['text'].apply(lambda x: len(x))\n"
     ]
    },
    {
     "data": {
      "text/plain": [
       "count     80.000000\n",
       "mean     116.837500\n",
       "std       71.002308\n",
       "min       33.000000\n",
       "25%       76.000000\n",
       "50%       96.000000\n",
       "75%      136.000000\n",
       "max      415.000000\n",
       "Name: len, dtype: float64"
      ]
     },
     "execution_count": 4,
     "metadata": {},
     "output_type": "execute_result"
    }
   ],
   "source": [
    "df_need_ori = df_need[['text']]\n",
    "df_need_ori.dropna(inplace=True)\n",
    "\n",
    "df_need_ori['len'] = df_need_ori['text'].apply(lambda x: len(x))\n",
    "df_need_ori['len'].describe()"
   ]
  },
  {
   "cell_type": "code",
   "execution_count": 5,
   "metadata": {
    "scrolled": true
   },
   "outputs": [
    {
     "data": {
      "text/plain": [
       "count    13317.000000\n",
       "mean       322.595930\n",
       "std        559.355036\n",
       "min          1.000000\n",
       "25%         61.000000\n",
       "50%        142.000000\n",
       "75%        355.000000\n",
       "max       9708.000000\n",
       "Name: len, dtype: float64"
      ]
     },
     "execution_count": 5,
     "metadata": {},
     "output_type": "execute_result"
    }
   ],
   "source": [
    "df_train = pd.read_csv('../data/novel_train_prompt1.csv')\n",
    "df_train.dropna(inplace=True)\n",
    "df_train['len'] = df_train['sentence1'].apply(lambda x: len(x))\n",
    "df_train['len'].describe()"
   ]
  },
  {
   "cell_type": "code",
   "execution_count": 54,
   "metadata": {},
   "outputs": [
    {
     "name": "stdout",
     "output_type": "stream",
     "text": [
      "This is a good PC for the money. I am predominantly using it for graphic design, and it allows me to use multiple applications at once with no lag. It is additionally good for gaming, as well as business use (it is my business laptop as well). Though built for gamers, this is an all around well made machine. Best part of the PC is it is FAST.I will note the fan is a little loud, but that isn't a surprise based on other reviews. Also, the battery life isn't great, but i keep it plugged in most of the time. Screen resolution and quality is good, though nothing to brag about compared to other laptops in the market today. Using multiple monitors it doesn't bother me much.I would recommend this computer as one of the best bang-for-your-buck purchases you can get in the market today.\n",
      "\n",
      "Bought one and 4 days after receiving it, it looked like first 2 pics upon booting. Replaced it and the last 2 pics are what the replacement looked like after a few days as well. It would not happen every time, but it would have that white line around the edge for maybe 30 min and would fade back to normal. More recently, the replacement won't turn on immediately after hitting power button. The screen stays black and no response for 15 minutes or so. I wanted to give it one more chance, because I haven't read about this happening to anyone else and I received these two laptops right before Amazon went out of stock, so I thought maybe I just got bad ones at the end but, unfortunately, Amazon can only provide a refund and are still out of stock.\n",
      "\n",
      "After sending back my other computer (an Acer) I paid the extra 100$ and got this guy for gaming. After 30 minutes of updates....It blew my mind how awesome this machine is. The keyboard lighting is fully customizable. It has overclock setting built in so you do not have to crash your computer a bunch of times to get it right. I play all my games on Ultra and it is 100fps+. I am so glad I went with the Predator and will be staying with this from now on. Also, I will be installing a 1tb SSD in the empty slot to add more space. Can't say enough good things about how light, stylish and out of the box ready for gaming it is!\n",
      "\n",
      "I use an XPS 17 as my workstation. For going places though, this super small laptop can do everything I need. It has 2 Thunderbolt 4 ports (USB C) and a micro-SD card reader. I use the reader with a 1TB micro-SD to store all my reference files. This makes the 512GB SSD more than adequate. My XPS 13 has 16GB ram which is more than enough for the purposes for which I use this machine. My only wish is if one had a 5G option so I would have to use a Hot Spot connection. The 1920x1200 display resolution is perfect. The XPS 13 is too small to really use 4K properly and battery life on 4K laptops is significantly less than these HD+ machines.\n",
      "\n"
     ]
    }
   ],
   "source": [
    "for sent in list(df_train[(df_train['len']>=300)]['sentence1'])[234:238]:\n",
    "    print(sent)\n",
    "    print()"
   ]
  },
  {
   "cell_type": "code",
   "execution_count": 4,
   "metadata": {},
   "outputs": [
    {
     "name": "stdout",
     "output_type": "stream",
     "text": [
      "324 3056\n"
     ]
    }
   ],
   "source": [
    "with open('../data/valid_prompt1_300.json', 'r') as f:\n",
    "    valid_array = json.load(f)\n",
    "\n",
    "with open('../data/train_prompt1_3000.json', 'r') as f:\n",
    "    train_array = json.load(f)\n",
    "    \n",
    "print(len(valid_array),len(train_array))"
   ]
  },
  {
   "cell_type": "code",
   "execution_count": 6,
   "metadata": {},
   "outputs": [],
   "source": [
    "neg_samples = []\n",
    "pos_samples = []\n",
    "\n",
    "for d in train_array:\n",
    "    if d['output'] == '0':\n",
    "        neg_samples.append(d['input'])\n",
    "    else:\n",
    "        pos_samples.append(d['input'])\n",
    "        \n",
    "for d in valid_array:\n",
    "    if d['output'] == '0':\n",
    "        neg_samples.append(d['input'])\n",
    "    else:\n",
    "        pos_samples.append(d['input'])"
   ]
  },
  {
   "cell_type": "code",
   "execution_count": 7,
   "metadata": {},
   "outputs": [
    {
     "data": {
      "text/html": [
       "<div>\n",
       "<style scoped>\n",
       "    .dataframe tbody tr th:only-of-type {\n",
       "        vertical-align: middle;\n",
       "    }\n",
       "\n",
       "    .dataframe tbody tr th {\n",
       "        vertical-align: top;\n",
       "    }\n",
       "\n",
       "    .dataframe thead th {\n",
       "        text-align: right;\n",
       "    }\n",
       "</style>\n",
       "<table border=\"1\" class=\"dataframe\">\n",
       "  <thead>\n",
       "    <tr style=\"text-align: right;\">\n",
       "      <th></th>\n",
       "      <th>pos_text</th>\n",
       "    </tr>\n",
       "  </thead>\n",
       "  <tbody>\n",
       "    <tr>\n",
       "      <th>0</th>\n",
       "      <td>The display features an anti-glare or matte fi...</td>\n",
       "    </tr>\n",
       "    <tr>\n",
       "      <th>1</th>\n",
       "      <td>The keyboard includes dedicated media keys and...</td>\n",
       "    </tr>\n",
       "    <tr>\n",
       "      <th>2</th>\n",
       "      <td>The built-in mini projector in this computer i...</td>\n",
       "    </tr>\n",
       "    <tr>\n",
       "      <th>3</th>\n",
       "      <td>A fully foldable laptop, including a foldable ...</td>\n",
       "    </tr>\n",
       "    <tr>\n",
       "      <th>4</th>\n",
       "      <td>This computer's alternative energy power sourc...</td>\n",
       "    </tr>\n",
       "  </tbody>\n",
       "</table>\n",
       "</div>"
      ],
      "text/plain": [
       "                                            pos_text\n",
       "0  The display features an anti-glare or matte fi...\n",
       "1  The keyboard includes dedicated media keys and...\n",
       "2  The built-in mini projector in this computer i...\n",
       "3  A fully foldable laptop, including a foldable ...\n",
       "4  This computer's alternative energy power sourc..."
      ]
     },
     "execution_count": 7,
     "metadata": {},
     "output_type": "execute_result"
    }
   ],
   "source": [
    "df_pos = pd.DataFrame.from_dict({'pos_text':pos_samples})\n",
    "df_neg = pd.DataFrame.from_dict({'neg_text':neg_samples})\n",
    "df_pos.head()"
   ]
  },
  {
   "cell_type": "code",
   "execution_count": 48,
   "metadata": {},
   "outputs": [
    {
     "data": {
      "text/plain": [
       "['The keyboard comes with customizable backlighting and macros, letting you tailor your typing experience to your preferences and needs, in line with the 2018 standard for keyboards.',\n",
       " 'Thanks to its edge-detection technology, the touchscreen intelligently distinguishes between intentional touches and accidental ones.',\n",
       " 'The fanless architecture of this computer is a blessing for those who prefer a completely silent working environment.',\n",
       " \"Experience a new depth of viewing with the device's 3-Dimensional mode, which brings your images to life on the touchscreen.\",\n",
       " 'As blockchain technology rises, the integration of distributed computing frameworks in computers could be a game changer. This would allow for decentralized processing and secure data storage, enabling faster and more reliable data processing, enhancing privacy and security, and supporting decentralized applications across various industries.',\n",
       " 'A fantastic addition that AORUS could offer would be two AC adapters. This would be a truly beneficial inclusion for end users.',\n",
       " 'This laptop comes with an onboard document reader, scanner, and photo editor, providing a comprehensive suite of tools for productivity.',\n",
       " 'A fully foldable laptop, including a foldable screen and keyboard, would be a phenomenal innovation. The ability to fold it into a small pack that fits into a pocket would redefine portability.',\n",
       " 'The idea of computers supporting wireless charging for peripherals and mobile devices is just brilliant. It would eliminate the need for cables and provide convenient power transfer. Say goodbye to tangled cords and hello to hassle-free charging.',\n",
       " 'The device offers interactive tutorials that guide you step-by-step on the touchscreen, simplifying the learning curve.']"
      ]
     },
     "execution_count": 48,
     "metadata": {},
     "output_type": "execute_result"
    }
   ],
   "source": [
    "df_add_noise = df_pos.sample(n=10)\n",
    "list(df_add_noise.pos_text)"
   ]
  },
  {
   "cell_type": "code",
   "execution_count": 20,
   "metadata": {
    "scrolled": true
   },
   "outputs": [
    {
     "data": {
      "text/plain": [
       "count     80.000000\n",
       "mean     156.950000\n",
       "std       83.257706\n",
       "min       61.000000\n",
       "25%      104.750000\n",
       "50%      127.000000\n",
       "75%      165.500000\n",
       "max      469.000000\n",
       "Name: len, dtype: float64"
      ]
     },
     "execution_count": 20,
     "metadata": {},
     "output_type": "execute_result"
    }
   ],
   "source": [
    "df_pos['len'] = df_pos['pos_text'].apply(lambda x: len(x))\n",
    "df_pos['len'].describe()"
   ]
  },
  {
   "cell_type": "code",
   "execution_count": 15,
   "metadata": {
    "scrolled": true
   },
   "outputs": [
    {
     "data": {
      "text/plain": [
       "count    3300.00000\n",
       "mean      313.87697\n",
       "std       550.16564\n",
       "min         1.00000\n",
       "25%        61.00000\n",
       "50%       141.50000\n",
       "75%       341.25000\n",
       "max      8356.00000\n",
       "Name: len, dtype: float64"
      ]
     },
     "execution_count": 15,
     "metadata": {},
     "output_type": "execute_result"
    }
   ],
   "source": [
    "df_neg['len'] = df_neg['neg_text'].apply(lambda x: len(x))\n",
    "df_neg['len'].describe()"
   ]
  },
  {
   "cell_type": "code",
   "execution_count": 58,
   "metadata": {
    "scrolled": false
   },
   "outputs": [
    {
     "data": {
      "text/plain": [
       "\"First time owning a MacBook, I didn't want to cheap out on a good computer for school so I chose this and it does not fail to deliver. Very responsive and runs smooth when operating, I even don't mind using it without a mouse as it's trackpad is excellent. Crazy how this thing is so quiet. Very happy with the purchase!\""
      ]
     },
     "execution_count": 58,
     "metadata": {},
     "output_type": "execute_result"
    }
   ],
   "source": [
    "df_neg[(df_neg['len']>=300)]['neg_text'].iloc[544]"
   ]
  },
  {
   "cell_type": "code",
   "execution_count": 24,
   "metadata": {},
   "outputs": [
    {
     "data": {
      "text/html": [
       "<div>\n",
       "<style scoped>\n",
       "    .dataframe tbody tr th:only-of-type {\n",
       "        vertical-align: middle;\n",
       "    }\n",
       "\n",
       "    .dataframe tbody tr th {\n",
       "        vertical-align: top;\n",
       "    }\n",
       "\n",
       "    .dataframe thead th {\n",
       "        text-align: right;\n",
       "    }\n",
       "</style>\n",
       "<table border=\"1\" class=\"dataframe\">\n",
       "  <thead>\n",
       "    <tr style=\"text-align: right;\">\n",
       "      <th></th>\n",
       "      <th>neg_text</th>\n",
       "      <th>len</th>\n",
       "    </tr>\n",
       "  </thead>\n",
       "  <tbody>\n",
       "    <tr>\n",
       "      <th>1860</th>\n",
       "      <td>I bought this product in May 2018. This past w...</td>\n",
       "      <td>523</td>\n",
       "    </tr>\n",
       "    <tr>\n",
       "      <th>1366</th>\n",
       "      <td>Need alot of patience for the processor speed....</td>\n",
       "      <td>401</td>\n",
       "    </tr>\n",
       "    <tr>\n",
       "      <th>107</th>\n",
       "      <td>This CB5-571-C910 15 inch 4 gigs of ram is a d...</td>\n",
       "      <td>681</td>\n",
       "    </tr>\n",
       "    <tr>\n",
       "      <th>1293</th>\n",
       "      <td>Only issue is the lack of space</td>\n",
       "      <td>31</td>\n",
       "    </tr>\n",
       "    <tr>\n",
       "      <th>177</th>\n",
       "      <td>The GPU typically has low temperatures and I c...</td>\n",
       "      <td>121</td>\n",
       "    </tr>\n",
       "    <tr>\n",
       "      <th>...</th>\n",
       "      <td>...</td>\n",
       "      <td>...</td>\n",
       "    </tr>\n",
       "    <tr>\n",
       "      <th>49</th>\n",
       "      <td>Love the back-lit keyboard in red</td>\n",
       "      <td>33</td>\n",
       "    </tr>\n",
       "    <tr>\n",
       "      <th>2223</th>\n",
       "      <td>This is a perfect little laptop for travel or ...</td>\n",
       "      <td>266</td>\n",
       "    </tr>\n",
       "    <tr>\n",
       "      <th>1873</th>\n",
       "      <td>had the computer 3 months. USB already stopped...</td>\n",
       "      <td>55</td>\n",
       "    </tr>\n",
       "    <tr>\n",
       "      <th>2152</th>\n",
       "      <td>This computer runs incredibly slow. If someone...</td>\n",
       "      <td>149</td>\n",
       "    </tr>\n",
       "    <tr>\n",
       "      <th>222</th>\n",
       "      <td>THIS PRODUCT IS ABSOLUTE GARBAGE. If I could g...</td>\n",
       "      <td>148</td>\n",
       "    </tr>\n",
       "  </tbody>\n",
       "</table>\n",
       "<p>1000 rows × 2 columns</p>\n",
       "</div>"
      ],
      "text/plain": [
       "                                               neg_text  len\n",
       "1860  I bought this product in May 2018. This past w...  523\n",
       "1366  Need alot of patience for the processor speed....  401\n",
       "107   This CB5-571-C910 15 inch 4 gigs of ram is a d...  681\n",
       "1293                    Only issue is the lack of space   31\n",
       "177   The GPU typically has low temperatures and I c...  121\n",
       "...                                                 ...  ...\n",
       "49                    Love the back-lit keyboard in red   33\n",
       "2223  This is a perfect little laptop for travel or ...  266\n",
       "1873  had the computer 3 months. USB already stopped...   55\n",
       "2152  This computer runs incredibly slow. If someone...  149\n",
       "222   THIS PRODUCT IS ABSOLUTE GARBAGE. If I could g...  148\n",
       "\n",
       "[1000 rows x 2 columns]"
      ]
     },
     "execution_count": 24,
     "metadata": {},
     "output_type": "execute_result"
    }
   ],
   "source": [
    "df_sample = pd.read_pickle('../data/gpt_infer_neg.pkl')\n",
    "df_sample"
   ]
  },
  {
   "cell_type": "code",
   "execution_count": null,
   "metadata": {},
   "outputs": [],
   "source": []
  },
  {
   "cell_type": "code",
   "execution_count": 31,
   "metadata": {},
   "outputs": [],
   "source": [
    "pos_res = pd.read_pickle('../generate_v2_novel_need_result.pkl')\n",
    "neg_res = pd.read_pickle('../gpt_infer_neg_100_result.pkl')"
   ]
  },
  {
   "cell_type": "code",
   "execution_count": 42,
   "metadata": {},
   "outputs": [],
   "source": [
    "neg_res = [d[1] for d in neg_res]"
   ]
  },
  {
   "cell_type": "code",
   "execution_count": 48,
   "metadata": {},
   "outputs": [],
   "source": [
    "neg_tmp = neg_res[:8]+neg_res[9:]"
   ]
  },
  {
   "cell_type": "code",
   "execution_count": 56,
   "metadata": {},
   "outputs": [
    {
     "name": "stdout",
     "output_type": "stream",
     "text": [
      "36\n",
      "98\n"
     ]
    },
    {
     "data": {
      "text/plain": [
       "(None, None)"
      ]
     },
     "execution_count": 56,
     "metadata": {},
     "output_type": "execute_result"
    }
   ],
   "source": [
    "neg_process = neg_tmp[:14] + neg_tmp[15:]\n",
    "print(sum([int(d) for d in neg_process])), print(len([int(d) for d in neg_process]))"
   ]
  },
  {
   "cell_type": "code",
   "execution_count": 57,
   "metadata": {},
   "outputs": [
    {
     "name": "stdout",
     "output_type": "stream",
     "text": [
      "88\n",
      "91\n"
     ]
    },
    {
     "data": {
      "text/plain": [
       "(None, None)"
      ]
     },
     "execution_count": 57,
     "metadata": {},
     "output_type": "execute_result"
    }
   ],
   "source": [
    "print(sum([int(d[1]) for d in pos_res])), print(len([int(d[1]) for d in pos_res]))"
   ]
  }
 ],
 "metadata": {
  "kernelspec": {
   "display_name": "Python 3 (ipykernel)",
   "language": "python",
   "name": "python3"
  },
  "language_info": {
   "codemirror_mode": {
    "name": "ipython",
    "version": 3
   },
   "file_extension": ".py",
   "mimetype": "text/x-python",
   "name": "python",
   "nbconvert_exporter": "python",
   "pygments_lexer": "ipython3",
   "version": "3.8.16"
  }
 },
 "nbformat": 4,
 "nbformat_minor": 1
}
