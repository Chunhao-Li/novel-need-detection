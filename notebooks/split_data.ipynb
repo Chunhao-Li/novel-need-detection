{
 "cells": [
  {
   "cell_type": "code",
   "execution_count": 63,
   "metadata": {
    "collapsed": true,
    "pycharm": {
     "name": "#%%\n"
    }
   },
   "outputs": [],
   "source": [
    "from sklearn.model_selection import train_test_split\n",
    "import pandas as pd"
   ]
  },
  {
   "cell_type": "code",
   "execution_count": 64,
   "outputs": [],
   "source": [
    "# df = pd.read_csv('data/novel_test_modified.csv')\n",
    "# df.head()"
   ],
   "metadata": {
    "collapsed": false,
    "pycharm": {
     "name": "#%%\n"
    }
   }
  },
  {
   "cell_type": "markdown",
   "source": [],
   "metadata": {
    "collapsed": false,
    "pycharm": {
     "name": "#%% md\n"
    }
   }
  },
  {
   "cell_type": "code",
   "execution_count": 65,
   "outputs": [],
   "source": [
    "df_neg = pd.read_excel('data/annotation_sentence.xlsx')"
   ],
   "metadata": {
    "collapsed": false,
    "pycharm": {
     "name": "#%%\n"
    }
   }
  },
  {
   "cell_type": "code",
   "execution_count": 66,
   "outputs": [
    {
     "name": "stdout",
     "output_type": "stream",
     "text": [
      "2135\n"
     ]
    },
    {
     "data": {
      "text/plain": "['the power brick is big and clunky and the transformer is on the end.',\n 'It feels a little flimsy',\n 'Battery is on the rather weak end of the laptop and the display of 120hz kind of goes to waste with newer title']"
     },
     "execution_count": 66,
     "metadata": {},
     "output_type": "execute_result"
    }
   ],
   "source": [
    "neg_sentences = []\n",
    "for _,row in df_neg.iterrows():\n",
    "    for col in df_neg.columns:\n",
    "        if isinstance(row[col], str):\n",
    "            neg_sentences.append(row[col])\n",
    "neg_sentences = list(set(neg_sentences))\n",
    "print(len(neg_sentences))\n",
    "neg_labels = [0]*len(neg_sentences)\n",
    "neg_sentences[:3]"
   ],
   "metadata": {
    "collapsed": false,
    "pycharm": {
     "name": "#%%\n"
    }
   }
  },
  {
   "cell_type": "code",
   "execution_count": 67,
   "outputs": [],
   "source": [
    "df_new = pd.read_excel('data/new_novel_need.xlsx')"
   ],
   "metadata": {
    "collapsed": false,
    "pycharm": {
     "name": "#%%\n"
    }
   }
  },
  {
   "cell_type": "code",
   "execution_count": 68,
   "outputs": [
    {
     "name": "stdout",
     "output_type": "stream",
     "text": [
      "80\n"
     ]
    }
   ],
   "source": [
    "pos_sentences = []\n",
    "\n",
    "for _,row in df_new.iterrows():\n",
    "    pos_sentences.append(row['text'])\n",
    "print(len(pos_sentences))\n",
    "pos_labels = [1]*len(pos_sentences)"
   ],
   "metadata": {
    "collapsed": false,
    "pycharm": {
     "name": "#%%\n"
    }
   }
  },
  {
   "cell_type": "code",
   "execution_count": 69,
   "outputs": [
    {
     "name": "stdout",
     "output_type": "stream",
     "text": [
      "0    431\n",
      "1     12\n",
      "Name: label, dtype: int64\n",
      "0    1704\n",
      "1      68\n",
      "Name: label, dtype: int64\n"
     ]
    }
   ],
   "source": [
    "df = pd.DataFrame.from_dict({'sentence1':pos_sentences+neg_sentences, 'label': pos_labels+neg_labels})\n",
    "df = df.sample(n=len(df))\n",
    "\n",
    "df['label'].value_counts()\n",
    "df_train, df_valid = train_test_split(df, train_size = 0.8, random_state=1)\n",
    "print(df_valid.label.value_counts())\n",
    "print(df_train.label.value_counts())\n",
    "df_train.to_csv('data/novel_train_v2.csv', index=False)\n",
    "df_valid.to_csv('data/novel_valid_v2.csv', index=False)"
   ],
   "metadata": {
    "collapsed": false,
    "pycharm": {
     "name": "#%%\n"
    }
   }
  },
  {
   "cell_type": "code",
   "execution_count": 88,
   "outputs": [],
   "source": [],
   "metadata": {
    "collapsed": false,
    "pycharm": {
     "name": "#%%\n"
    }
   }
  },
  {
   "cell_type": "code",
   "execution_count": 90,
   "outputs": [
    {
     "name": "stdout",
     "output_type": "stream",
     "text": [
      "5723\n",
      "8929\n"
     ]
    }
   ],
   "source": [
    "df_unlabel = pd.read_excel('data/reviews 2020-23.xlsx', sheet_name=0)\n",
    "unlabel_sentences = []\n",
    "for _,row in df_unlabel[3:].iterrows():\n",
    "    for col in df_unlabel.columns[1:]:\n",
    "        if isinstance(row[col], str):\n",
    "            unlabel_sentences.append(row[col])\n",
    "unlabel_sentences = list(set(unlabel_sentences))\n",
    "unlabel_labels = [0]*len(unlabel_sentences)\n",
    "print(len(unlabel_sentences))\n",
    "\n",
    "\n",
    "df_unlabel2 = pd.read_excel('data/reviews 2020-23.xlsx', sheet_name=1)\n",
    "unlabel_sentences2 = []\n",
    "for _,row in df_unlabel2[3:].iterrows():\n",
    "    for col in df_unlabel2.columns[1:]:\n",
    "        if isinstance(row[col], str):\n",
    "            unlabel_sentences2.append(row[col])\n",
    "unlabel_sentences2 = list(set(unlabel_sentences2))\n",
    "unlabel_labels2 = [0]*len(unlabel_sentences2)\n",
    "print(len(unlabel_sentences2))\n"
   ],
   "metadata": {
    "collapsed": false,
    "pycharm": {
     "name": "#%%\n"
    }
   }
  },
  {
   "cell_type": "code",
   "execution_count": 91,
   "outputs": [
    {
     "name": "stdout",
     "output_type": "stream",
     "text": [
      "0    3360\n",
      "1      14\n",
      "Name: label, dtype: int64\n",
      "0    13427\n",
      "1       66\n",
      "Name: label, dtype: int64\n"
     ]
    }
   ],
   "source": [
    "df = pd.DataFrame.from_dict({'sentence1':pos_sentences+neg_sentences+unlabel_sentences+unlabel_sentences2\n",
    "                                , 'label': pos_labels+neg_labels+unlabel_labels+unlabel_labels2})\n",
    "df = df.sample(n=len(df))\n",
    "\n",
    "df_train, df_valid = train_test_split(df, train_size = 0.8, random_state=1)\n",
    "print(df_valid.label.value_counts())\n",
    "print(df_train.label.value_counts())\n",
    "df_train.to_csv('data/novel_train_v3.csv', index=False)\n",
    "df_valid.to_csv('data/novel_valid_v3.csv', index=False)"
   ],
   "metadata": {
    "collapsed": false,
    "pycharm": {
     "name": "#%%\n"
    }
   }
  },
  {
   "cell_type": "code",
   "execution_count": 26,
   "outputs": [],
   "source": [
    "# # df = df.astype({\"sentence1\": str, \"label_unused\": int, \"label\": int})\n",
    "# df['sentence1'] = df['sentence1'].astype('str')"
   ],
   "metadata": {
    "collapsed": false,
    "pycharm": {
     "name": "#%%\n"
    }
   }
  },
  {
   "cell_type": "code",
   "execution_count": 58,
   "outputs": [],
   "source": [],
   "metadata": {
    "collapsed": false,
    "pycharm": {
     "name": "#%%\n"
    }
   }
  },
  {
   "cell_type": "code",
   "execution_count": 59,
   "outputs": [
    {
     "data": {
      "text/plain": "0    426\n1     17\nName: label, dtype: int64"
     },
     "execution_count": 59,
     "metadata": {},
     "output_type": "execute_result"
    }
   ],
   "source": [],
   "metadata": {
    "collapsed": false,
    "pycharm": {
     "name": "#%%\n"
    }
   }
  },
  {
   "cell_type": "code",
   "execution_count": 60,
   "outputs": [
    {
     "data": {
      "text/plain": "0    1709\n1      63\nName: label, dtype: int64"
     },
     "execution_count": 60,
     "metadata": {},
     "output_type": "execute_result"
    }
   ],
   "source": [],
   "metadata": {
    "collapsed": false,
    "pycharm": {
     "name": "#%%\n"
    }
   }
  }
 ],
 "metadata": {
  "kernelspec": {
   "display_name": "Python 3",
   "language": "python",
   "name": "python3"
  },
  "language_info": {
   "codemirror_mode": {
    "name": "ipython",
    "version": 2
   },
   "file_extension": ".py",
   "mimetype": "text/x-python",
   "name": "python",
   "nbconvert_exporter": "python",
   "pygments_lexer": "ipython2",
   "version": "2.7.6"
  }
 },
 "nbformat": 4,
 "nbformat_minor": 0
}