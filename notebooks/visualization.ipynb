{
 "cells": [
  {
   "cell_type": "code",
   "execution_count": 17,
   "id": "12cae4ca",
   "metadata": {},
   "outputs": [],
   "source": [
    "from transformers import (\n",
    "    AdamW,\n",
    "    AutoConfig,\n",
    "    AutoModelForSequenceClassification,\n",
    "    AutoTokenizer,\n",
    "    BertTokenizer,\n",
    "    BertModel,\n",
    "    DataCollatorWithPadding,\n",
    "    PretrainedConfig,\n",
    "    SchedulerType,\n",
    "    default_data_collator,\n",
    "    get_scheduler,\n",
    "    set_seed, BertConfig, BertTokenizer, BertForSequenceClassification,\n",
    ")\n",
    "import torch\n",
    "import numpy as np"
   ]
  },
  {
   "cell_type": "code",
   "execution_count": 114,
   "id": "5f0807a7",
   "metadata": {},
   "outputs": [
    {
     "name": "stderr",
     "output_type": "stream",
     "text": [
      "Some weights of the model checkpoint at /home/lichunhao/novel_need/generate_v2_result/ were not used when initializing BertModel: ['classifier.weight', 'classifier.bias']\n",
      "- This IS expected if you are initializing BertModel from the checkpoint of a model trained on another task or with another architecture (e.g. initializing a BertForSequenceClassification model from a BertForPreTraining model).\n",
      "- This IS NOT expected if you are initializing BertModel from the checkpoint of a model that you expect to be exactly identical (initializing a BertForSequenceClassification model from a BertForSequenceClassification model).\n"
     ]
    },
    {
     "data": {
      "text/plain": [
       "BertModel(\n",
       "  (embeddings): BertEmbeddings(\n",
       "    (word_embeddings): Embedding(30522, 768, padding_idx=0)\n",
       "    (position_embeddings): Embedding(512, 768)\n",
       "    (token_type_embeddings): Embedding(2, 768)\n",
       "    (LayerNorm): LayerNorm((768,), eps=1e-12, elementwise_affine=True)\n",
       "    (dropout): Dropout(p=0.1, inplace=False)\n",
       "  )\n",
       "  (encoder): BertEncoder(\n",
       "    (layer): ModuleList(\n",
       "      (0-11): 12 x BertLayer(\n",
       "        (attention): BertAttention(\n",
       "          (self): BertSelfAttention(\n",
       "            (query): Linear(in_features=768, out_features=768, bias=True)\n",
       "            (key): Linear(in_features=768, out_features=768, bias=True)\n",
       "            (value): Linear(in_features=768, out_features=768, bias=True)\n",
       "            (dropout): Dropout(p=0.1, inplace=False)\n",
       "          )\n",
       "          (output): BertSelfOutput(\n",
       "            (dense): Linear(in_features=768, out_features=768, bias=True)\n",
       "            (LayerNorm): LayerNorm((768,), eps=1e-12, elementwise_affine=True)\n",
       "            (dropout): Dropout(p=0.1, inplace=False)\n",
       "          )\n",
       "        )\n",
       "        (intermediate): BertIntermediate(\n",
       "          (dense): Linear(in_features=768, out_features=3072, bias=True)\n",
       "          (intermediate_act_fn): GELUActivation()\n",
       "        )\n",
       "        (output): BertOutput(\n",
       "          (dense): Linear(in_features=3072, out_features=768, bias=True)\n",
       "          (LayerNorm): LayerNorm((768,), eps=1e-12, elementwise_affine=True)\n",
       "          (dropout): Dropout(p=0.1, inplace=False)\n",
       "        )\n",
       "      )\n",
       "    )\n",
       "  )\n",
       "  (pooler): BertPooler(\n",
       "    (dense): Linear(in_features=768, out_features=768, bias=True)\n",
       "    (activation): Tanh()\n",
       "  )\n",
       ")"
      ]
     },
     "execution_count": 114,
     "metadata": {},
     "output_type": "execute_result"
    }
   ],
   "source": [
    "device = torch.device('cuda')\n",
    "# model_path = '/home/lichunhao/models/bert-base-uncased/'\n",
    "model_path = '/home/lichunhao/novel_need/generate_v2_result/'\n",
    "config = AutoConfig.from_pretrained(model_path, num_labels=2)\n",
    "tokenizer = BertTokenizer.from_pretrained(model_path)\n",
    "model = BertModel.from_pretrained(model_path)\n",
    "# tokenizer = AutoTokenizer.from_pretrained(model_path, use_fast=True)\n",
    "# model = AutoModelForSequenceClassification.from_pretrained(\n",
    "#     model_path,\n",
    "#     from_tf=False,\n",
    "#     config=config,\n",
    "# )\n",
    "\n",
    "\n",
    "model.to(device)"
   ]
  },
  {
   "cell_type": "code",
   "execution_count": 115,
   "id": "033005d3",
   "metadata": {},
   "outputs": [
    {
     "data": {
      "text/plain": [
       "{'input_ids': [[101, 7592, 1045, 1005, 1049, 1037, 2309, 6251, 102], [101, 1998, 2178, 6251, 102], [101, 1998, 1996, 2200, 2200, 2197, 2028, 102]], 'token_type_ids': [[0, 0, 0, 0, 0, 0, 0, 0, 0], [0, 0, 0, 0, 0], [0, 0, 0, 0, 0, 0, 0, 0]], 'attention_mask': [[1, 1, 1, 1, 1, 1, 1, 1, 1], [1, 1, 1, 1, 1], [1, 1, 1, 1, 1, 1, 1, 1]]}"
      ]
     },
     "execution_count": 115,
     "metadata": {},
     "output_type": "execute_result"
    }
   ],
   "source": [
    "batch_sentences = [\"Hello I'm a single sentence\",\n",
    "                    \"And another sentence\",\n",
    "                    \"And the very very last one\"]\n",
    "\n",
    "tokenizer(batch_sentences)"
   ]
  },
  {
   "cell_type": "code",
   "execution_count": 116,
   "id": "b39a19be",
   "metadata": {},
   "outputs": [],
   "source": [
    "# from transformers import pipeline\n",
    "\n",
    "# feature_extraction = pipeline('feature-extraction', model=\"/home/lichunhao/novel_need/prompt1_result/\", tokenizer=\"/home/lichunhao/novel_need/prompt1_result/\")\n",
    "# features = feature_extraction([\"Hello I'm a single sentence\",\n",
    "#                                \"And another sentence\",\n",
    "#                                \"And the very very last one\"])"
   ]
  },
  {
   "cell_type": "code",
   "execution_count": 117,
   "id": "dd724e30",
   "metadata": {},
   "outputs": [],
   "source": [
    "import torch\n",
    "import pandas as pd"
   ]
  },
  {
   "cell_type": "code",
   "execution_count": 118,
   "id": "89f86367",
   "metadata": {},
   "outputs": [],
   "source": [
    "df_train = pd.read_csv('/home/lichunhao/novel_need/data/novel_train_generate_v2.csv')\n",
    "df_valid = pd.read_csv('/home/lichunhao/novel_need/data/novel_valid_generate_v2.csv')"
   ]
  },
  {
   "cell_type": "code",
   "execution_count": 119,
   "id": "552c794f",
   "metadata": {},
   "outputs": [],
   "source": [
    "pos_sentences = []\n",
    "neg_sentences = []\n",
    "pos_sentences2 = []\n",
    "neg_sentences2 = []\n",
    "for _,row in df_valid.iterrows():\n",
    "    if row['label']==0:\n",
    "        neg_sentences.append(row['sentence1'])\n",
    "    else:\n",
    "        pos_sentences.append(row['sentence1'])\n",
    "        \n",
    "        \n",
    "for _,row in df_train.iterrows():\n",
    "    if not isinstance(row['sentence1'], str):\n",
    "        continue\n",
    "    if row['label']==0:\n",
    "        neg_sentences2.append(row['sentence1'])\n",
    "    else:\n",
    "        pos_sentences2.append(row['sentence1'])"
   ]
  },
  {
   "cell_type": "code",
   "execution_count": 120,
   "id": "15d2188c",
   "metadata": {},
   "outputs": [
    {
     "name": "stderr",
     "output_type": "stream",
     "text": [
      "100%|██████████| 98/98 [00:01<00:00, 91.89it/s]\n",
      "100%|██████████| 16567/16567 [02:54<00:00, 95.14it/s] \n"
     ]
    }
   ],
   "source": [
    "from tqdm import tqdm\n",
    "pos_embeddings=[]\n",
    "# pos_embeddings2=[]\n",
    "neg_embeddings=[]\n",
    "\n",
    "for sent in tqdm(pos_sentences+pos_sentences2):\n",
    "    input_ids = torch.tensor(tokenizer.encode(sent, padding='max_length', max_length=128, truncation=True)).unsqueeze(0)\n",
    "    outputs = model(input_ids.to(device))\n",
    "    pos_embeddings.append(outputs[0].detach().cpu().numpy())\n",
    "#     pos_embeddings2.append(outputs.last_hidden_state[0].detach().cpu().numpy())\n",
    "\n",
    "    \n",
    "for sent in tqdm(neg_sentences+neg_sentences2):\n",
    "    input_ids = torch.tensor(tokenizer.encode(sent, padding='max_length', max_length=128, truncation=True)).unsqueeze(0)\n",
    "    outputs = model(input_ids.to(device))\n",
    "    neg_embeddings.append(outputs[0].detach().cpu().numpy())\n",
    "    "
   ]
  },
  {
   "cell_type": "code",
   "execution_count": 121,
   "id": "31f66333",
   "metadata": {},
   "outputs": [],
   "source": [
    "# pos_embeddings = np.array(pos_embeddings).reshape(len(pos_embeddings),2)\n",
    "# neg_embeddings = np.array(neg_embeddings).reshape(len(neg_embeddings),2)"
   ]
  },
  {
   "cell_type": "code",
   "execution_count": 122,
   "id": "ea639b53",
   "metadata": {},
   "outputs": [],
   "source": [
    "pos_embeddings = [emb[0] for emb in pos_embeddings]\n",
    "neg_embeddings = [emb[0] for emb in neg_embeddings]"
   ]
  },
  {
   "cell_type": "code",
   "execution_count": 123,
   "id": "5f8c6760",
   "metadata": {},
   "outputs": [
    {
     "data": {
      "text/plain": [
       "(140544, 768)"
      ]
     },
     "execution_count": 123,
     "metadata": {},
     "output_type": "execute_result"
    }
   ],
   "source": [
    "import random\n",
    "neg_embeddings_random = random.choices(neg_embeddings, k=1000)\n",
    "all_embeddings = np.concatenate([emb.reshape(emb.shape[0], -1) for emb in pos_embeddings+neg_embeddings_random])\n",
    "all_embeddings.shape"
   ]
  },
  {
   "cell_type": "code",
   "execution_count": 124,
   "id": "e4267b2c",
   "metadata": {},
   "outputs": [
    {
     "data": {
      "text/plain": [
       "PCA(n_components=2)"
      ]
     },
     "execution_count": 124,
     "metadata": {},
     "output_type": "execute_result"
    }
   ],
   "source": [
    "from sklearn.decomposition import PCA\n",
    "pca = PCA(n_components=2)\n",
    "pca.fit(all_embeddings)"
   ]
  },
  {
   "cell_type": "code",
   "execution_count": 125,
   "id": "1ad51081",
   "metadata": {},
   "outputs": [
    {
     "data": {
      "image/png": "[encoded data removed]",
      "text/plain": [
       "<Figure size 432x288 with 1 Axes>"
      ]
     },
     "metadata": {
      "needs_background": "light"
     },
     "output_type": "display_data"
    }
   ],
   "source": [
    "from sklearn.manifold import TSNE\n",
    "import matplotlib.pyplot as plt\n",
    "from sklearn.decomposition import PCA\n",
    "\n",
    "for pos_emb in pos_embeddings:\n",
    "    componenets = pca.transform(pos_emb)\n",
    "    plt.scatter(componenets[:,0], componenets[:,1], c='blue')\n",
    "    \n",
    "for neg_emb in neg_embeddings_random:\n",
    "    componenets = pca.transform(neg_emb)\n",
    "    plt.scatter(componenets[:,0], componenets[:,1], c='red')\n",
    "plt.show()\n",
    "\n",
    "\n",
    "# tsne = TSNE(n_components=2, learning_rate='auto',\n",
    "#                   init='random', perplexity=3)\n",
    "\n",
    "# pos_embedded = tsne.fit_transform(pos_embeddings[0][0])\n",
    "# neg_embedded = tsne.fit_transform(neg_embeddings)"
   ]
  },
  {
   "cell_type": "code",
   "execution_count": 113,
   "id": "150f2d17",
   "metadata": {},
   "outputs": [
    {
     "data": {
      "image/png": "[encoded data removed]",
      "text/plain": [
       "<Figure size 432x288 with 1 Axes>"
      ]
     },
     "metadata": {
      "needs_background": "light"
     },
     "output_type": "display_data"
    }
   ],
   "source": [
    "from sklearn.manifold import TSNE\n",
    "import matplotlib.pyplot as plt\n",
    "from sklearn.decomposition import PCA\n",
    "\n",
    "for pos_emb in pos_embeddings:\n",
    "    componenets = pca.transform(pos_emb)\n",
    "    plt.scatter(componenets[:,0], componenets[:,1], c='blue')\n",
    "    \n",
    "for neg_emb in neg_embeddings_random:\n",
    "    componenets = pca.transform(neg_emb)\n",
    "    plt.scatter(componenets[:,0], componenets[:,1], c='red')\n",
    "plt.show()\n",
    "\n",
    "\n",
    "# tsne = TSNE(n_components=2, learning_rate='auto',\n",
    "#                   init='random', perplexity=3)\n",
    "\n",
    "# pos_embedded = tsne.fit_transform(pos_embeddings[0][0])\n",
    "# neg_embedded = tsne.fit_transform(neg_embeddings)"
   ]
  },
  {
   "cell_type": "code",
   "execution_count": 11,
   "id": "73787ba9",
   "metadata": {},
   "outputs": [],
   "source": [
    "# fig = plt.figure()\n",
    "# ax = plt.subplot(111)\n",
    "# plt.scatter(pos_embedded[:,0], pos_embedded[:, 1], c='blue')\n",
    "# plt.scatter(neg_embedded[:,0], neg_embedded[:, 1], c='red')\n",
    "# # plt.scatter(pos_embeddings[:,0], pos_embeddings[:, 1], c='blue')\n",
    "# # plt.scatter(neg_embeddings[:,0], neg_embeddings[:, 1], c='red')"
   ]
  },
  {
   "cell_type": "code",
   "execution_count": 21,
   "id": "4b9af030",
   "metadata": {},
   "outputs": [
    {
     "data": {
      "text/plain": [
       "<matplotlib.collections.PathCollection at 0x7f73caec8e20>"
      ]
     },
     "execution_count": 21,
     "metadata": {},
     "output_type": "execute_result"
    },
    {
     "data": {
      "image/png": "[encoded data removed]",
      "text/plain": [
       "<Figure size 432x288 with 1 Axes>"
      ]
     },
     "metadata": {
      "needs_background": "light"
     },
     "output_type": "display_data"
    }
   ],
   "source": [
    "## generate_v1 vanilla model\n",
    "fig = plt.figure()\n",
    "ax = plt.subplot(111)\n",
    "# plt.scatter(pos_embedded[:,0], pos_embedded[:, 1], c='blue')\n",
    "# plt.scatter(neg_embedded[:,0], neg_embedded[:, 1], c='red')\n",
    "plt.scatter(pos_embeddings[:,0], pos_embeddings[:, 1], c='blue')\n",
    "plt.scatter(neg_embeddings[:,0], neg_embeddings[:, 1], c='red')"
   ]
  },
  {
   "cell_type": "code",
   "execution_count": 12,
   "id": "f3c2d3b9",
   "metadata": {},
   "outputs": [
    {
     "data": {
      "text/plain": [
       "<matplotlib.collections.PathCollection at 0x7f73cef812b0>"
      ]
     },
     "execution_count": 12,
     "metadata": {},
     "output_type": "execute_result"
    },
    {
     "data": {
      "image/png": "[encoded data removed]",
      "text/plain": [
       "<Figure size 432x288 with 1 Axes>"
      ]
     },
     "metadata": {
      "needs_background": "light"
     },
     "output_type": "display_data"
    }
   ],
   "source": [
    "## generate_v1 finetuned model\n",
    "fig = plt.figure()\n",
    "ax = plt.subplot(111)\n",
    "# plt.scatter(pos_embedded[:,0], pos_embedded[:, 1], c='blue')\n",
    "# plt.scatter(neg_embedded[:,0], neg_embedded[:, 1], c='red')\n",
    "plt.scatter(pos_embeddings[:,0], pos_embeddings[:, 1], c='blue')\n",
    "plt.scatter(neg_embeddings[:,0], neg_embeddings[:, 1], c='red')"
   ]
  },
  {
   "cell_type": "code",
   "execution_count": 21,
   "id": "295fb3fc",
   "metadata": {},
   "outputs": [
    {
     "data": {
      "text/plain": [
       "<matplotlib.collections.PathCollection at 0x7f1914fe6f40>"
      ]
     },
     "execution_count": 21,
     "metadata": {},
     "output_type": "execute_result"
    },
    {
     "data": {
      "image/png": "[encoded data removed]",
      "text/plain": [
       "<Figure size 432x288 with 1 Axes>"
      ]
     },
     "metadata": {
      "needs_background": "light"
     },
     "output_type": "display_data"
    }
   ],
   "source": [
    "fig = plt.figure()\n",
    "ax = plt.subplot(111)\n",
    "# plt.scatter(pos_embedded[:,0], pos_embedded[:, 1], c='blue')\n",
    "# plt.scatter(neg_embedded[:,0], neg_embedded[:, 1], c='red')\n",
    "plt.scatter(pos_embeddings[:,0], pos_embeddings[:, 1], c='blue')\n",
    "plt.scatter(neg_embeddings[:,0], neg_embeddings[:, 1], c='red')"
   ]
  },
  {
   "cell_type": "code",
   "execution_count": 74,
   "id": "9d9589ec",
   "metadata": {},
   "outputs": [
    {
     "data": {
      "text/plain": [
       "<matplotlib.collections.PathCollection at 0x7f9ad93dbac0>"
      ]
     },
     "execution_count": 74,
     "metadata": {},
     "output_type": "execute_result"
    },
    {
     "data": {
      "image/png": "[encoded data removed]",
      "text/plain": [
       "<Figure size 432x288 with 1 Axes>"
      ]
     },
     "metadata": {
      "needs_background": "light"
     },
     "output_type": "display_data"
    }
   ],
   "source": [
    "fig = plt.figure()\n",
    "ax = plt.subplot(111)\n",
    "# plt.scatter(pos_embedded[:,0], pos_embedded[:, 1], c='blue')\n",
    "# plt.scatter(neg_embedded[:,0], neg_embedded[:, 1], c='red')\n",
    "plt.scatter(pos_embeddings[:,0], pos_embeddings[:, 1], c='blue')\n",
    "plt.scatter(neg_embeddings[:,0], neg_embeddings[:, 1], c='red')"
   ]
  },
  {
   "cell_type": "code",
   "execution_count": 76,
   "id": "c54dc13a",
   "metadata": {},
   "outputs": [
    {
     "name": "stderr",
     "output_type": "stream",
     "text": [
      "Some weights of the model checkpoint at v3_result were not used when initializing BertModel: ['classifier.bias', 'classifier.weight']\n",
      "- This IS expected if you are initializing BertModel from the checkpoint of a model trained on another task or with another architecture (e.g. initializing a BertForSequenceClassification model from a BertForPreTraining model).\n",
      "- This IS NOT expected if you are initializing BertModel from the checkpoint of a model that you expect to be exactly identical (initializing a BertForSequenceClassification model from a BertForSequenceClassification model).\n"
     ]
    }
   ],
   "source": [
    "from transformers import pipeline\n",
    "\n",
    "feature_extraction = pipeline('feature-extraction', model=\"v3_result\", tokenizer=\"v3_result\")\n",
    "pos_features = feature_extraction(pos_sentences)\n",
    "\n",
    "# neg_features = feature_extraction(neg_sentences)"
   ]
  },
  {
   "cell_type": "code",
   "execution_count": 86,
   "id": "65b5fe8d",
   "metadata": {},
   "outputs": [],
   "source": [
    "# [emb[0] for emb in pos_features]"
   ]
  },
  {
   "cell_type": "code",
   "execution_count": 91,
   "id": "6e6dce7f",
   "metadata": {},
   "outputs": [
    {
     "data": {
      "text/plain": [
       "(12, 768)"
      ]
     },
     "execution_count": 91,
     "metadata": {},
     "output_type": "execute_result"
    }
   ],
   "source": [
    "np.array([np.array(x) for x in pos_features[2][0]]).shape"
   ]
  }
 ],
 "metadata": {
  "kernelspec": {
   "display_name": "Python 3 (ipykernel)",
   "language": "python",
   "name": "python3"
  },
  "language_info": {
   "codemirror_mode": {
    "name": "ipython",
    "version": 3
   },
   "file_extension": ".py",
   "mimetype": "text/x-python",
   "name": "python",
   "nbconvert_exporter": "python",
   "pygments_lexer": "ipython3",
   "version": "3.9.12"
  }
 },
 "nbformat": 4,
 "nbformat_minor": 5
}
