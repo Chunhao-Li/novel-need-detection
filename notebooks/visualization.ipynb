{
 "cells": [
  {
   "cell_type": "code",
   "execution_count": 16,
   "metadata": {},
   "outputs": [],
   "source": [
    "from transformers import (\n",
    "    AdamW,\n",
    "    AutoConfig,\n",
    "    AutoModelForSequenceClassification,\n",
    "    AutoTokenizer,\n",
    "    DataCollatorWithPadding,\n",
    "    PretrainedConfig,\n",
    "    SchedulerType,\n",
    "    default_data_collator,\n",
    "    get_scheduler,\n",
    "    set_seed, BertConfig, BertTokenizer, BertForSequenceClassification,\n",
    ")\n",
    "import torch\n",
    "import numpy as np"
   ]
  },
  {
   "cell_type": "code",
   "execution_count": 4,
   "metadata": {},
   "outputs": [
    {
     "data": {
      "text/plain": [
       "BertForSequenceClassification(\n",
       "  (bert): BertModel(\n",
       "    (embeddings): BertEmbeddings(\n",
       "      (word_embeddings): Embedding(30522, 768, padding_idx=0)\n",
       "      (position_embeddings): Embedding(512, 768)\n",
       "      (token_type_embeddings): Embedding(2, 768)\n",
       "      (LayerNorm): LayerNorm((768,), eps=1e-12, elementwise_affine=True)\n",
       "      (dropout): Dropout(p=0.1, inplace=False)\n",
       "    )\n",
       "    (encoder): BertEncoder(\n",
       "      (layer): ModuleList(\n",
       "        (0-11): 12 x BertLayer(\n",
       "          (attention): BertAttention(\n",
       "            (self): BertSelfAttention(\n",
       "              (query): Linear(in_features=768, out_features=768, bias=True)\n",
       "              (key): Linear(in_features=768, out_features=768, bias=True)\n",
       "              (value): Linear(in_features=768, out_features=768, bias=True)\n",
       "              (dropout): Dropout(p=0.1, inplace=False)\n",
       "            )\n",
       "            (output): BertSelfOutput(\n",
       "              (dense): Linear(in_features=768, out_features=768, bias=True)\n",
       "              (LayerNorm): LayerNorm((768,), eps=1e-12, elementwise_affine=True)\n",
       "              (dropout): Dropout(p=0.1, inplace=False)\n",
       "            )\n",
       "          )\n",
       "          (intermediate): BertIntermediate(\n",
       "            (dense): Linear(in_features=768, out_features=3072, bias=True)\n",
       "            (intermediate_act_fn): GELUActivation()\n",
       "          )\n",
       "          (output): BertOutput(\n",
       "            (dense): Linear(in_features=3072, out_features=768, bias=True)\n",
       "            (LayerNorm): LayerNorm((768,), eps=1e-12, elementwise_affine=True)\n",
       "            (dropout): Dropout(p=0.1, inplace=False)\n",
       "          )\n",
       "        )\n",
       "      )\n",
       "    )\n",
       "    (pooler): BertPooler(\n",
       "      (dense): Linear(in_features=768, out_features=768, bias=True)\n",
       "      (activation): Tanh()\n",
       "    )\n",
       "  )\n",
       "  (dropout): Dropout(p=0.1, inplace=False)\n",
       "  (classifier): Linear(in_features=768, out_features=2, bias=True)\n",
       ")"
      ]
     },
     "execution_count": 4,
     "metadata": {},
     "output_type": "execute_result"
    }
   ],
   "source": [
    "device = torch.device('cuda')\n",
    "config = AutoConfig.from_pretrained('/home/lichunhao/novel_need/prompt1_result/', num_labels=2)\n",
    "tokenizer = AutoTokenizer.from_pretrained('/home/lichunhao/novel_need/prompt1_result/', use_fast=True)\n",
    "model = AutoModelForSequenceClassification.from_pretrained(\n",
    "    '/home/lichunhao/novel_need/prompt1_result/',\n",
    "    from_tf=False,\n",
    "    config=config,\n",
    ")\n",
    "\n",
    "\n",
    "model.to(device)"
   ]
  },
  {
   "cell_type": "code",
   "execution_count": 5,
   "metadata": {},
   "outputs": [
    {
     "data": {
      "text/plain": [
       "{'input_ids': [[101, 7592, 1045, 1005, 1049, 1037, 2309, 6251, 102], [101, 1998, 2178, 6251, 102], [101, 1998, 1996, 2200, 2200, 2197, 2028, 102]], 'token_type_ids': [[0, 0, 0, 0, 0, 0, 0, 0, 0], [0, 0, 0, 0, 0], [0, 0, 0, 0, 0, 0, 0, 0]], 'attention_mask': [[1, 1, 1, 1, 1, 1, 1, 1, 1], [1, 1, 1, 1, 1], [1, 1, 1, 1, 1, 1, 1, 1]]}"
      ]
     },
     "execution_count": 5,
     "metadata": {},
     "output_type": "execute_result"
    }
   ],
   "source": [
    "batch_sentences = [\"Hello I'm a single sentence\",\n",
    "                    \"And another sentence\",\n",
    "                    \"And the very very last one\"]\n",
    "\n",
    "tokenizer(batch_sentences)"
   ]
  },
  {
   "cell_type": "code",
   "execution_count": 7,
   "metadata": {},
   "outputs": [
    {
     "name": "stderr",
     "output_type": "stream",
     "text": [
      "Some weights of the model checkpoint at /home/lichunhao/novel_need/prompt1_result/ were not used when initializing BertModel: ['classifier.weight', 'classifier.bias']\n",
      "- This IS expected if you are initializing BertModel from the checkpoint of a model trained on another task or with another architecture (e.g. initializing a BertForSequenceClassification model from a BertForPreTraining model).\n",
      "- This IS NOT expected if you are initializing BertModel from the checkpoint of a model that you expect to be exactly identical (initializing a BertForSequenceClassification model from a BertForSequenceClassification model).\n"
     ]
    }
   ],
   "source": [
    "# from transformers import pipeline\n",
    "\n",
    "# feature_extraction = pipeline('feature-extraction', model=\"/home/lichunhao/novel_need/prompt1_result/\", tokenizer=\"/home/lichunhao/novel_need/prompt1_result/\")\n",
    "# features = feature_extraction([\"Hello I'm a single sentence\",\n",
    "#                                \"And another sentence\",\n",
    "#                                \"And the very very last one\"])"
   ]
  },
  {
   "cell_type": "code",
   "execution_count": 10,
   "metadata": {},
   "outputs": [],
   "source": [
    "import torch\n",
    "import pandas as pd"
   ]
  },
  {
   "cell_type": "code",
   "execution_count": 11,
   "metadata": {},
   "outputs": [],
   "source": [
    "df_train = pd.read_csv('/home/lichunhao/novel_need/data/novel_train_prompt1.csv')\n",
    "df_valid = pd.read_csv('/home/lichunhao/novel_need/data/novel_valid_prompt1.csv')"
   ]
  },
  {
   "cell_type": "code",
   "execution_count": 12,
   "metadata": {},
   "outputs": [],
   "source": [
    "pos_sentences = []\n",
    "neg_sentences = []\n",
    "pos_sentences2 = []\n",
    "neg_sentences2 = []\n",
    "for _,row in df_valid.iterrows():\n",
    "    if row['label']==0:\n",
    "        neg_sentences.append(row['sentence1'])\n",
    "    else:\n",
    "        pos_sentences.append(row['sentence1'])\n",
    "        \n",
    "        \n",
    "for _,row in df_train.iterrows():\n",
    "    if row['label']==0:\n",
    "        neg_sentences2.append(row['sentence1'])\n",
    "    else:\n",
    "        pos_sentences2.append(row['sentence1'])"
   ]
  },
  {
   "cell_type": "code",
   "execution_count": 13,
   "metadata": {},
   "outputs": [
    {
     "data": {
      "text/plain": [
       "(16, 3358, 64, 13429)"
      ]
     },
     "execution_count": 13,
     "metadata": {},
     "output_type": "execute_result"
    }
   ],
   "source": [
    "len(pos_sentences), len(neg_sentences), len(pos_sentences2), len(neg_sentences2)"
   ]
  },
  {
   "cell_type": "code",
   "execution_count": 14,
   "metadata": {},
   "outputs": [
    {
     "name": "stderr",
     "output_type": "stream",
     "text": [
      "100%|██████████| 80/80 [00:01<00:00, 59.65it/s]\n",
      "100%|██████████| 16787/16787 [02:31<00:00, 110.99it/s]\n"
     ]
    }
   ],
   "source": [
    "from tqdm import tqdm\n",
    "pos_embeddings=[]\n",
    "neg_embeddings=[]\n",
    "\n",
    "for sent in tqdm(pos_sentences+pos_sentences2):\n",
    "    input_ids = torch.tensor(tokenizer.encode(sent, padding='max_length', max_length=128, truncation=True)).unsqueeze(0)\n",
    "    outputs = model(input_ids.to(device))\n",
    "    pos_embeddings.append(outputs[0].detach().cpu().numpy())\n",
    "    \n",
    "for sent in tqdm(neg_sentences+neg_sentences2):\n",
    "    input_ids = torch.tensor(tokenizer.encode(sent, padding='max_length', max_length=128, truncation=True)).unsqueeze(0)\n",
    "    outputs = model(input_ids.to(device))\n",
    "    neg_embeddings.append(outputs[0].detach().cpu().numpy())\n",
    "    "
   ]
  },
  {
   "cell_type": "code",
   "execution_count": 17,
   "metadata": {},
   "outputs": [],
   "source": [
    "pos_embeddings = np.array(pos_embeddings).reshape(len(pos_embeddings),2)\n",
    "neg_embeddings = np.array(neg_embeddings).reshape(len(neg_embeddings),2)"
   ]
  },
  {
   "cell_type": "code",
   "execution_count": 19,
   "metadata": {},
   "outputs": [],
   "source": [
    "from sklearn.manifold import TSNE\n",
    "import matplotlib.pyplot as plt\n",
    "\n",
    "\n",
    "# tsne = TSNE(n_components=2, learning_rate='auto',\n",
    "#                   init='random', perplexity=3)\n",
    "\n",
    "# pos_embedded = tsne.fit_transform(pos_embeddings)\n",
    "# neg_embedded = tsne.fit_transform(neg_embeddings)"
   ]
  },
  {
   "cell_type": "code",
   "execution_count": 20,
   "metadata": {},
   "outputs": [],
   "source": [
    "# fig = plt.figure()\n",
    "# ax = plt.subplot(111)\n",
    "# plt.scatter(pos_embedded[:,0], pos_embedded[:, 1], c='blue')\n",
    "# plt.scatter(neg_embedded[:,0], neg_embedded[:, 1], c='red')\n",
    "# # plt.scatter(pos_embeddings[:,0], pos_embeddings[:, 1], c='blue')\n",
    "# # plt.scatter(neg_embeddings[:,0], neg_embeddings[:, 1], c='red')"
   ]
  },
  {
   "cell_type": "code",
   "execution_count": 21,
   "metadata": {},
   "outputs": [
    {
     "data": {
      "text/plain": [
       "<matplotlib.collections.PathCollection at 0x7f1914fe6f40>"
      ]
     },
     "execution_count": 21,
     "metadata": {},
     "output_type": "execute_result"
    },
    {
     "data": {
      "image/png": "[encoded data removed]",
      "text/plain": [
       "<Figure size 432x288 with 1 Axes>"
      ]
     },
     "metadata": {
      "needs_background": "light"
     },
     "output_type": "display_data"
    }
   ],
   "source": [
    "fig = plt.figure()\n",
    "ax = plt.subplot(111)\n",
    "# plt.scatter(pos_embedded[:,0], pos_embedded[:, 1], c='blue')\n",
    "# plt.scatter(neg_embedded[:,0], neg_embedded[:, 1], c='red')\n",
    "plt.scatter(pos_embeddings[:,0], pos_embeddings[:, 1], c='blue')\n",
    "plt.scatter(neg_embeddings[:,0], neg_embeddings[:, 1], c='red')"
   ]
  },
  {
   "cell_type": "code",
   "execution_count": 74,
   "metadata": {},
   "outputs": [
    {
     "data": {
      "text/plain": [
       "<matplotlib.collections.PathCollection at 0x7f9ad93dbac0>"
      ]
     },
     "execution_count": 74,
     "metadata": {},
     "output_type": "execute_result"
    },
    {
     "data": {
      "image/png": "[encoded data removed]",
      "text/plain": [
       "<Figure size 432x288 with 1 Axes>"
      ]
     },
     "metadata": {
      "needs_background": "light"
     },
     "output_type": "display_data"
    }
   ],
   "source": [
    "fig = plt.figure()\n",
    "ax = plt.subplot(111)\n",
    "# plt.scatter(pos_embedded[:,0], pos_embedded[:, 1], c='blue')\n",
    "# plt.scatter(neg_embedded[:,0], neg_embedded[:, 1], c='red')\n",
    "plt.scatter(pos_embeddings[:,0], pos_embeddings[:, 1], c='blue')\n",
    "plt.scatter(neg_embeddings[:,0], neg_embeddings[:, 1], c='red')"
   ]
  },
  {
   "cell_type": "code",
   "execution_count": 76,
   "metadata": {},
   "outputs": [
    {
     "name": "stderr",
     "output_type": "stream",
     "text": [
      "Some weights of the model checkpoint at v3_result were not used when initializing BertModel: ['classifier.bias', 'classifier.weight']\n",
      "- This IS expected if you are initializing BertModel from the checkpoint of a model trained on another task or with another architecture (e.g. initializing a BertForSequenceClassification model from a BertForPreTraining model).\n",
      "- This IS NOT expected if you are initializing BertModel from the checkpoint of a model that you expect to be exactly identical (initializing a BertForSequenceClassification model from a BertForSequenceClassification model).\n"
     ]
    }
   ],
   "source": [
    "from transformers import pipeline\n",
    "\n",
    "feature_extraction = pipeline('feature-extraction', model=\"v3_result\", tokenizer=\"v3_result\")\n",
    "pos_features = feature_extraction(pos_sentences)\n",
    "\n",
    "# neg_features = feature_extraction(neg_sentences)"
   ]
  },
  {
   "cell_type": "code",
   "execution_count": 86,
   "metadata": {},
   "outputs": [],
   "source": [
    "# [emb[0] for emb in pos_features]"
   ]
  },
  {
   "cell_type": "code",
   "execution_count": 91,
   "metadata": {},
   "outputs": [
    {
     "data": {
      "text/plain": [
       "(12, 768)"
      ]
     },
     "execution_count": 91,
     "metadata": {},
     "output_type": "execute_result"
    }
   ],
   "source": [
    "np.array([np.array(x) for x in pos_features[2][0]]).shape"
   ]
  }
 ],
 "metadata": {
  "kernelspec": {
   "display_name": "Python 3",
   "language": "python",
   "name": "python3"
  },
  "language_info": {
   "codemirror_mode": {
    "name": "ipython",
    "version": 3
   },
   "file_extension": ".py",
   "mimetype": "text/x-python",
   "name": "python",
   "nbconvert_exporter": "python",
   "pygments_lexer": "ipython3",
   "version": "3.8.5"
  }
 },
 "nbformat": 4,
 "nbformat_minor": 5
}
