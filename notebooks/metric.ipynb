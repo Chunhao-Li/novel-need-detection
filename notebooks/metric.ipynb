{
 "cells": [
  {
   "cell_type": "code",
   "execution_count": 1,
   "metadata": {
    "pycharm": {
     "name": "#%%\n"
    }
   },
   "outputs": [],
   "source": [
    "import pandas as pd\n",
    "from sklearn.metrics import precision_score, recall_score, f1_score, confusion_matrix"
   ]
  },
  {
   "cell_type": "code",
   "execution_count": 2,
   "metadata": {
    "pycharm": {
     "name": "#%%\n"
    }
   },
   "outputs": [
    {
     "name": "stdout",
     "output_type": "stream",
     "text": [
      "0.9333333333333333 0.875 0.9032258064516129\n"
     ]
    },
    {
     "data": {
      "text/plain": [
       "array([[3357,    1],\n",
       "       [   2,   14]])"
      ]
     },
     "execution_count": 2,
     "metadata": {},
     "output_type": "execute_result"
    }
   ],
   "source": [
    "with open('../results/prompt_result/predict_results_None.txt') as f:\n",
    "        lines = f.readlines()\n",
    "\n",
    "preds = []\n",
    "probs = []\n",
    "for l in lines[1:]:\n",
    "    cur_result = l.strip().split('\\t')\n",
    "    preds.append(int(cur_result[0]))\n",
    "    probs.append(float(cur_result[1]))\n",
    "\n",
    "df = pd.read_csv('../data/novel_valid_prompt1.csv')\n",
    "labels = list(df['label'])\n",
    "\n",
    "\n",
    "\n",
    "pre = precision_score(labels, preds)\n",
    "rec = recall_score(labels, preds)\n",
    "f1 = f1_score(labels, preds)\n",
    "conf_matrix = confusion_matrix(labels, preds)\n",
    "print(pre, rec, f1)\n",
    "conf_matrix"
   ]
  },
  {
   "cell_type": "code",
   "execution_count": 37,
   "metadata": {
    "pycharm": {
     "name": "#%%\n"
    }
   },
   "outputs": [
    {
     "name": "stdout",
     "output_type": "stream",
     "text": [
      "0.9333333333333333 1.0 0.9655172413793104\n"
     ]
    },
    {
     "data": {
      "text/plain": [
       "array([[3359,    1],\n",
       "       [   0,   14]])"
      ]
     },
     "execution_count": 37,
     "metadata": {},
     "output_type": "execute_result"
    }
   ],
   "source": [
    "with open('result_v3/predict_results_None.txt') as f:\n",
    "        lines = f.readlines()\n",
    "\n",
    "preds = []\n",
    "probs = []\n",
    "for l in lines[1:]:\n",
    "    cur_result = l.strip().split('\\t')\n",
    "    preds.append(int(cur_result[0]))\n",
    "    probs.append(float(cur_result[1]))\n",
    "\n",
    "df = pd.read_csv('result_v3/novel_valid_v3.csv')\n",
    "labels = list(df['label'])\n",
    "\n",
    "\n",
    "\n",
    "pre = precision_score(labels, preds)\n",
    "rec = recall_score(labels, preds)\n",
    "f1 = f1_score(labels, preds)\n",
    "conf_matrix = confusion_matrix(labels, preds)\n",
    "print(pre, rec, f1)\n",
    "conf_matrix"
   ]
  },
  {
   "cell_type": "code",
   "execution_count": 21,
   "metadata": {
    "pycharm": {
     "name": "#%%\n"
    }
   },
   "outputs": [],
   "source": []
  },
  {
   "cell_type": "code",
   "execution_count": 22,
   "metadata": {
    "pycharm": {
     "name": "#%%\n"
    }
   },
   "outputs": [],
   "source": []
  },
  {
   "cell_type": "code",
   "execution_count": 30,
   "metadata": {
    "pycharm": {
     "name": "#%%\n"
    }
   },
   "outputs": [
    {
     "name": "stdout",
     "output_type": "stream",
     "text": [
      "0.8823529411764706 0.8823529411764706 0.8823529411764706\n"
     ]
    }
   ],
   "source": []
  },
  {
   "cell_type": "code",
   "execution_count": 31,
   "metadata": {
    "pycharm": {
     "name": "#%%\n"
    }
   },
   "outputs": [
    {
     "data": {
      "text/plain": [
       "array([[424,   2],\n",
       "       [  2,  15]])"
      ]
     },
     "execution_count": 31,
     "metadata": {},
     "output_type": "execute_result"
    }
   ],
   "source": []
  }
 ],
 "metadata": {
  "kernelspec": {
   "display_name": "Python 3 (ipykernel)",
   "language": "python",
   "name": "python3"
  },
  "language_info": {
   "codemirror_mode": {
    "name": "ipython",
    "version": 3
   },
   "file_extension": ".py",
   "mimetype": "text/x-python",
   "name": "python",
   "nbconvert_exporter": "python",
   "pygments_lexer": "ipython3",
   "version": "3.8.16"
  }
 },
 "nbformat": 4,
 "nbformat_minor": 1
}
