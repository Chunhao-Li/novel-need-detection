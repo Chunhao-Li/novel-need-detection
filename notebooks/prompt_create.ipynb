{
 "cells": [
  {
   "cell_type": "code",
   "execution_count": 18,
   "metadata": {
    "pycharm": {
     "name": "#%%\n"
    }
   },
   "outputs": [],
   "source": [
    "import numpy as np\n",
    "import pandas as pd\n",
    "import json"
   ]
  },
  {
   "cell_type": "code",
   "execution_count": 77,
   "metadata": {},
   "outputs": [
    {
     "data": {
      "text/plain": [
       "label\n",
       "0    13261\n",
       "1       56\n",
       "Name: count, dtype: int64"
      ]
     },
     "execution_count": 77,
     "metadata": {},
     "output_type": "execute_result"
    }
   ],
   "source": [
    "df_train = pd.read_csv('../data/novel_train_prompt1.csv')\n",
    "df_valid = pd.read_csv('../data/novel_valid_prompt1.csv')\n",
    "df_train = df_train.dropna()\n",
    "df_valid = df_valid.dropna()\n",
    "df_train['label'].value_counts()"
   ]
  },
  {
   "cell_type": "code",
   "execution_count": 78,
   "metadata": {},
   "outputs": [
    {
     "data": {
      "text/plain": [
       "label\n",
       "0    3305\n",
       "1      24\n",
       "Name: count, dtype: int64"
      ]
     },
     "execution_count": 78,
     "metadata": {},
     "output_type": "execute_result"
    }
   ],
   "source": [
    "df_valid['label'].value_counts()"
   ]
  },
  {
   "cell_type": "code",
   "execution_count": 84,
   "metadata": {},
   "outputs": [],
   "source": [
    "df_train_0 = df_train[df_train['label']==0]\n",
    "df_train_1 = df_train[df_train['label']==1]\n",
    "df_train_0_new = df_train_0.sample(n=3000)\n",
    "\n",
    "df_valid_0 = df_valid[df_valid['label']==0]\n",
    "df_valid_1 = df_valid[df_valid['label']==1]\n",
    "df_valid_0_new = df_valid_0.sample(n=300)"
   ]
  },
  {
   "cell_type": "code",
   "execution_count": 90,
   "metadata": {},
   "outputs": [],
   "source": [
    "df_train = pd.concat([df_train_0_new, df_train_1])\n",
    "df_valid = pd.concat([df_valid_0_new, df_valid_1])\n",
    "df_train = df_train.sample(n=len(df_train))\n",
    "df_valid = df_valid.sample(n=len(df_valid))"
   ]
  },
  {
   "cell_type": "code",
   "execution_count": 94,
   "metadata": {},
   "outputs": [
    {
     "name": "stdout",
     "output_type": "stream",
     "text": [
      "label\n",
      "0    3000\n",
      "1      56\n",
      "Name: count, dtype: int64\n",
      "label\n",
      "0    300\n",
      "1     24\n",
      "Name: count, dtype: int64\n"
     ]
    }
   ],
   "source": [
    "print(df_train['label'].value_counts())\n",
    "print(df_valid['label'].value_counts())"
   ]
  },
  {
   "cell_type": "code",
   "execution_count": 92,
   "metadata": {},
   "outputs": [
    {
     "name": "stdout",
     "output_type": "stream",
     "text": [
      "3056 324\n"
     ]
    },
    {
     "data": {
      "text/plain": [
       "{'instruction': \"Given a computer purchase review data from an e-commerce platform, determine whether the review data contains new requirements. New requirements indicate features that the computer does not currently have. Return 1 (contains new requirements) or 0 (does not contain new requirements).\\nHere are some examples:\\n\\nThe computer runs fast, but the cooling is lacking. It would be great if it could use a freeze-like technology to cool down in a second. And then there is the screen quality is not good, cracks appeared without much use.\\t1\\nThis computer has a great processing speed and the design is sleek, but the battery life leaves a lot to be desired. I hope in the future they could incorporate solar charging features so I could work all day without worrying about running out of power.\\t1\\nThe laptop is a great choice for people who want a portable gaming experience, though there are a few problems. First, the laptop will get loud/hot very fast on newer games unless you lower the quality a lot. Second, the touchpad is sensitive and you'll find yourself accidently clicking things from time to time. Third, the people who shipped my laptop didn't have a sticker on the package warning about the lithium batteries as well as didn't even put any bubble wrap to keep the laptop safe. Finally, the battery life only last a few hours so you'll have to charge regularly. Other than that, the laptop works great and can play any game I throw at it. I would recommend it to anyone who wants an affordable gaming experience\\t0\\ni had to buy this for school but honestly the m1 is a better value, especially refurbished or used. if all you'll be doing is schoolwork, youtube, spotify and mail, this laptop does not feel worth 1000 bucks. i'm too lazy to return it at this point but if i could pick again i would've bought the cheaper m1 macbooks.\\t0\\n\\nGiven the following reviews, please return the judgement result:\",\n",
       " 'input': 'Wish it had windows and office downloaded on it',\n",
       " 'output': '0'}"
      ]
     },
     "execution_count": 92,
     "metadata": {},
     "output_type": "execute_result"
    }
   ],
   "source": [
    "valid_array = []\n",
    "train_array = []\n",
    "prompt = '''Given a computer purchase review data from an e-commerce platform, determine whether the review data contains new requirements. New requirements indicate features that the computer does not currently have. Return 1 (contains new requirements) or 0 (does not contain new requirements).\n",
    "Here are some examples:\n",
    "\n",
    "The computer runs fast, but the cooling is lacking. It would be great if it could use a freeze-like technology to cool down in a second. And then there is the screen quality is not good, cracks appeared without much use.\t1\n",
    "This computer has a great processing speed and the design is sleek, but the battery life leaves a lot to be desired. I hope in the future they could incorporate solar charging features so I could work all day without worrying about running out of power.\t1\n",
    "The laptop is a great choice for people who want a portable gaming experience, though there are a few problems. First, the laptop will get loud/hot very fast on newer games unless you lower the quality a lot. Second, the touchpad is sensitive and you'll find yourself accidently clicking things from time to time. Third, the people who shipped my laptop didn't have a sticker on the package warning about the lithium batteries as well as didn't even put any bubble wrap to keep the laptop safe. Finally, the battery life only last a few hours so you'll have to charge regularly. Other than that, the laptop works great and can play any game I throw at it. I would recommend it to anyone who wants an affordable gaming experience\t0\n",
    "i had to buy this for school but honestly the m1 is a better value, especially refurbished or used. if all you'll be doing is schoolwork, youtube, spotify and mail, this laptop does not feel worth 1000 bucks. i'm too lazy to return it at this point but if i could pick again i would've bought the cheaper m1 macbooks.\t0\n",
    "\n",
    "Given the following reviews, please return the judgement result:'''\n",
    "\n",
    "output_prompt = \"\"\n",
    "for _,row in df_valid.iterrows():\n",
    "    cur_label = row['label']\n",
    "    cur_text = row['sentence1']\n",
    "    cur_data = {}\n",
    "    cur_data['instruction'] = prompt\n",
    "    cur_data['input'] = cur_text\n",
    "    cur_data['output'] = output_prompt + str(cur_label)\n",
    "    valid_array.append(cur_data)\n",
    "    \n",
    "    \n",
    "    \n",
    "\n",
    "for _,row in df_train.iterrows():\n",
    "    cur_label = row['label']\n",
    "    cur_text = row['sentence1']\n",
    "    cur_data = {}\n",
    "    cur_data['instruction'] = prompt\n",
    "    cur_data['input'] = cur_text\n",
    "    cur_data['output'] = output_prompt + str(cur_label)\n",
    "    train_array.append(cur_data)\n",
    "    \n",
    "print(len(train_array),len(valid_array))\n",
    "\n",
    "valid_array[23]"
   ]
  },
  {
   "cell_type": "code",
   "execution_count": 93,
   "metadata": {},
   "outputs": [],
   "source": [
    "with open('../data/valid_prompt1.json', 'w') as f:\n",
    "    json.dump(valid_array, f, ensure_ascii=True)\n",
    "    \n",
    "with open('../data/train_prompt1.json', 'w') as f:\n",
    "    json.dump(train_array, f, ensure_ascii=True)"
   ]
  },
  {
   "cell_type": "code",
   "execution_count": 44,
   "metadata": {
    "scrolled": true
   },
   "outputs": [
    {
     "data": {
      "text/plain": [
       "[{'instruction': \"Given a computer purchase review data from an e-commerce platform, determine whether the review data contains new requirements. New requirements indicate features that the computer does not currently have. Return 1 (contains new requirements) or 0 (does not contain new requirements).\\nHere are some examples:\\n\\nThe computer runs fast, but the cooling is lacking. It would be great if it could use a freeze-like technology to cool down in a second. And then there is the screen quality is not good, cracks appeared without much use.\\t1\\nThis computer has a great processing speed and the design is sleek, but the battery life leaves a lot to be desired. I hope in the future they could incorporate solar charging features so I could work all day without worrying about running out of power.\\t1\\nThe laptop is a great choice for people who want a portable gaming experience, though there are a few problems. First, the laptop will get loud/hot very fast on newer games unless you lower the quality a lot. Second, the touchpad is sensitive and you'll find yourself accidently clicking things from time to time. Third, the people who shipped my laptop didn't have a sticker on the package warning about the lithium batteries as well as didn't even put any bubble wrap to keep the laptop safe. Finally, the battery life only last a few hours so you'll have to charge regularly. Other than that, the laptop works great and can play any game I throw at it. I would recommend it to anyone who wants an affordable gaming experience\\t0\\ni had to buy this for school but honestly the m1 is a better value, especially refurbished or used. if all you'll be doing is schoolwork, youtube, spotify and mail, this laptop does not feel worth 1000 bucks. i'm too lazy to return it at this point but if i could pick again i would've bought the cheaper m1 macbooks.\\t0\\n\\nGiven the following reviews, please return the judgement result:\",\n",
       "  'input': \"What I don't like is that every few months there's an update which crashes my computer. Up until now I fixed it with recover. At this point, 6 months in, it is totally crashed with a stop code. I'm trying to get support but the serial number are these tiny numbers on the motherboard which don't distinguish between 0 and 0. I am so disappointed in this product!\",\n",
       "  'output': 'The result is: 0'},\n",
       " {'instruction': \"Given a computer purchase review data from an e-commerce platform, determine whether the review data contains new requirements. New requirements indicate features that the computer does not currently have. Return 1 (contains new requirements) or 0 (does not contain new requirements).\\nHere are some examples:\\n\\nThe computer runs fast, but the cooling is lacking. It would be great if it could use a freeze-like technology to cool down in a second. And then there is the screen quality is not good, cracks appeared without much use.\\t1\\nThis computer has a great processing speed and the design is sleek, but the battery life leaves a lot to be desired. I hope in the future they could incorporate solar charging features so I could work all day without worrying about running out of power.\\t1\\nThe laptop is a great choice for people who want a portable gaming experience, though there are a few problems. First, the laptop will get loud/hot very fast on newer games unless you lower the quality a lot. Second, the touchpad is sensitive and you'll find yourself accidently clicking things from time to time. Third, the people who shipped my laptop didn't have a sticker on the package warning about the lithium batteries as well as didn't even put any bubble wrap to keep the laptop safe. Finally, the battery life only last a few hours so you'll have to charge regularly. Other than that, the laptop works great and can play any game I throw at it. I would recommend it to anyone who wants an affordable gaming experience\\t0\\ni had to buy this for school but honestly the m1 is a better value, especially refurbished or used. if all you'll be doing is schoolwork, youtube, spotify and mail, this laptop does not feel worth 1000 bucks. i'm too lazy to return it at this point but if i could pick again i would've bought the cheaper m1 macbooks.\\t0\\n\\nGiven the following reviews, please return the judgement result:\",\n",
       "  'input': 'I am not sure about gaming. We are just using it for school',\n",
       "  'output': 'The result is: 0'},\n",
       " {'instruction': \"Given a computer purchase review data from an e-commerce platform, determine whether the review data contains new requirements. New requirements indicate features that the computer does not currently have. Return 1 (contains new requirements) or 0 (does not contain new requirements).\\nHere are some examples:\\n\\nThe computer runs fast, but the cooling is lacking. It would be great if it could use a freeze-like technology to cool down in a second. And then there is the screen quality is not good, cracks appeared without much use.\\t1\\nThis computer has a great processing speed and the design is sleek, but the battery life leaves a lot to be desired. I hope in the future they could incorporate solar charging features so I could work all day without worrying about running out of power.\\t1\\nThe laptop is a great choice for people who want a portable gaming experience, though there are a few problems. First, the laptop will get loud/hot very fast on newer games unless you lower the quality a lot. Second, the touchpad is sensitive and you'll find yourself accidently clicking things from time to time. Third, the people who shipped my laptop didn't have a sticker on the package warning about the lithium batteries as well as didn't even put any bubble wrap to keep the laptop safe. Finally, the battery life only last a few hours so you'll have to charge regularly. Other than that, the laptop works great and can play any game I throw at it. I would recommend it to anyone who wants an affordable gaming experience\\t0\\ni had to buy this for school but honestly the m1 is a better value, especially refurbished or used. if all you'll be doing is schoolwork, youtube, spotify and mail, this laptop does not feel worth 1000 bucks. i'm too lazy to return it at this point but if i could pick again i would've bought the cheaper m1 macbooks.\\t0\\n\\nGiven the following reviews, please return the judgement result:\",\n",
       "  'input': 'the fans do get loud on turbo mode',\n",
       "  'output': 'The result is: 0'},\n",
       " {'instruction': \"Given a computer purchase review data from an e-commerce platform, determine whether the review data contains new requirements. New requirements indicate features that the computer does not currently have. Return 1 (contains new requirements) or 0 (does not contain new requirements).\\nHere are some examples:\\n\\nThe computer runs fast, but the cooling is lacking. It would be great if it could use a freeze-like technology to cool down in a second. And then there is the screen quality is not good, cracks appeared without much use.\\t1\\nThis computer has a great processing speed and the design is sleek, but the battery life leaves a lot to be desired. I hope in the future they could incorporate solar charging features so I could work all day without worrying about running out of power.\\t1\\nThe laptop is a great choice for people who want a portable gaming experience, though there are a few problems. First, the laptop will get loud/hot very fast on newer games unless you lower the quality a lot. Second, the touchpad is sensitive and you'll find yourself accidently clicking things from time to time. Third, the people who shipped my laptop didn't have a sticker on the package warning about the lithium batteries as well as didn't even put any bubble wrap to keep the laptop safe. Finally, the battery life only last a few hours so you'll have to charge regularly. Other than that, the laptop works great and can play any game I throw at it. I would recommend it to anyone who wants an affordable gaming experience\\t0\\ni had to buy this for school but honestly the m1 is a better value, especially refurbished or used. if all you'll be doing is schoolwork, youtube, spotify and mail, this laptop does not feel worth 1000 bucks. i'm too lazy to return it at this point but if i could pick again i would've bought the cheaper m1 macbooks.\\t0\\n\\nGiven the following reviews, please return the judgement result:\",\n",
       "  'input': 'had this laptop for around 3 weeks now and it is running very well. almost every game I have runs extremely fast. definitely recommended.pros:- i7-10th gen processor and a full RTX 2070 GPU- 144hz display- great keyboard- very sturdy- comes with a program that monitors the laptop and allows you to overclock- can change to a battery \"eco\" mode in the built-in program that prolongs the battery life greatly (game performance is really bad while in this mode though, so its only good for light work)cons:- battery drains really quickly while gaming- fans can be loud but this is the case for all laptops around this price range- mediocre speakers',\n",
       "  'output': 'The result is: 0'},\n",
       " {'instruction': \"Given a computer purchase review data from an e-commerce platform, determine whether the review data contains new requirements. New requirements indicate features that the computer does not currently have. Return 1 (contains new requirements) or 0 (does not contain new requirements).\\nHere are some examples:\\n\\nThe computer runs fast, but the cooling is lacking. It would be great if it could use a freeze-like technology to cool down in a second. And then there is the screen quality is not good, cracks appeared without much use.\\t1\\nThis computer has a great processing speed and the design is sleek, but the battery life leaves a lot to be desired. I hope in the future they could incorporate solar charging features so I could work all day without worrying about running out of power.\\t1\\nThe laptop is a great choice for people who want a portable gaming experience, though there are a few problems. First, the laptop will get loud/hot very fast on newer games unless you lower the quality a lot. Second, the touchpad is sensitive and you'll find yourself accidently clicking things from time to time. Third, the people who shipped my laptop didn't have a sticker on the package warning about the lithium batteries as well as didn't even put any bubble wrap to keep the laptop safe. Finally, the battery life only last a few hours so you'll have to charge regularly. Other than that, the laptop works great and can play any game I throw at it. I would recommend it to anyone who wants an affordable gaming experience\\t0\\ni had to buy this for school but honestly the m1 is a better value, especially refurbished or used. if all you'll be doing is schoolwork, youtube, spotify and mail, this laptop does not feel worth 1000 bucks. i'm too lazy to return it at this point but if i could pick again i would've bought the cheaper m1 macbooks.\\t0\\n\\nGiven the following reviews, please return the judgement result:\",\n",
       "  'input': 'Customer Service is to be commended , they immediately reached out to me via email to notify me of their free offer of a laptop bag.',\n",
       "  'output': 'The result is: 0'}]"
      ]
     },
     "execution_count": 44,
     "metadata": {},
     "output_type": "execute_result"
    }
   ],
   "source": [
    "with open('../data/valid_prompt1.json', 'r') as f:\n",
    "    res = json.load(f)\n",
    "    \n",
    "res[:5]"
   ]
  },
  {
   "cell_type": "code",
   "execution_count": 9,
   "metadata": {
    "pycharm": {
     "name": "#%%\n"
    }
   },
   "outputs": [],
   "source": [
    "df = pd.read_excel('data/novel_sentence.xlsx', header=None)"
   ]
  },
  {
   "cell_type": "code",
   "execution_count": 13,
   "metadata": {
    "pycharm": {
     "name": "#%%\n"
    }
   },
   "outputs": [
    {
     "data": {
      "text/html": [
       "<div>\n",
       "<style scoped>\n",
       "    .dataframe tbody tr th:only-of-type {\n",
       "        vertical-align: middle;\n",
       "    }\n",
       "\n",
       "    .dataframe tbody tr th {\n",
       "        vertical-align: top;\n",
       "    }\n",
       "\n",
       "    .dataframe thead th {\n",
       "        text-align: right;\n",
       "    }\n",
       "</style>\n",
       "<table border=\"1\" class=\"dataframe\">\n",
       "  <thead>\n",
       "    <tr style=\"text-align: right;\">\n",
       "      <th></th>\n",
       "      <th>0</th>\n",
       "    </tr>\n",
       "  </thead>\n",
       "  <tbody>\n",
       "    <tr>\n",
       "      <th>0</th>\n",
       "      <td>I wish on the PSU there would have been a USB ...</td>\n",
       "    </tr>\n",
       "    <tr>\n",
       "      <th>1</th>\n",
       "      <td>I do wish that there was a windows hello enabl...</td>\n",
       "    </tr>\n",
       "    <tr>\n",
       "      <th>2</th>\n",
       "      <td>Wish it had another thunderbolt 3 port</td>\n",
       "    </tr>\n",
       "    <tr>\n",
       "      <th>3</th>\n",
       "      <td>I wanted a new machine that was lighter, had b...</td>\n",
       "    </tr>\n",
       "    <tr>\n",
       "      <th>4</th>\n",
       "      <td>Wish it had more memory and a card reader</td>\n",
       "    </tr>\n",
       "    <tr>\n",
       "      <th>5</th>\n",
       "      <td>I would have been fine with a longer space bar.</td>\n",
       "    </tr>\n",
       "    <tr>\n",
       "      <th>6</th>\n",
       "      <td>I wanted a powerhouse that was light and fast.</td>\n",
       "    </tr>\n",
       "    <tr>\n",
       "      <th>7</th>\n",
       "      <td>Wish it had one more thunderbolt port instead ...</td>\n",
       "    </tr>\n",
       "    <tr>\n",
       "      <th>8</th>\n",
       "      <td>I needed something small for work and travel, ...</td>\n",
       "    </tr>\n",
       "    <tr>\n",
       "      <th>9</th>\n",
       "      <td>It could've been really nice if it had double ...</td>\n",
       "    </tr>\n",
       "    <tr>\n",
       "      <th>10</th>\n",
       "      <td>it would've been great if it came with the Eth...</td>\n",
       "    </tr>\n",
       "    <tr>\n",
       "      <th>11</th>\n",
       "      <td>It would have been ergonomically nice to have ...</td>\n",
       "    </tr>\n",
       "    <tr>\n",
       "      <th>12</th>\n",
       "      <td>If AORUS offers two AC adapters to end user wi...</td>\n",
       "    </tr>\n",
       "    <tr>\n",
       "      <th>13</th>\n",
       "      <td>It would be better if the screen is foldable, ...</td>\n",
       "    </tr>\n",
       "    <tr>\n",
       "      <th>14</th>\n",
       "      <td>I still think an even powerful laptop is neede...</td>\n",
       "    </tr>\n",
       "    <tr>\n",
       "      <th>15</th>\n",
       "      <td>The weight should be under 1.8kg so I can carr...</td>\n",
       "    </tr>\n",
       "    <tr>\n",
       "      <th>16</th>\n",
       "      <td>This is the smallest laptop I can find, but I ...</td>\n",
       "    </tr>\n",
       "    <tr>\n",
       "      <th>17</th>\n",
       "      <td>If it is foldable and can be put in my pocket,...</td>\n",
       "    </tr>\n",
       "    <tr>\n",
       "      <th>18</th>\n",
       "      <td>If a laptop has mechanical keyboard, I would d...</td>\n",
       "    </tr>\n",
       "    <tr>\n",
       "      <th>19</th>\n",
       "      <td>Maybe a laptop with multiple foldable screens ...</td>\n",
       "    </tr>\n",
       "    <tr>\n",
       "      <th>20</th>\n",
       "      <td>I would like to see some real Mini LED laptop ...</td>\n",
       "    </tr>\n",
       "    <tr>\n",
       "      <th>21</th>\n",
       "      <td>I would like super-speedy 300Hz or higher refr...</td>\n",
       "    </tr>\n",
       "    <tr>\n",
       "      <th>22</th>\n",
       "      <td>I want the laptop with good speaker and profes...</td>\n",
       "    </tr>\n",
       "    <tr>\n",
       "      <th>23</th>\n",
       "      <td>It would be fantastic if the laptop has a proj...</td>\n",
       "    </tr>\n",
       "    <tr>\n",
       "      <th>24</th>\n",
       "      <td>It would be fantastic if the laptop is foldabl...</td>\n",
       "    </tr>\n",
       "    <tr>\n",
       "      <th>25</th>\n",
       "      <td>Can we consider developing a laptop with water...</td>\n",
       "    </tr>\n",
       "    <tr>\n",
       "      <th>26</th>\n",
       "      <td>It's perfect to turn its components into modul...</td>\n",
       "    </tr>\n",
       "    <tr>\n",
       "      <th>27</th>\n",
       "      <td>It would be better if it could have cool light...</td>\n",
       "    </tr>\n",
       "    <tr>\n",
       "      <th>28</th>\n",
       "      <td>Is there a laptop that can connect more devices?</td>\n",
       "    </tr>\n",
       "    <tr>\n",
       "      <th>29</th>\n",
       "      <td>If the sound quality can reach the standard of...</td>\n",
       "    </tr>\n",
       "  </tbody>\n",
       "</table>\n",
       "</div>"
      ],
      "text/plain": [
       "                                                    0\n",
       "0   I wish on the PSU there would have been a USB ...\n",
       "1   I do wish that there was a windows hello enabl...\n",
       "2              Wish it had another thunderbolt 3 port\n",
       "3   I wanted a new machine that was lighter, had b...\n",
       "4           Wish it had more memory and a card reader\n",
       "5     I would have been fine with a longer space bar.\n",
       "6      I wanted a powerhouse that was light and fast.\n",
       "7   Wish it had one more thunderbolt port instead ...\n",
       "8   I needed something small for work and travel, ...\n",
       "9   It could've been really nice if it had double ...\n",
       "10  it would've been great if it came with the Eth...\n",
       "11  It would have been ergonomically nice to have ...\n",
       "12  If AORUS offers two AC adapters to end user wi...\n",
       "13  It would be better if the screen is foldable, ...\n",
       "14  I still think an even powerful laptop is neede...\n",
       "15  The weight should be under 1.8kg so I can carr...\n",
       "16  This is the smallest laptop I can find, but I ...\n",
       "17  If it is foldable and can be put in my pocket,...\n",
       "18  If a laptop has mechanical keyboard, I would d...\n",
       "19  Maybe a laptop with multiple foldable screens ...\n",
       "20  I would like to see some real Mini LED laptop ...\n",
       "21  I would like super-speedy 300Hz or higher refr...\n",
       "22  I want the laptop with good speaker and profes...\n",
       "23  It would be fantastic if the laptop has a proj...\n",
       "24  It would be fantastic if the laptop is foldabl...\n",
       "25  Can we consider developing a laptop with water...\n",
       "26  It's perfect to turn its components into modul...\n",
       "27  It would be better if it could have cool light...\n",
       "28   Is there a laptop that can connect more devices?\n",
       "29  If the sound quality can reach the standard of..."
      ]
     },
     "execution_count": 13,
     "metadata": {},
     "output_type": "execute_result"
    }
   ],
   "source": [
    "df"
   ]
  },
  {
   "cell_type": "code",
   "execution_count": 14,
   "metadata": {
    "pycharm": {
     "name": "#%%\n"
    }
   },
   "outputs": [
    {
     "name": "stdout",
     "output_type": "stream",
     "text": [
      "novel need: I wish on the PSU there would have been a USB port.\n",
      "novel need: I do wish that there was a windows hello enabled camera or a fingerprint reader.\n",
      "novel need: Wish it had another thunderbolt 3 port\n",
      "novel need: I wanted a new machine that was lighter, had better battery life and was just as powerful for my gaming needs\n",
      "novel need: Wish it had more memory and a card reader\n",
      "novel need: I would have been fine with a longer space bar.\n",
      "novel need: I wanted a powerhouse that was light and fast.\n",
      "novel need: Wish it had one more thunderbolt port instead of that mini display port\n",
      "novel need: I needed something small for work and travel, but strong enough to do light gaming, preferably heavy gaming.\n",
      "novel need: It could've been really nice if it had double slots for the storage.\n"
     ]
    }
   ],
   "source": [
    "for i in range(10):\n",
    "    print(\"novel need: \" + df[0].iloc[i])"
   ]
  }
 ],
 "metadata": {
  "kernelspec": {
   "display_name": "Python 3 (ipykernel)",
   "language": "python",
   "name": "python3"
  },
  "language_info": {
   "codemirror_mode": {
    "name": "ipython",
    "version": 3
   },
   "file_extension": ".py",
   "mimetype": "text/x-python",
   "name": "python",
   "nbconvert_exporter": "python",
   "pygments_lexer": "ipython3",
   "version": "3.8.16"
  }
 },
 "nbformat": 4,
 "nbformat_minor": 1
}
