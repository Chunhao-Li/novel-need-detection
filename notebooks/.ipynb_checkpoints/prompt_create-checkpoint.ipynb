{
 "cells": [
  {
   "cell_type": "code",
   "execution_count": 2,
   "metadata": {
    "pycharm": {
     "name": "#%%\n"
    }
   },
   "outputs": [],
   "source": [
    "import numpy as np\n",
    "import pandas as pd\n",
    "import json"
   ]
  },
  {
   "cell_type": "code",
   "execution_count": 77,
   "metadata": {},
   "outputs": [
    {
     "data": {
      "text/plain": [
       "label\n",
       "0    13261\n",
       "1       56\n",
       "Name: count, dtype: int64"
      ]
     },
     "execution_count": 77,
     "metadata": {},
     "output_type": "execute_result"
    }
   ],
   "source": [
    "df_train = pd.read_csv('../data/novel_train_prompt1.csv')\n",
    "df_valid = pd.read_csv('../data/novel_valid_prompt1.csv')\n",
    "df_train = df_train.dropna()\n",
    "df_valid = df_valid.dropna()\n",
    "df_train['label'].value_counts()"
   ]
  },
  {
   "cell_type": "code",
   "execution_count": 78,
   "metadata": {},
   "outputs": [
    {
     "data": {
      "text/plain": [
       "label\n",
       "0    3305\n",
       "1      24\n",
       "Name: count, dtype: int64"
      ]
     },
     "execution_count": 78,
     "metadata": {},
     "output_type": "execute_result"
    }
   ],
   "source": [
    "df_valid['label'].value_counts()"
   ]
  },
  {
   "cell_type": "code",
   "execution_count": 84,
   "metadata": {},
   "outputs": [],
   "source": [
    "df_train_0 = df_train[df_train['label']==0]\n",
    "df_train_1 = df_train[df_train['label']==1]\n",
    "df_train_0_new = df_train_0.sample(n=3000)\n",
    "\n",
    "df_valid_0 = df_valid[df_valid['label']==0]\n",
    "df_valid_1 = df_valid[df_valid['label']==1]\n",
    "df_valid_0_new = df_valid_0.sample(n=300)"
   ]
  },
  {
   "cell_type": "code",
   "execution_count": 90,
   "metadata": {},
   "outputs": [],
   "source": [
    "df_train = pd.concat([df_train_0_new, df_train_1])\n",
    "df_valid = pd.concat([df_valid_0_new, df_valid_1])\n",
    "df_train = df_train.sample(n=len(df_train))\n",
    "df_valid = df_valid.sample(n=len(df_valid))"
   ]
  },
  {
   "cell_type": "code",
   "execution_count": 91,
   "metadata": {},
   "outputs": [
    {
     "data": {
      "text/html": [
       "<div>\n",
       "<style scoped>\n",
       "    .dataframe tbody tr th:only-of-type {\n",
       "        vertical-align: middle;\n",
       "    }\n",
       "\n",
       "    .dataframe tbody tr th {\n",
       "        vertical-align: top;\n",
       "    }\n",
       "\n",
       "    .dataframe thead th {\n",
       "        text-align: right;\n",
       "    }\n",
       "</style>\n",
       "<table border=\"1\" class=\"dataframe\">\n",
       "  <thead>\n",
       "    <tr style=\"text-align: right;\">\n",
       "      <th></th>\n",
       "      <th>sentence1</th>\n",
       "      <th>label</th>\n",
       "    </tr>\n",
       "  </thead>\n",
       "  <tbody>\n",
       "    <tr>\n",
       "      <th>2617</th>\n",
       "      <td>My daughter loves her new laptop!</td>\n",
       "      <td>0</td>\n",
       "    </tr>\n",
       "    <tr>\n",
       "      <th>2161</th>\n",
       "      <td>The chatbot is impressive, as it actively enga...</td>\n",
       "      <td>1</td>\n",
       "    </tr>\n",
       "    <tr>\n",
       "      <th>2589</th>\n",
       "      <td>I haven’t bought a laptop computer since 2012,...</td>\n",
       "      <td>0</td>\n",
       "    </tr>\n",
       "    <tr>\n",
       "      <th>237</th>\n",
       "      <td>great laptop! The only downside I'd say is how...</td>\n",
       "      <td>0</td>\n",
       "    </tr>\n",
       "    <tr>\n",
       "      <th>2868</th>\n",
       "      <td>Es un equipo super rapido con pantalla y sonid...</td>\n",
       "      <td>0</td>\n",
       "    </tr>\n",
       "  </tbody>\n",
       "</table>\n",
       "</div>"
      ],
      "text/plain": [
       "                                              sentence1  label\n",
       "2617                  My daughter loves her new laptop!      0\n",
       "2161  The chatbot is impressive, as it actively enga...      1\n",
       "2589  I haven’t bought a laptop computer since 2012,...      0\n",
       "237   great laptop! The only downside I'd say is how...      0\n",
       "2868  Es un equipo super rapido con pantalla y sonid...      0"
      ]
     },
     "execution_count": 91,
     "metadata": {},
     "output_type": "execute_result"
    }
   ],
   "source": [
    "df_valid.head()"
   ]
  },
  {
   "cell_type": "code",
   "execution_count": 92,
   "metadata": {},
   "outputs": [
    {
     "name": "stdout",
     "output_type": "stream",
     "text": [
      "3056 324\n"
     ]
    },
    {
     "data": {
      "text/plain": [
       "{'instruction': \"Given a computer purchase review data from an e-commerce platform, determine whether the review data contains new requirements. New requirements indicate features that the computer does not currently have. Return 1 (contains new requirements) or 0 (does not contain new requirements).\\nHere are some examples:\\n\\nThe computer runs fast, but the cooling is lacking. It would be great if it could use a freeze-like technology to cool down in a second. And then there is the screen quality is not good, cracks appeared without much use.\\t1\\nThis computer has a great processing speed and the design is sleek, but the battery life leaves a lot to be desired. I hope in the future they could incorporate solar charging features so I could work all day without worrying about running out of power.\\t1\\nThe laptop is a great choice for people who want a portable gaming experience, though there are a few problems. First, the laptop will get loud/hot very fast on newer games unless you lower the quality a lot. Second, the touchpad is sensitive and you'll find yourself accidently clicking things from time to time. Third, the people who shipped my laptop didn't have a sticker on the package warning about the lithium batteries as well as didn't even put any bubble wrap to keep the laptop safe. Finally, the battery life only last a few hours so you'll have to charge regularly. Other than that, the laptop works great and can play any game I throw at it. I would recommend it to anyone who wants an affordable gaming experience\\t0\\ni had to buy this for school but honestly the m1 is a better value, especially refurbished or used. if all you'll be doing is schoolwork, youtube, spotify and mail, this laptop does not feel worth 1000 bucks. i'm too lazy to return it at this point but if i could pick again i would've bought the cheaper m1 macbooks.\\t0\\n\\nGiven the following reviews, please return the judgement result:\",\n",
       " 'input': 'Wish it had windows and office downloaded on it',\n",
       " 'output': '0'}"
      ]
     },
     "execution_count": 92,
     "metadata": {},
     "output_type": "execute_result"
    }
   ],
   "source": [
    "valid_array = []\n",
    "train_array = []\n",
    "prompt = '''Given a computer purchase review data from an e-commerce platform, determine whether the review data contains new requirements. New requirements indicate features that the computer does not currently have. Return 1 (contains new requirements) or 0 (does not contain new requirements).\n",
    "Here are some examples:\n",
    "\n",
    "The computer runs fast, but the cooling is lacking. It would be great if it could use a freeze-like technology to cool down in a second. And then there is the screen quality is not good, cracks appeared without much use.\t1\n",
    "This computer has a great processing speed and the design is sleek, but the battery life leaves a lot to be desired. I hope in the future they could incorporate solar charging features so I could work all day without worrying about running out of power.\t1\n",
    "The laptop is a great choice for people who want a portable gaming experience, though there are a few problems. First, the laptop will get loud/hot very fast on newer games unless you lower the quality a lot. Second, the touchpad is sensitive and you'll find yourself accidently clicking things from time to time. Third, the people who shipped my laptop didn't have a sticker on the package warning about the lithium batteries as well as didn't even put any bubble wrap to keep the laptop safe. Finally, the battery life only last a few hours so you'll have to charge regularly. Other than that, the laptop works great and can play any game I throw at it. I would recommend it to anyone who wants an affordable gaming experience\t0\n",
    "i had to buy this for school but honestly the m1 is a better value, especially refurbished or used. if all you'll be doing is schoolwork, youtube, spotify and mail, this laptop does not feel worth 1000 bucks. i'm too lazy to return it at this point but if i could pick again i would've bought the cheaper m1 macbooks.\t0\n",
    "\n",
    "Given the following reviews, please return the judgement result:'''\n",
    "\n",
    "output_prompt = \"\"\n",
    "for _,row in df_valid.iterrows():\n",
    "    cur_label = row['label']\n",
    "    cur_text = row['sentence1']\n",
    "    cur_data = {}\n",
    "    cur_data['instruction'] = prompt\n",
    "    cur_data['input'] = cur_text\n",
    "    cur_data['output'] = output_prompt + str(cur_label)\n",
    "    valid_array.append(cur_data)\n",
    "    \n",
    "    \n",
    "    \n",
    "\n",
    "for _,row in df_train.iterrows():\n",
    "    cur_label = row['label']\n",
    "    cur_text = row['sentence1']\n",
    "    cur_data = {}\n",
    "    cur_data['instruction'] = prompt\n",
    "    cur_data['input'] = cur_text\n",
    "    cur_data['output'] = output_prompt + str(cur_label)\n",
    "    train_array.append(cur_data)\n",
    "    \n",
    "print(len(train_array),len(valid_array))\n",
    "\n",
    "valid_array[23]"
   ]
  },
  {
   "cell_type": "code",
   "execution_count": 93,
   "metadata": {},
   "outputs": [],
   "source": [
    "with open('../data/valid_prompt1.json', 'w') as f:\n",
    "    json.dump(valid_array, f, ensure_ascii=True)\n",
    "    \n",
    "with open('../data/train_prompt1.json', 'w') as f:\n",
    "    json.dump(train_array, f, ensure_ascii=True)"
   ]
  },
  {
   "cell_type": "code",
   "execution_count": 44,
   "metadata": {
    "scrolled": true
   },
   "outputs": [
    {
     "data": {
      "text/plain": [
       "[{'instruction': \"Given a computer purchase review data from an e-commerce platform, determine whether the review data contains new requirements. New requirements indicate features that the computer does not currently have. Return 1 (contains new requirements) or 0 (does not contain new requirements).\\nHere are some examples:\\n\\nThe computer runs fast, but the cooling is lacking. It would be great if it could use a freeze-like technology to cool down in a second. And then there is the screen quality is not good, cracks appeared without much use.\\t1\\nThis computer has a great processing speed and the design is sleek, but the battery life leaves a lot to be desired. I hope in the future they could incorporate solar charging features so I could work all day without worrying about running out of power.\\t1\\nThe laptop is a great choice for people who want a portable gaming experience, though there are a few problems. First, the laptop will get loud/hot very fast on newer games unless you lower the quality a lot. Second, the touchpad is sensitive and you'll find yourself accidently clicking things from time to time. Third, the people who shipped my laptop didn't have a sticker on the package warning about the lithium batteries as well as didn't even put any bubble wrap to keep the laptop safe. Finally, the battery life only last a few hours so you'll have to charge regularly. Other than that, the laptop works great and can play any game I throw at it. I would recommend it to anyone who wants an affordable gaming experience\\t0\\ni had to buy this for school but honestly the m1 is a better value, especially refurbished or used. if all you'll be doing is schoolwork, youtube, spotify and mail, this laptop does not feel worth 1000 bucks. i'm too lazy to return it at this point but if i could pick again i would've bought the cheaper m1 macbooks.\\t0\\n\\nGiven the following reviews, please return the judgement result:\",\n",
       "  'input': \"What I don't like is that every few months there's an update which crashes my computer. Up until now I fixed it with recover. At this point, 6 months in, it is totally crashed with a stop code. I'm trying to get support but the serial number are these tiny numbers on the motherboard which don't distinguish between 0 and 0. I am so disappointed in this product!\",\n",
       "  'output': 'The result is: 0'},\n",
       " {'instruction': \"Given a computer purchase review data from an e-commerce platform, determine whether the review data contains new requirements. New requirements indicate features that the computer does not currently have. Return 1 (contains new requirements) or 0 (does not contain new requirements).\\nHere are some examples:\\n\\nThe computer runs fast, but the cooling is lacking. It would be great if it could use a freeze-like technology to cool down in a second. And then there is the screen quality is not good, cracks appeared without much use.\\t1\\nThis computer has a great processing speed and the design is sleek, but the battery life leaves a lot to be desired. I hope in the future they could incorporate solar charging features so I could work all day without worrying about running out of power.\\t1\\nThe laptop is a great choice for people who want a portable gaming experience, though there are a few problems. First, the laptop will get loud/hot very fast on newer games unless you lower the quality a lot. Second, the touchpad is sensitive and you'll find yourself accidently clicking things from time to time. Third, the people who shipped my laptop didn't have a sticker on the package warning about the lithium batteries as well as didn't even put any bubble wrap to keep the laptop safe. Finally, the battery life only last a few hours so you'll have to charge regularly. Other than that, the laptop works great and can play any game I throw at it. I would recommend it to anyone who wants an affordable gaming experience\\t0\\ni had to buy this for school but honestly the m1 is a better value, especially refurbished or used. if all you'll be doing is schoolwork, youtube, spotify and mail, this laptop does not feel worth 1000 bucks. i'm too lazy to return it at this point but if i could pick again i would've bought the cheaper m1 macbooks.\\t0\\n\\nGiven the following reviews, please return the judgement result:\",\n",
       "  'input': 'I am not sure about gaming. We are just using it for school',\n",
       "  'output': 'The result is: 0'},\n",
       " {'instruction': \"Given a computer purchase review data from an e-commerce platform, determine whether the review data contains new requirements. New requirements indicate features that the computer does not currently have. Return 1 (contains new requirements) or 0 (does not contain new requirements).\\nHere are some examples:\\n\\nThe computer runs fast, but the cooling is lacking. It would be great if it could use a freeze-like technology to cool down in a second. And then there is the screen quality is not good, cracks appeared without much use.\\t1\\nThis computer has a great processing speed and the design is sleek, but the battery life leaves a lot to be desired. I hope in the future they could incorporate solar charging features so I could work all day without worrying about running out of power.\\t1\\nThe laptop is a great choice for people who want a portable gaming experience, though there are a few problems. First, the laptop will get loud/hot very fast on newer games unless you lower the quality a lot. Second, the touchpad is sensitive and you'll find yourself accidently clicking things from time to time. Third, the people who shipped my laptop didn't have a sticker on the package warning about the lithium batteries as well as didn't even put any bubble wrap to keep the laptop safe. Finally, the battery life only last a few hours so you'll have to charge regularly. Other than that, the laptop works great and can play any game I throw at it. I would recommend it to anyone who wants an affordable gaming experience\\t0\\ni had to buy this for school but honestly the m1 is a better value, especially refurbished or used. if all you'll be doing is schoolwork, youtube, spotify and mail, this laptop does not feel worth 1000 bucks. i'm too lazy to return it at this point but if i could pick again i would've bought the cheaper m1 macbooks.\\t0\\n\\nGiven the following reviews, please return the judgement result:\",\n",
       "  'input': 'the fans do get loud on turbo mode',\n",
       "  'output': 'The result is: 0'},\n",
       " {'instruction': \"Given a computer purchase review data from an e-commerce platform, determine whether the review data contains new requirements. New requirements indicate features that the computer does not currently have. Return 1 (contains new requirements) or 0 (does not contain new requirements).\\nHere are some examples:\\n\\nThe computer runs fast, but the cooling is lacking. It would be great if it could use a freeze-like technology to cool down in a second. And then there is the screen quality is not good, cracks appeared without much use.\\t1\\nThis computer has a great processing speed and the design is sleek, but the battery life leaves a lot to be desired. I hope in the future they could incorporate solar charging features so I could work all day without worrying about running out of power.\\t1\\nThe laptop is a great choice for people who want a portable gaming experience, though there are a few problems. First, the laptop will get loud/hot very fast on newer games unless you lower the quality a lot. Second, the touchpad is sensitive and you'll find yourself accidently clicking things from time to time. Third, the people who shipped my laptop didn't have a sticker on the package warning about the lithium batteries as well as didn't even put any bubble wrap to keep the laptop safe. Finally, the battery life only last a few hours so you'll have to charge regularly. Other than that, the laptop works great and can play any game I throw at it. I would recommend it to anyone who wants an affordable gaming experience\\t0\\ni had to buy this for school but honestly the m1 is a better value, especially refurbished or used. if all you'll be doing is schoolwork, youtube, spotify and mail, this laptop does not feel worth 1000 bucks. i'm too lazy to return it at this point but if i could pick again i would've bought the cheaper m1 macbooks.\\t0\\n\\nGiven the following reviews, please return the judgement result:\",\n",
       "  'input': 'had this laptop for around 3 weeks now and it is running very well. almost every game I have runs extremely fast. definitely recommended.pros:- i7-10th gen processor and a full RTX 2070 GPU- 144hz display- great keyboard- very sturdy- comes with a program that monitors the laptop and allows you to overclock- can change to a battery \"eco\" mode in the built-in program that prolongs the battery life greatly (game performance is really bad while in this mode though, so its only good for light work)cons:- battery drains really quickly while gaming- fans can be loud but this is the case for all laptops around this price range- mediocre speakers',\n",
       "  'output': 'The result is: 0'},\n",
       " {'instruction': \"Given a computer purchase review data from an e-commerce platform, determine whether the review data contains new requirements. New requirements indicate features that the computer does not currently have. Return 1 (contains new requirements) or 0 (does not contain new requirements).\\nHere are some examples:\\n\\nThe computer runs fast, but the cooling is lacking. It would be great if it could use a freeze-like technology to cool down in a second. And then there is the screen quality is not good, cracks appeared without much use.\\t1\\nThis computer has a great processing speed and the design is sleek, but the battery life leaves a lot to be desired. I hope in the future they could incorporate solar charging features so I could work all day without worrying about running out of power.\\t1\\nThe laptop is a great choice for people who want a portable gaming experience, though there are a few problems. First, the laptop will get loud/hot very fast on newer games unless you lower the quality a lot. Second, the touchpad is sensitive and you'll find yourself accidently clicking things from time to time. Third, the people who shipped my laptop didn't have a sticker on the package warning about the lithium batteries as well as didn't even put any bubble wrap to keep the laptop safe. Finally, the battery life only last a few hours so you'll have to charge regularly. Other than that, the laptop works great and can play any game I throw at it. I would recommend it to anyone who wants an affordable gaming experience\\t0\\ni had to buy this for school but honestly the m1 is a better value, especially refurbished or used. if all you'll be doing is schoolwork, youtube, spotify and mail, this laptop does not feel worth 1000 bucks. i'm too lazy to return it at this point but if i could pick again i would've bought the cheaper m1 macbooks.\\t0\\n\\nGiven the following reviews, please return the judgement result:\",\n",
       "  'input': 'Customer Service is to be commended , they immediately reached out to me via email to notify me of their free offer of a laptop bag.',\n",
       "  'output': 'The result is: 0'}]"
      ]
     },
     "execution_count": 44,
     "metadata": {},
     "output_type": "execute_result"
    }
   ],
   "source": [
    "with open('../data/valid_prompt1.json', 'r') as f:\n",
    "    res = json.load(f)\n",
    "    \n",
    "res[:5]"
   ]
  },
  {
   "cell_type": "code",
   "execution_count": 9,
   "metadata": {
    "pycharm": {
     "name": "#%%\n"
    }
   },
   "outputs": [],
   "source": [
    "df = pd.read_excel('data/novel_sentence.xlsx', header=None)"
   ]
  },
  {
   "cell_type": "code",
   "execution_count": 13,
   "metadata": {
    "pycharm": {
     "name": "#%%\n"
    }
   },
   "outputs": [
    {
     "data": {
      "text/html": [
       "<div>\n",
       "<style scoped>\n",
       "    .dataframe tbody tr th:only-of-type {\n",
       "        vertical-align: middle;\n",
       "    }\n",
       "\n",
       "    .dataframe tbody tr th {\n",
       "        vertical-align: top;\n",
       "    }\n",
       "\n",
       "    .dataframe thead th {\n",
       "        text-align: right;\n",
       "    }\n",
       "</style>\n",
       "<table border=\"1\" class=\"dataframe\">\n",
       "  <thead>\n",
       "    <tr style=\"text-align: right;\">\n",
       "      <th></th>\n",
       "      <th>0</th>\n",
       "    </tr>\n",
       "  </thead>\n",
       "  <tbody>\n",
       "    <tr>\n",
       "      <th>0</th>\n",
       "      <td>I wish on the PSU there would have been a USB ...</td>\n",
       "    </tr>\n",
       "    <tr>\n",
       "      <th>1</th>\n",
       "      <td>I do wish that there was a windows hello enabl...</td>\n",
       "    </tr>\n",
       "    <tr>\n",
       "      <th>2</th>\n",
       "      <td>Wish it had another thunderbolt 3 port</td>\n",
       "    </tr>\n",
       "    <tr>\n",
       "      <th>3</th>\n",
       "      <td>I wanted a new machine that was lighter, had b...</td>\n",
       "    </tr>\n",
       "    <tr>\n",
       "      <th>4</th>\n",
       "      <td>Wish it had more memory and a card reader</td>\n",
       "    </tr>\n",
       "    <tr>\n",
       "      <th>5</th>\n",
       "      <td>I would have been fine with a longer space bar.</td>\n",
       "    </tr>\n",
       "    <tr>\n",
       "      <th>6</th>\n",
       "      <td>I wanted a powerhouse that was light and fast.</td>\n",
       "    </tr>\n",
       "    <tr>\n",
       "      <th>7</th>\n",
       "      <td>Wish it had one more thunderbolt port instead ...</td>\n",
       "    </tr>\n",
       "    <tr>\n",
       "      <th>8</th>\n",
       "      <td>I needed something small for work and travel, ...</td>\n",
       "    </tr>\n",
       "    <tr>\n",
       "      <th>9</th>\n",
       "      <td>It could've been really nice if it had double ...</td>\n",
       "    </tr>\n",
       "    <tr>\n",
       "      <th>10</th>\n",
       "      <td>it would've been great if it came with the Eth...</td>\n",
       "    </tr>\n",
       "    <tr>\n",
       "      <th>11</th>\n",
       "      <td>It would have been ergonomically nice to have ...</td>\n",
       "    </tr>\n",
       "    <tr>\n",
       "      <th>12</th>\n",
       "      <td>If AORUS offers two AC adapters to end user wi...</td>\n",
       "    </tr>\n",
       "    <tr>\n",
       "      <th>13</th>\n",
       "      <td>It would be better if the screen is foldable, ...</td>\n",
       "    </tr>\n",
       "    <tr>\n",
       "      <th>14</th>\n",
       "      <td>I still think an even powerful laptop is neede...</td>\n",
       "    </tr>\n",
       "    <tr>\n",
       "      <th>15</th>\n",
       "      <td>The weight should be under 1.8kg so I can carr...</td>\n",
       "    </tr>\n",
       "    <tr>\n",
       "      <th>16</th>\n",
       "      <td>This is the smallest laptop I can find, but I ...</td>\n",
       "    </tr>\n",
       "    <tr>\n",
       "      <th>17</th>\n",
       "      <td>If it is foldable and can be put in my pocket,...</td>\n",
       "    </tr>\n",
       "    <tr>\n",
       "      <th>18</th>\n",
       "      <td>If a laptop has mechanical keyboard, I would d...</td>\n",
       "    </tr>\n",
       "    <tr>\n",
       "      <th>19</th>\n",
       "      <td>Maybe a laptop with multiple foldable screens ...</td>\n",
       "    </tr>\n",
       "    <tr>\n",
       "      <th>20</th>\n",
       "      <td>I would like to see some real Mini LED laptop ...</td>\n",
       "    </tr>\n",
       "    <tr>\n",
       "      <th>21</th>\n",
       "      <td>I would like super-speedy 300Hz or higher refr...</td>\n",
       "    </tr>\n",
       "    <tr>\n",
       "      <th>22</th>\n",
       "      <td>I want the laptop with good speaker and profes...</td>\n",
       "    </tr>\n",
       "    <tr>\n",
       "      <th>23</th>\n",
       "      <td>It would be fantastic if the laptop has a proj...</td>\n",
       "    </tr>\n",
       "    <tr>\n",
       "      <th>24</th>\n",
       "      <td>It would be fantastic if the laptop is foldabl...</td>\n",
       "    </tr>\n",
       "    <tr>\n",
       "      <th>25</th>\n",
       "      <td>Can we consider developing a laptop with water...</td>\n",
       "    </tr>\n",
       "    <tr>\n",
       "      <th>26</th>\n",
       "      <td>It's perfect to turn its components into modul...</td>\n",
       "    </tr>\n",
       "    <tr>\n",
       "      <th>27</th>\n",
       "      <td>It would be better if it could have cool light...</td>\n",
       "    </tr>\n",
       "    <tr>\n",
       "      <th>28</th>\n",
       "      <td>Is there a laptop that can connect more devices?</td>\n",
       "    </tr>\n",
       "    <tr>\n",
       "      <th>29</th>\n",
       "      <td>If the sound quality can reach the standard of...</td>\n",
       "    </tr>\n",
       "  </tbody>\n",
       "</table>\n",
       "</div>"
      ],
      "text/plain": [
       "                                                    0\n",
       "0   I wish on the PSU there would have been a USB ...\n",
       "1   I do wish that there was a windows hello enabl...\n",
       "2              Wish it had another thunderbolt 3 port\n",
       "3   I wanted a new machine that was lighter, had b...\n",
       "4           Wish it had more memory and a card reader\n",
       "5     I would have been fine with a longer space bar.\n",
       "6      I wanted a powerhouse that was light and fast.\n",
       "7   Wish it had one more thunderbolt port instead ...\n",
       "8   I needed something small for work and travel, ...\n",
       "9   It could've been really nice if it had double ...\n",
       "10  it would've been great if it came with the Eth...\n",
       "11  It would have been ergonomically nice to have ...\n",
       "12  If AORUS offers two AC adapters to end user wi...\n",
       "13  It would be better if the screen is foldable, ...\n",
       "14  I still think an even powerful laptop is neede...\n",
       "15  The weight should be under 1.8kg so I can carr...\n",
       "16  This is the smallest laptop I can find, but I ...\n",
       "17  If it is foldable and can be put in my pocket,...\n",
       "18  If a laptop has mechanical keyboard, I would d...\n",
       "19  Maybe a laptop with multiple foldable screens ...\n",
       "20  I would like to see some real Mini LED laptop ...\n",
       "21  I would like super-speedy 300Hz or higher refr...\n",
       "22  I want the laptop with good speaker and profes...\n",
       "23  It would be fantastic if the laptop has a proj...\n",
       "24  It would be fantastic if the laptop is foldabl...\n",
       "25  Can we consider developing a laptop with water...\n",
       "26  It's perfect to turn its components into modul...\n",
       "27  It would be better if it could have cool light...\n",
       "28   Is there a laptop that can connect more devices?\n",
       "29  If the sound quality can reach the standard of..."
      ]
     },
     "execution_count": 13,
     "metadata": {},
     "output_type": "execute_result"
    }
   ],
   "source": [
    "df"
   ]
  },
  {
   "cell_type": "code",
   "execution_count": 14,
   "metadata": {
    "pycharm": {
     "name": "#%%\n"
    }
   },
   "outputs": [
    {
     "name": "stdout",
     "output_type": "stream",
     "text": [
      "novel need: I wish on the PSU there would have been a USB port.\n",
      "novel need: I do wish that there was a windows hello enabled camera or a fingerprint reader.\n",
      "novel need: Wish it had another thunderbolt 3 port\n",
      "novel need: I wanted a new machine that was lighter, had better battery life and was just as powerful for my gaming needs\n",
      "novel need: Wish it had more memory and a card reader\n",
      "novel need: I would have been fine with a longer space bar.\n",
      "novel need: I wanted a powerhouse that was light and fast.\n",
      "novel need: Wish it had one more thunderbolt port instead of that mini display port\n",
      "novel need: I needed something small for work and travel, but strong enough to do light gaming, preferably heavy gaming.\n",
      "novel need: It could've been really nice if it had double slots for the storage.\n"
     ]
    }
   ],
   "source": [
    "for i in range(10):\n",
    "    print(\"novel need: \" + df[0].iloc[i])"
   ]
  },
  {
   "cell_type": "code",
   "execution_count": null,
   "metadata": {},
   "outputs": [],
   "source": []
  },
  {
   "cell_type": "markdown",
   "metadata": {},
   "source": [
    "## Data statistic"
   ]
  },
  {
   "cell_type": "code",
   "execution_count": 60,
   "metadata": {},
   "outputs": [
    {
     "name": "stderr",
     "output_type": "stream",
     "text": [
      "/var/folders/d8/2y_jk5rx6hqfkxl1fjgh5lwh0000gn/T/ipykernel_59594/986036026.py:4: SettingWithCopyWarning: \n",
      "A value is trying to be set on a copy of a slice from a DataFrame\n",
      "\n",
      "See the caveats in the documentation: https://pandas.pydata.org/pandas-docs/stable/user_guide/indexing.html#returning-a-view-versus-a-copy\n",
      "  df_need_gv1.dropna(inplace=True)\n",
      "/var/folders/d8/2y_jk5rx6hqfkxl1fjgh5lwh0000gn/T/ipykernel_59594/986036026.py:5: SettingWithCopyWarning: \n",
      "A value is trying to be set on a copy of a slice from a DataFrame\n",
      "\n",
      "See the caveats in the documentation: https://pandas.pydata.org/pandas-docs/stable/user_guide/indexing.html#returning-a-view-versus-a-copy\n",
      "  df_need_gv2.dropna(inplace=True)\n"
     ]
    }
   ],
   "source": [
    "df_need = pd.read_excel('../data/new_novel_need.xlsx')\n",
    "df_need_gv1 = df_need[['generate_v1']]\n",
    "df_need_gv2 = df_need[['generate_v2']]\n",
    "df_need_gv1.dropna(inplace=True)\n",
    "df_need_gv2.dropna(inplace=True)"
   ]
  },
  {
   "cell_type": "code",
   "execution_count": 63,
   "metadata": {},
   "outputs": [
    {
     "name": "stdout",
     "output_type": "stream",
     "text": [
      "count     80.00000\n",
      "mean     284.11250\n",
      "std       67.42403\n",
      "min      166.00000\n",
      "25%      235.50000\n",
      "50%      283.50000\n",
      "75%      323.00000\n",
      "max      510.00000\n",
      "Name: len, dtype: float64\n"
     ]
    },
    {
     "name": "stderr",
     "output_type": "stream",
     "text": [
      "/var/folders/d8/2y_jk5rx6hqfkxl1fjgh5lwh0000gn/T/ipykernel_59594/1061950457.py:1: SettingWithCopyWarning: \n",
      "A value is trying to be set on a copy of a slice from a DataFrame.\n",
      "Try using .loc[row_indexer,col_indexer] = value instead\n",
      "\n",
      "See the caveats in the documentation: https://pandas.pydata.org/pandas-docs/stable/user_guide/indexing.html#returning-a-view-versus-a-copy\n",
      "  df_need_gv1['len'] = df_need_gv1['generate_v1'].apply(lambda x: len(x))\n",
      "/var/folders/d8/2y_jk5rx6hqfkxl1fjgh5lwh0000gn/T/ipykernel_59594/1061950457.py:4: SettingWithCopyWarning: \n",
      "A value is trying to be set on a copy of a slice from a DataFrame.\n",
      "Try using .loc[row_indexer,col_indexer] = value instead\n",
      "\n",
      "See the caveats in the documentation: https://pandas.pydata.org/pandas-docs/stable/user_guide/indexing.html#returning-a-view-versus-a-copy\n",
      "  df_need_gv2['len'] = df_need_gv2['generate_v2'].apply(lambda x: len(x))\n"
     ]
    },
    {
     "data": {
      "text/plain": [
       "count      91.000000\n",
       "mean      399.142857\n",
       "std       348.591278\n",
       "min       166.000000\n",
       "25%       247.000000\n",
       "50%       295.000000\n",
       "75%       342.500000\n",
       "max      2201.000000\n",
       "Name: len, dtype: float64"
      ]
     },
     "execution_count": 63,
     "metadata": {},
     "output_type": "execute_result"
    }
   ],
   "source": [
    "df_need_gv1['len'] = df_need_gv1['generate_v1'].apply(lambda x: len(x))\n",
    "print(df_need_gv1['len'].describe())\n",
    "\n",
    "df_need_gv2['len'] = df_need_gv2['generate_v2'].apply(lambda x: len(x))\n",
    "df_need_gv2['len'].describe()"
   ]
  },
  {
   "cell_type": "code",
   "execution_count": 39,
   "metadata": {
    "scrolled": true
   },
   "outputs": [
    {
     "data": {
      "text/plain": [
       "count    13317.000000\n",
       "mean       322.595930\n",
       "std        559.355036\n",
       "min          1.000000\n",
       "25%         61.000000\n",
       "50%        142.000000\n",
       "75%        355.000000\n",
       "max       9708.000000\n",
       "Name: len, dtype: float64"
      ]
     },
     "execution_count": 39,
     "metadata": {},
     "output_type": "execute_result"
    }
   ],
   "source": [
    "df_train = pd.read_csv('../data/novel_train_prompt1.csv')\n",
    "df_train.dropna(inplace=True)\n",
    "df_train['len'] = df_train['sentence1'].apply(lambda x: len(x))\n",
    "df_train['len'].describe()"
   ]
  },
  {
   "cell_type": "code",
   "execution_count": 54,
   "metadata": {},
   "outputs": [
    {
     "name": "stdout",
     "output_type": "stream",
     "text": [
      "This is a good PC for the money. I am predominantly using it for graphic design, and it allows me to use multiple applications at once with no lag. It is additionally good for gaming, as well as business use (it is my business laptop as well). Though built for gamers, this is an all around well made machine. Best part of the PC is it is FAST.I will note the fan is a little loud, but that isn't a surprise based on other reviews. Also, the battery life isn't great, but i keep it plugged in most of the time. Screen resolution and quality is good, though nothing to brag about compared to other laptops in the market today. Using multiple monitors it doesn't bother me much.I would recommend this computer as one of the best bang-for-your-buck purchases you can get in the market today.\n",
      "\n",
      "Bought one and 4 days after receiving it, it looked like first 2 pics upon booting. Replaced it and the last 2 pics are what the replacement looked like after a few days as well. It would not happen every time, but it would have that white line around the edge for maybe 30 min and would fade back to normal. More recently, the replacement won't turn on immediately after hitting power button. The screen stays black and no response for 15 minutes or so. I wanted to give it one more chance, because I haven't read about this happening to anyone else and I received these two laptops right before Amazon went out of stock, so I thought maybe I just got bad ones at the end but, unfortunately, Amazon can only provide a refund and are still out of stock.\n",
      "\n",
      "After sending back my other computer (an Acer) I paid the extra 100$ and got this guy for gaming. After 30 minutes of updates....It blew my mind how awesome this machine is. The keyboard lighting is fully customizable. It has overclock setting built in so you do not have to crash your computer a bunch of times to get it right. I play all my games on Ultra and it is 100fps+. I am so glad I went with the Predator and will be staying with this from now on. Also, I will be installing a 1tb SSD in the empty slot to add more space. Can't say enough good things about how light, stylish and out of the box ready for gaming it is!\n",
      "\n",
      "I use an XPS 17 as my workstation. For going places though, this super small laptop can do everything I need. It has 2 Thunderbolt 4 ports (USB C) and a micro-SD card reader. I use the reader with a 1TB micro-SD to store all my reference files. This makes the 512GB SSD more than adequate. My XPS 13 has 16GB ram which is more than enough for the purposes for which I use this machine. My only wish is if one had a 5G option so I would have to use a Hot Spot connection. The 1920x1200 display resolution is perfect. The XPS 13 is too small to really use 4K properly and battery life on 4K laptops is significantly less than these HD+ machines.\n",
      "\n"
     ]
    }
   ],
   "source": [
    "for sent in list(df_train[(df_train['len']>=300)]['sentence1'])[234:238]:\n",
    "    print(sent)\n",
    "    print()"
   ]
  },
  {
   "cell_type": "code",
   "execution_count": 6,
   "metadata": {},
   "outputs": [
    {
     "name": "stdout",
     "output_type": "stream",
     "text": [
      "324 3056\n"
     ]
    }
   ],
   "source": [
    "with open('../data/valid_prompt1_300.json', 'r') as f:\n",
    "    valid_array = json.load(f)\n",
    "\n",
    "with open('../data/train_prompt1_3000.json', 'r') as f:\n",
    "    train_array = json.load(f)\n",
    "    \n",
    "print(len(valid_array),len(train_array))"
   ]
  },
  {
   "cell_type": "code",
   "execution_count": 8,
   "metadata": {},
   "outputs": [],
   "source": [
    "neg_samples = []\n",
    "pos_samples = []\n",
    "\n",
    "for d in train_array:\n",
    "    if d['output'] == '0':\n",
    "        neg_samples.append(d['input'])\n",
    "    else:\n",
    "        pos_samples.append(d['input'])\n",
    "        \n",
    "for d in valid_array:\n",
    "    if d['output'] == '0':\n",
    "        neg_samples.append(d['input'])\n",
    "    else:\n",
    "        pos_samples.append(d['input'])"
   ]
  },
  {
   "cell_type": "code",
   "execution_count": 14,
   "metadata": {},
   "outputs": [
    {
     "data": {
      "text/html": [
       "<div>\n",
       "<style scoped>\n",
       "    .dataframe tbody tr th:only-of-type {\n",
       "        vertical-align: middle;\n",
       "    }\n",
       "\n",
       "    .dataframe tbody tr th {\n",
       "        vertical-align: top;\n",
       "    }\n",
       "\n",
       "    .dataframe thead th {\n",
       "        text-align: right;\n",
       "    }\n",
       "</style>\n",
       "<table border=\"1\" class=\"dataframe\">\n",
       "  <thead>\n",
       "    <tr style=\"text-align: right;\">\n",
       "      <th></th>\n",
       "      <th>pos_text</th>\n",
       "    </tr>\n",
       "  </thead>\n",
       "  <tbody>\n",
       "    <tr>\n",
       "      <th>0</th>\n",
       "      <td>The display features an anti-glare or matte fi...</td>\n",
       "    </tr>\n",
       "    <tr>\n",
       "      <th>1</th>\n",
       "      <td>The keyboard includes dedicated media keys and...</td>\n",
       "    </tr>\n",
       "    <tr>\n",
       "      <th>2</th>\n",
       "      <td>The built-in mini projector in this computer i...</td>\n",
       "    </tr>\n",
       "    <tr>\n",
       "      <th>3</th>\n",
       "      <td>A fully foldable laptop, including a foldable ...</td>\n",
       "    </tr>\n",
       "    <tr>\n",
       "      <th>4</th>\n",
       "      <td>This computer's alternative energy power sourc...</td>\n",
       "    </tr>\n",
       "  </tbody>\n",
       "</table>\n",
       "</div>"
      ],
      "text/plain": [
       "                                            pos_text\n",
       "0  The display features an anti-glare or matte fi...\n",
       "1  The keyboard includes dedicated media keys and...\n",
       "2  The built-in mini projector in this computer i...\n",
       "3  A fully foldable laptop, including a foldable ...\n",
       "4  This computer's alternative energy power sourc..."
      ]
     },
     "execution_count": 14,
     "metadata": {},
     "output_type": "execute_result"
    }
   ],
   "source": [
    "df_pos = pd.DataFrame.from_dict({'pos_text':pos_samples})\n",
    "df_neg = pd.DataFrame.from_dict({'neg_text':neg_samples})\n",
    "df_pos.head()"
   ]
  },
  {
   "cell_type": "code",
   "execution_count": 48,
   "metadata": {},
   "outputs": [
    {
     "data": {
      "text/plain": [
       "['The keyboard comes with customizable backlighting and macros, letting you tailor your typing experience to your preferences and needs, in line with the 2018 standard for keyboards.',\n",
       " 'Thanks to its edge-detection technology, the touchscreen intelligently distinguishes between intentional touches and accidental ones.',\n",
       " 'The fanless architecture of this computer is a blessing for those who prefer a completely silent working environment.',\n",
       " \"Experience a new depth of viewing with the device's 3-Dimensional mode, which brings your images to life on the touchscreen.\",\n",
       " 'As blockchain technology rises, the integration of distributed computing frameworks in computers could be a game changer. This would allow for decentralized processing and secure data storage, enabling faster and more reliable data processing, enhancing privacy and security, and supporting decentralized applications across various industries.',\n",
       " 'A fantastic addition that AORUS could offer would be two AC adapters. This would be a truly beneficial inclusion for end users.',\n",
       " 'This laptop comes with an onboard document reader, scanner, and photo editor, providing a comprehensive suite of tools for productivity.',\n",
       " 'A fully foldable laptop, including a foldable screen and keyboard, would be a phenomenal innovation. The ability to fold it into a small pack that fits into a pocket would redefine portability.',\n",
       " 'The idea of computers supporting wireless charging for peripherals and mobile devices is just brilliant. It would eliminate the need for cables and provide convenient power transfer. Say goodbye to tangled cords and hello to hassle-free charging.',\n",
       " 'The device offers interactive tutorials that guide you step-by-step on the touchscreen, simplifying the learning curve.']"
      ]
     },
     "execution_count": 48,
     "metadata": {},
     "output_type": "execute_result"
    }
   ],
   "source": [
    "df_add_noise = df_pos.sample(n=10)\n",
    "list(df_add_noise.pos_text)"
   ]
  },
  {
   "cell_type": "raw",
   "metadata": {},
   "source": [
    "This computer really took my attention due to the intricate detailing it allows with the keyboard, something that you don't often find in your typical machines. The keyboard is equipped with fully customizable backlighting and macros, which isn't just a perk but seems to be more of a necessity with the shift towards more personalized technology experiences. These innovative features on the keyboard allow you to tailor your typing experience according to your unique preferences and needs. And it's not just about how it illuminates the keys in a dazzling array of colors for aesthetic purposes or to type in the dark. The customizability goes way beyond that, giving users the chance to truly make their computing experience their own. Each key can be individually programmed to perform specific functions, whether it's launching a particular application, executing a series of commands, or just typing out a frequently used phrase. This feature is indeed in line with the 2018 standard for keyboards but goes well beyond just ticking a box. Imagine, being a graphic designer, where you frequently use a combination of keys to perform certain tasks in design software. With this keyboard, you can set those combinations as macros. All those tasks can be performed with a single keystroke, enhancing your productivity by leaps and bounds. Gamers, too, would find this feature to be an absolute game-changer as it would allow them to program complex in-game maneuvers to individual keys, offering them a significant advantage during gameplay. Additionally, in the future, I would love to see keyboards that are equipped with touch-sensitive keys, adding a whole new layer of interactivity and functionality. For instance, the pressure applied to a key could determine the speed of an on-screen character in a game or the thickness of a line in a graphic design tool. A built-in haptic feedback feature would be fantastic too, providing real-time tactile responses to our keystrokes, enhancing the typing experience even further. Although this keyboard is indeed a considerable step up from what we are used to, there's always room for growth, and I am excited about the possibilities for the future.\n",
    "\n",
    "I recently purchased this fantastic laptop which stood out in the crowded market due to its unique edge-detection technology. This touchscreen feature intelligently distinguishes between intentional touches and accidental ones, making the user experience much smoother. As an illustrator who often uses touch and pen interfaces for my work, this has been a game-changer. The touchscreen recognizes when I am drawing versus when my palm accidentally brushes against the screen. The palm-rejection has been phenomenally accurate, ensuring that my designs are not marred by errant strokes. Additionally, the screen comes with a high refresh rate, which makes the animation process incredibly smooth and real-time. What I would love to see in the future is the incorporation of haptic feedback technology, providing a tactile response, giving an even more immersive experience. This feature would elevate the touch experience, simulating the feel of various textures and surfaces, making drawing on the screen feel more like drawing on real paper. The laptop also has excellent pressure sensitivity levels which could be enhanced by introducing adaptive pressure sensing. This advanced technology would adjust the sensitivity according to the drawing tool being used, replicating the pressure required for a real brush or pencil. This would give artists like me the ability to create more nuanced strokes and enhance the overall artistry of our work.\n",
    "\n",
    "The system software has issues. When I tried to activate it using the key given by Microsoft, the key input screen was not displayed properly (partially blacked out), I did not even have the chance to enter the key. Later, I tried activating it using an email verification code. They sent a 4-digit code, but the screen for entering the verification code was partially white, and I could not proceed to the next step, the system was in a freeze state. The design and craftsmanship are acceptable, it looks pretty nice, and that's what attracted me. The system does not run as fast as I expected. The performance of the 13th generation i7 CPU is disappointing. What I am most satisfied with is the battery life, which is also the reason I bought a new notebook. The first full charge lasted two hours and only used 8% of the battery, compared to the previous one which used over 80%. The appearance is also nice, simple but not ordinary, the weight and thickness are acceptable. The heat dissipation is quite ordinary, it started to heat up when I started installing software. Despite being in an air-conditioned room, hot air was blowing from the fan side and some parts of the keyboard were hot. But it's okay for coding, the fan almost doesn't spin and the heat is not high. Consider adding a personalized backlight and macro control keys to the keyboard, it would be nice to be able to customize according to personal needs and preferences. The hard drive is pretty average, at the level of PCIe 3.0, single hard drive slot, and the memory is probably onboard as well. There was a sharp noise when testing the hard drive, but it did not happen again. On the whole, I'm quite satisfied.\n",
    "\n",
    "I received the item and it's really great! I have nothing to complain about the quality, very satisfied! The logistics were incredibly fast. I placed the order on June 17th and it arrived the next day. It's simply one word: fast. After testing the computer for over a month, there were no problems with the screen or hinge, the screen color was clear, there were no dead pixels, and there were no problems with the keyboard or touchpad. The configuration is also sufficient. It meets basic office needs and can occasionally play games. Tested Mount & Blade II: Bannerlord, can open a battlefield of a thousand men. However, the fan is indeed loud and makes a lot of noise when it spins. Also, the keys are too soft, not according to personal preference. The C drive is 200GB, D drive is 240GB, 16GB of running memory, and the CPU running speed is as described. But the courier insisted on self-pickup, the courier packaging was dirty and had traces of bubbles. I would like to mention that the keyboard touchpad should add edge detection to identify whether it is a misoperation. Otherwise, it's too sensitive. But overall, it performs satisfactorily.\n",
    "\n",
    "The quality control has big issues, the base is uneven, it's like a telegram machine, and the electric fan is too noisy!! Can you add a completely noiseless fan? I need a quiet working environment. Moreover, complaining about the first time I applied for after-sales service, the engineer told me over the phone that they didn't delete the password and needed to return it for operation. After the machine was returned and the password was deleted, I applied again. The after-sales service refused the after-sales review on the grounds of detecting no faults and kept asking me to provide more information. I called customer service many times to apply. In the end, it was the customer service who couldn't stand it and gave the second return. This time the after-sales service again detected no faults and returned it as it was. The online customer service told me to go offline and check it myself. Consumers are really a vulnerable group, can't they see such obvious quality problems? I'm here to remind everyone, be careful when buying! They will only evade responsibility! These issues can be determined by just looking at the video, why keep testing? I have no choice but to post this video here. I will defend my rights to the end. I don't believe it. Can't I find a place to reason?\n",
    "\n",
    "The texture is really good. The full metal CNC gives a sense of high quality, working on it on the high-speed train does not lose its style, the keyboard feels improved, the feedback force is good, typing is handy! Paired with the performance of the processor and the screen's visual experience, it is a great helper for creating productivity. The screen's graininess is much better than my previous Acer when looked at with the naked eye, the LCD screen is not so dazzling, personally, I think computer screens are better with LCD, with three levels of refresh rate: 60hz, 90hz, 120hz, switch at will (fn+K key), plug in for high refresh rate, worry about battery life on a business trip then 60. Strongly recommend adding a naked-eye 3D, to enhance the immersive feeling. Especially the voice assistant gives a refreshing feeling, ask about the weather, ask a question, it immediately tells you the answer, very good. The processor scheduling is also quite open, killing the independent graphics card is not a problem. Finally, I hope to do better and create more touching tech products.\n",
    "\n",
    "The old laptop at home broke down. Two colleagues at work use this laptop, the one who has been using it for the longest has been using it for over half a year. Both said that it's very good to use, high configuration, high cost performance, fast operation, and highly recommended this model. So, I also bought this model. After buying it, it didn't disappoint me. Full metal shell, fashionable appearance, fast operation, very fast boot up, it feels like it completes in less than ten seconds, the Office it comes with is just what I need, great! As a blockchain technology worker, I hope it can integrate a distributed computer and then use the central computer to quickly and securely process and save data. Finally, talking about customer service, very professional and patient. If you can't solve a problem, the customer service patiently replies one by one, teaches bit by bit, very good.\n",
    "\n",
    "I bought a new computer and the product I received was deformed and bent. Can't they make a computer out of a diamond-like material that's resistant to everything? With that, not to mention bending, even going into water wouldn't be a problem. I applied for a replacement after it was bent, but the after-sales staff bent it back by hand and sent it back to me. Even if it's bent back, they should get my agreement, right? Is it unreasonable to deal with it without my agreement? This is how it was when I received it, why should consumers pay for it? After-sales service is just kicking the ball around. They told me to find them, then they told me to find others, what the hell? Why do such good advertising? Also, \"180 days replacement without repair\", if you can't do it, don't brag. Just bought it and they won't give me a new one. Also claimed 180 days replacement without repair, are they deceiving your grandpa? Playing word games is interesting? Only system problems will be replaced, the shell won't be replaced. If you can't do it, don't brag. What the hell... My motherboard was broken by their after-sales service, and they won't replace it. It must be a system problem to work. .....**......\n",
    "\n",
    "\n",
    "I placed the order last night and received it this morning, the delivery speed is very fast. Kudos to the logistics, this computer is a war66, 13th generation Intel Core processor, 16GB memory, 512GB hard drive. I tried it, the speed is quite fast. It's a lightweight notebook, not heavy, and feels pretty good. HP's craftsmanship has always been outstanding, which is why I chose this computer. This is the third HP computer used at home, and I will choose HP computers in the future! I have a suggestion, when can we have a fully foldable computer, with a foldable screen and keyboard to put in the pocket, that would be even more lightweight.\n",
    "\n",
    "It's not good at all. The buzzing sound is particularly loud and the customer service is not good. I haven't used it much and the right side of the keyboard can't be used. Facial recognition also can't be used. From the time I got the computer, fingerprint recognition couldn't be used. The customer service just said it's just a design. Am I buying your design or performance? I can't stand it. It's difficult to use. And customer service doesn't care about anything. After buying it, the price dropped. Also, charging is too troublesome. Can't a wireless charger be added to the computer? The power cord is too long and takes up space. To tell the truth, with this money, I might as well buy other brands. I suspect that the good reviews are all brushed out, right? The money is used to buy the water army and marketing number, right? The performance is not good to use, it's rubbish.\n",
    "\n",
    "To be honest, it's quite ordinary. Except for the good appearance, there's nothing else, the running speed is ordinary and not as good as the previous computer, I have paid the IQ tax, I truly regret it. The running speed is very ordinary, it's easy to freeze when opening large Excel or Word files. The screen effect is first-class, no one can beat it. But if you don't have experience, you will not know how to use it, the system is too different from Windows. Could you have an intelligent assistant for one-to-one teaching, where you don't know how to use it, just automatically open the prompt and such. Otherwise, it's too hard to learn. The keyboard feels super good, and the touchpad is also incredibly good. Of course, the system doesn't have various junk advertisements, it can be praised for that, I really can't stand the Windows dominated by pop-up windows anymore. The craftsmanship is truly top-notch, the feel is also okay, but my model is a bit heavy, it's not convenient enough to carry. Logistics service gets full marks. Ordered yesterday, it was delivered in two or three days,"
   ]
  },
  {
   "cell_type": "raw",
   "metadata": {},
   "source": [
    "系统软件有问题，采用微软赠送用密钥激活是，无法正常显示密钥输入况（局部黑屏），根本连输入密钥的机会都没有。后来改用邮箱验证码激活，到时发送了4位验证码，但是输入验证码厚的界面，又是局部白显，一直无法正常进入下一步，假死状态。外观设计和工艺还可以，看起来挺靓，就这吸引了我。系统运行没有预想的快，感觉13代I7的CPU名不副实。最满意的就是续航了，这也是我又买个笔记本的原因，第一次充满两小时只用了8%的电，换之前的那个80%也得多。外观也不错，简约但不平庸，重量厚度也可。散热比较一般，刚开始安装软件发热，空调房，风扇侧热风呼呼的，键盘某些位置较热。不过打个代码还好，风扇几乎不转，发热也不高。键盘能不能考虑加个个性化背光灯和宏控制键，能根据个人需要和喜好自定义就好了。硬盘较为一般，pcie3.0的水平，单硬盘位，内存应该也板载。并且在测硬盘时有尖锐的声音，但之后没出现过。\n",
    "总体上还算满意。\n",
    "\n",
    "\n",
    "宝贝收到了，真的很棒呀！质量真是没话说，满意！物流速度真的是没话说，我6月17号下单，第二天就到了，就是一个字：快。电脑本身经过我一个多月的测试，屏幕与转轴无问题，屏幕色彩清晰，屏幕无坏点，键盘与触控板无问题。配置也足够。基本办公需求，偶尔打下游戏 实测骑马砍杀2可以开千人战场。\n",
    "但风扇确实响，转起来噪声很大。另外就是按键太棉，不符合个人喜好。C盘200G,D盘240G,运行内存16G，，CPU运行速度符合描述。只是快递员让自提，快递包装表面脏污，有水泡的痕迹?特别提一点，键盘触控板能不能加个边缘检测，可以识别是不是误触，不然太灵敏了，不过总体表现满意。\n",
    "\n",
    "\n",
    "品控问题很大，底座不平，就像个电报机，而且电扇太吵太吵了！！能不能加一个完全0噪声的电扇，我需要无声工作环境？此外吐槽下第一次申请售后，工程师在电话中告知未删除密码，需要退回操作，等机器返回后删除密码，我再次申请，售后以检测无故障为理由拒绝售后审核，并且不断让我补充信息，我打了很多次客服电话申请，最后是客服看不下去了才给的二次返回去，这次售后再次给出无故障的检测，并且原返，在线客服告诉去线下自己检测，消费者真是弱势群体啊，这么明显的质量问题难道他们看不见吗？我今天就在这里给各位提个醒，谨慎购买！他们只会来回推诿扯皮！这种问题大家看看视频就能判定的，为什么要不断检测呢？没办法，这条视频我只能放在这里了，而且我会维权到底，我就不信了，我还找不到说理的地方了吗！\n",
    "\n",
    "质感非常的不错。全金属CNC.给人一种高级感，在高铁上办公也不失风采，这键盘手感有改观，反馈力度不错，打字得心应手！再配上处理器的性能，屏幕的观感，是创造生产力的贤内助，屏幕颗粒感肉眼看比我之前的Acer好的多，LCD的屏幕不那么晃眼，个人认为电脑屏幕还是LCD的要好一些，三档刷新率60hz，90hz，120hz任意切换（fn+K键），插电就高刷，出差有续航焦虑就60。强烈建议可以整个裸眼3D，提高沉浸感。特别是语音助手给人焕然一新的感觉，问个天气，问个问题，马上就告诉你答案，非常好。处理器的调度也比较开放，秒杀独立显卡不是问题。最后希望做得越来越好，创造出更多令人感动的科技产品。\n",
    "\n",
    "家里的老本坏了，单位两个同事都是用的这款笔记本，最长的一位用了大半年了，两位都说这款用着非常好用，配置高，性价比高，运行也快，都极力推荐这款，所以也入手了这款。入手后也果然没让我失望，全金属外壳，外观时尚，运行很快，开机也非常快，感觉不到十秒就完成了，送的office也正是需要的，很赞！作为一个区块链技术的工作者，希望可以集成个分布式电脑，然后用中枢电脑快速安全地处理保存数据。最后来说说客服，非常专业有耐心，有问题自己解决不了，客服不厌其烦一条一条回复，一点一点教，非常好\n",
    "\n",
    "买的新电脑，结果收到货变形弯曲，用个类似钻石材质的三防材料做电脑不行吗？这样别说掰弯了，上天入水都不在话下。弯了之后就申请换货，结果售后人员用手掰了下就给我寄回来了，就算掰，也得让我同意吧？没经过我的同意就这样处理是不是不合理？再说了这是收到货就这样，凭什么让消费者买单？售后就是在踢皮球，他让我找他，他在让我找其他人，都啥玩意，广告做那么好干嘛？还 180 天只换不修，做不到就别吹牛。刚买的就不给我换新的，还放屁 180 天只换不修，忽悠你大爷呢？完文字游戏有事意思？系统有问题才给换，外壳不给换，，做不到就别吹牛，什么玩意……我现在主板被他们售后掰坏了，也不给我换，不许系统问题才行。……**……\n",
    "\n",
    "整体来说还是比较满意的，玩游戏开增强模式后，风扇拉满声音比较大，但CPU温度缺还是很高，这点不是很满意，也许是因为夏天太热了吧。充电速度较慢，能否同时支持两个插口充电，将充电速度提高一倍。感觉512不够用，自己加了个1t的三星990Pro。其它像运行速度，颜值，重量都是在线的，符合我买天选颜值高，配置好，重量较轻的初心，2.5k+165hz+100%DCI-P3还是很爽的\n",
    "\n",
    "\n",
    "昨天晚上下单，今天上午就收到了，送货速度很快。给物流赞一个，这台电脑是战66，英特尔13代酷睿处理器，16G内存，512G硬盘。 我试了一下，速度还是很快的。这是轻薄本，并不沉，手感也挺好的。惠普的做工一直很优秀，这也是我选择这台电脑的原因。这是家里用的第三台惠普电脑了，以后还会再选择惠普电脑！提个建议，啥时候能搞个全折叠的电脑，屏幕键盘都能折叠放口袋，那就更轻薄了\n",
    "\n",
    "根本不好用 嗡嗡响声音特别大 而且客服服务也不好 而且我还没咋用 右边键盘用不了 面部识别也根本用不了 从拿上电脑指纹识别就用不了 客服就说只是个设计 我是来买你的设计还是性能的 我都服了 难用死了 而且问什么客服也不理 买完就降价 还有充电也太麻烦了 电脑上不能搞个无线充电吗 电源线搞得老长占地方 说实话 有这个钱还不如去买其他品牌的 我怀疑好评都是刷出来的吧 钱都用来买水军和营销号了吧 性能一点都不好用 垃圾玩意\n",
    "\n",
    "说实话比较一般，除了外观好看一无是处，运行速度一般没有之前的电脑好用，我给了智商税了，我是真后悔。运行速度非常一般，开大的excel，word容易卡死。屏幕效果倒是一流的，没人能打了。但是没经验的完全不会用，系统和windows差太多了。能不能搞个智能助理，一对一教学，哪里不会用，就自动打开提示之类的。不然太难学了。键盘手感超棒，而且触控板也好用到飞起。当然系统没有各种垃圾广告，可以给它好评，实在受不了被弹窗支配的windows了。做工是真心一流的，手感也还行，但是我这款就是有点重，携带上还是不够便捷。物流服务满分。昨天订的，两三天就送到了，还是那么远寄过来的。当然特别感谢快递员，快递员冒雨送过来，辛苦啦。客服态度也挺好的，值！以后有需要还会来买"
   ]
  },
  {
   "cell_type": "code",
   "execution_count": 20,
   "metadata": {
    "scrolled": true
   },
   "outputs": [
    {
     "data": {
      "text/plain": [
       "count     80.000000\n",
       "mean     156.950000\n",
       "std       83.257706\n",
       "min       61.000000\n",
       "25%      104.750000\n",
       "50%      127.000000\n",
       "75%      165.500000\n",
       "max      469.000000\n",
       "Name: len, dtype: float64"
      ]
     },
     "execution_count": 20,
     "metadata": {},
     "output_type": "execute_result"
    }
   ],
   "source": [
    "df_pos['len'] = df_pos['pos_text'].apply(lambda x: len(x))\n",
    "df_pos['len'].describe()"
   ]
  },
  {
   "cell_type": "code",
   "execution_count": 22,
   "metadata": {},
   "outputs": [
    {
     "data": {
      "text/plain": [
       "count    3300.00000\n",
       "mean      313.87697\n",
       "std       550.16564\n",
       "min         1.00000\n",
       "25%        61.00000\n",
       "50%       141.50000\n",
       "75%       341.25000\n",
       "max      8356.00000\n",
       "Name: len, dtype: float64"
      ]
     },
     "execution_count": 22,
     "metadata": {},
     "output_type": "execute_result"
    }
   ],
   "source": [
    "df_neg['len'] = df_neg['neg_text'].apply(lambda x: len(x))\n",
    "df_neg['len'].describe()"
   ]
  },
  {
   "cell_type": "code",
   "execution_count": 36,
   "metadata": {},
   "outputs": [
    {
     "data": {
      "text/plain": [
       "\"I bought this to take my YouTube viewing and general computing on the road. Out of boredom I downloaded a few games yesterday and had quite a pleasant experience! I could actually crank the graphics up most of the way (on an older game, but still!) and kept a steady 60 fps (v-sync'd).I pretty quickly upgraded the RAM and HD. I swapped out the 4GB RAM chip with a 16GB ($88) to give me a total of 20GB (max for this computer). I also upgraded the tiny (but capable) NVMe 128GB hard drive up to 1TB ($109). I downloaded the Windows 10 Home install files onto a USB drive and it went very smoothly. I didn't even need to enter the Windows key, but it might be smart to get your Windows key just incase.Easy mode to do this:- Press Windows key + X.- Right Click Command Prompt (Select Run as Admin)- At the command prompt, type:wmic path SoftwareLicensingService get OA3xOriginalProductKeyThis will reveal the product key. Volume License Product Key Activation.Take a picture of your screen with your phone. But like I said, I didn't need it - it's just in case.The screen isn't anything to write home about but the nuts and bolts of the computer more than make this everything I need when I'm on the road.\""
      ]
     },
     "execution_count": 36,
     "metadata": {},
     "output_type": "execute_result"
    }
   ],
   "source": [
    "df_neg[(df_neg['len']>=300)]['neg_text'].iloc[23]"
   ]
  }
 ],
 "metadata": {
  "kernelspec": {
   "display_name": "Python 3 (ipykernel)",
   "language": "python",
   "name": "python3"
  },
  "language_info": {
   "codemirror_mode": {
    "name": "ipython",
    "version": 3
   },
   "file_extension": ".py",
   "mimetype": "text/x-python",
   "name": "python",
   "nbconvert_exporter": "python",
   "pygments_lexer": "ipython3",
   "version": "3.8.16"
  }
 },
 "nbformat": 4,
 "nbformat_minor": 1
}
