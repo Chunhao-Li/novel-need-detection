{
 "cells": [
  {
   "cell_type": "code",
   "execution_count": 1,
   "metadata": {
    "collapsed": true,
    "pycharm": {
     "name": "#%%\n"
    }
   },
   "outputs": [],
   "source": [
    "import numpy as np\n",
    "import pandas as pd"
   ]
  },
  {
   "cell_type": "code",
   "execution_count": 9,
   "metadata": {
    "pycharm": {
     "name": "#%%\n"
    }
   },
   "outputs": [],
   "source": [
    "df = pd.read_excel('data/novel_sentence.xlsx', header=None)"
   ]
  },
  {
   "cell_type": "code",
   "execution_count": 13,
   "metadata": {
    "pycharm": {
     "name": "#%%\n"
    }
   },
   "outputs": [
    {
     "data": {
      "text/html": [
       "<div>\n",
       "<style scoped>\n",
       "    .dataframe tbody tr th:only-of-type {\n",
       "        vertical-align: middle;\n",
       "    }\n",
       "\n",
       "    .dataframe tbody tr th {\n",
       "        vertical-align: top;\n",
       "    }\n",
       "\n",
       "    .dataframe thead th {\n",
       "        text-align: right;\n",
       "    }\n",
       "</style>\n",
       "<table border=\"1\" class=\"dataframe\">\n",
       "  <thead>\n",
       "    <tr style=\"text-align: right;\">\n",
       "      <th></th>\n",
       "      <th>0</th>\n",
       "    </tr>\n",
       "  </thead>\n",
       "  <tbody>\n",
       "    <tr>\n",
       "      <th>0</th>\n",
       "      <td>I wish on the PSU there would have been a USB ...</td>\n",
       "    </tr>\n",
       "    <tr>\n",
       "      <th>1</th>\n",
       "      <td>I do wish that there was a windows hello enabl...</td>\n",
       "    </tr>\n",
       "    <tr>\n",
       "      <th>2</th>\n",
       "      <td>Wish it had another thunderbolt 3 port</td>\n",
       "    </tr>\n",
       "    <tr>\n",
       "      <th>3</th>\n",
       "      <td>I wanted a new machine that was lighter, had b...</td>\n",
       "    </tr>\n",
       "    <tr>\n",
       "      <th>4</th>\n",
       "      <td>Wish it had more memory and a card reader</td>\n",
       "    </tr>\n",
       "    <tr>\n",
       "      <th>5</th>\n",
       "      <td>I would have been fine with a longer space bar.</td>\n",
       "    </tr>\n",
       "    <tr>\n",
       "      <th>6</th>\n",
       "      <td>I wanted a powerhouse that was light and fast.</td>\n",
       "    </tr>\n",
       "    <tr>\n",
       "      <th>7</th>\n",
       "      <td>Wish it had one more thunderbolt port instead ...</td>\n",
       "    </tr>\n",
       "    <tr>\n",
       "      <th>8</th>\n",
       "      <td>I needed something small for work and travel, ...</td>\n",
       "    </tr>\n",
       "    <tr>\n",
       "      <th>9</th>\n",
       "      <td>It could've been really nice if it had double ...</td>\n",
       "    </tr>\n",
       "    <tr>\n",
       "      <th>10</th>\n",
       "      <td>it would've been great if it came with the Eth...</td>\n",
       "    </tr>\n",
       "    <tr>\n",
       "      <th>11</th>\n",
       "      <td>It would have been ergonomically nice to have ...</td>\n",
       "    </tr>\n",
       "    <tr>\n",
       "      <th>12</th>\n",
       "      <td>If AORUS offers two AC adapters to end user wi...</td>\n",
       "    </tr>\n",
       "    <tr>\n",
       "      <th>13</th>\n",
       "      <td>It would be better if the screen is foldable, ...</td>\n",
       "    </tr>\n",
       "    <tr>\n",
       "      <th>14</th>\n",
       "      <td>I still think an even powerful laptop is neede...</td>\n",
       "    </tr>\n",
       "    <tr>\n",
       "      <th>15</th>\n",
       "      <td>The weight should be under 1.8kg so I can carr...</td>\n",
       "    </tr>\n",
       "    <tr>\n",
       "      <th>16</th>\n",
       "      <td>This is the smallest laptop I can find, but I ...</td>\n",
       "    </tr>\n",
       "    <tr>\n",
       "      <th>17</th>\n",
       "      <td>If it is foldable and can be put in my pocket,...</td>\n",
       "    </tr>\n",
       "    <tr>\n",
       "      <th>18</th>\n",
       "      <td>If a laptop has mechanical keyboard, I would d...</td>\n",
       "    </tr>\n",
       "    <tr>\n",
       "      <th>19</th>\n",
       "      <td>Maybe a laptop with multiple foldable screens ...</td>\n",
       "    </tr>\n",
       "    <tr>\n",
       "      <th>20</th>\n",
       "      <td>I would like to see some real Mini LED laptop ...</td>\n",
       "    </tr>\n",
       "    <tr>\n",
       "      <th>21</th>\n",
       "      <td>I would like super-speedy 300Hz or higher refr...</td>\n",
       "    </tr>\n",
       "    <tr>\n",
       "      <th>22</th>\n",
       "      <td>I want the laptop with good speaker and profes...</td>\n",
       "    </tr>\n",
       "    <tr>\n",
       "      <th>23</th>\n",
       "      <td>It would be fantastic if the laptop has a proj...</td>\n",
       "    </tr>\n",
       "    <tr>\n",
       "      <th>24</th>\n",
       "      <td>It would be fantastic if the laptop is foldabl...</td>\n",
       "    </tr>\n",
       "    <tr>\n",
       "      <th>25</th>\n",
       "      <td>Can we consider developing a laptop with water...</td>\n",
       "    </tr>\n",
       "    <tr>\n",
       "      <th>26</th>\n",
       "      <td>It's perfect to turn its components into modul...</td>\n",
       "    </tr>\n",
       "    <tr>\n",
       "      <th>27</th>\n",
       "      <td>It would be better if it could have cool light...</td>\n",
       "    </tr>\n",
       "    <tr>\n",
       "      <th>28</th>\n",
       "      <td>Is there a laptop that can connect more devices?</td>\n",
       "    </tr>\n",
       "    <tr>\n",
       "      <th>29</th>\n",
       "      <td>If the sound quality can reach the standard of...</td>\n",
       "    </tr>\n",
       "  </tbody>\n",
       "</table>\n",
       "</div>"
      ],
      "text/plain": [
       "                                                    0\n",
       "0   I wish on the PSU there would have been a USB ...\n",
       "1   I do wish that there was a windows hello enabl...\n",
       "2              Wish it had another thunderbolt 3 port\n",
       "3   I wanted a new machine that was lighter, had b...\n",
       "4           Wish it had more memory and a card reader\n",
       "5     I would have been fine with a longer space bar.\n",
       "6      I wanted a powerhouse that was light and fast.\n",
       "7   Wish it had one more thunderbolt port instead ...\n",
       "8   I needed something small for work and travel, ...\n",
       "9   It could've been really nice if it had double ...\n",
       "10  it would've been great if it came with the Eth...\n",
       "11  It would have been ergonomically nice to have ...\n",
       "12  If AORUS offers two AC adapters to end user wi...\n",
       "13  It would be better if the screen is foldable, ...\n",
       "14  I still think an even powerful laptop is neede...\n",
       "15  The weight should be under 1.8kg so I can carr...\n",
       "16  This is the smallest laptop I can find, but I ...\n",
       "17  If it is foldable and can be put in my pocket,...\n",
       "18  If a laptop has mechanical keyboard, I would d...\n",
       "19  Maybe a laptop with multiple foldable screens ...\n",
       "20  I would like to see some real Mini LED laptop ...\n",
       "21  I would like super-speedy 300Hz or higher refr...\n",
       "22  I want the laptop with good speaker and profes...\n",
       "23  It would be fantastic if the laptop has a proj...\n",
       "24  It would be fantastic if the laptop is foldabl...\n",
       "25  Can we consider developing a laptop with water...\n",
       "26  It's perfect to turn its components into modul...\n",
       "27  It would be better if it could have cool light...\n",
       "28   Is there a laptop that can connect more devices?\n",
       "29  If the sound quality can reach the standard of..."
      ]
     },
     "execution_count": 13,
     "metadata": {},
     "output_type": "execute_result"
    }
   ],
   "source": [
    "df"
   ]
  },
  {
   "cell_type": "code",
   "execution_count": 14,
   "metadata": {
    "pycharm": {
     "name": "#%%\n"
    }
   },
   "outputs": [
    {
     "name": "stdout",
     "output_type": "stream",
     "text": [
      "novel need: I wish on the PSU there would have been a USB port.\n",
      "novel need: I do wish that there was a windows hello enabled camera or a fingerprint reader.\n",
      "novel need: Wish it had another thunderbolt 3 port\n",
      "novel need: I wanted a new machine that was lighter, had better battery life and was just as powerful for my gaming needs\n",
      "novel need: Wish it had more memory and a card reader\n",
      "novel need: I would have been fine with a longer space bar.\n",
      "novel need: I wanted a powerhouse that was light and fast.\n",
      "novel need: Wish it had one more thunderbolt port instead of that mini display port\n",
      "novel need: I needed something small for work and travel, but strong enough to do light gaming, preferably heavy gaming.\n",
      "novel need: It could've been really nice if it had double slots for the storage.\n"
     ]
    }
   ],
   "source": [
    "for i in range(10):\n",
    "    print(\"novel need: \" + df[0].iloc[i])"
   ]
  }
 ],
 "metadata": {
  "kernelspec": {
   "display_name": "Python 3 (ipykernel)",
   "language": "python",
   "name": "python3"
  },
  "language_info": {
   "codemirror_mode": {
    "name": "ipython",
    "version": 2
   },
   "file_extension": ".py",
   "mimetype": "text/x-python",
   "name": "python",
   "nbconvert_exporter": "python",
   "pygments_lexer": "ipython2",
   "version": "2.7.6"
  }
 },
 "nbformat": 4,
 "nbformat_minor": 1
}
