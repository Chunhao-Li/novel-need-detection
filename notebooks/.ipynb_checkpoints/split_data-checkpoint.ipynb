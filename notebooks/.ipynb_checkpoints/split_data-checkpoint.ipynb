{
 "cells": [
  {
   "cell_type": "code",
   "execution_count": 1,
   "metadata": {
    "pycharm": {
     "is_executing": true,
     "name": "#%%\n"
    }
   },
   "outputs": [],
   "source": [
    "from sklearn.model_selection import train_test_split\n",
    "import pandas as pd"
   ]
  },
  {
   "cell_type": "code",
   "execution_count": 2,
   "metadata": {
    "pycharm": {
     "is_executing": true,
     "name": "#%%\n"
    }
   },
   "outputs": [],
   "source": [
    "# df = pd.read_csv('data/novel_test_modified.csv')\n",
    "# df.head()"
   ]
  },
  {
   "cell_type": "code",
   "execution_count": 3,
   "metadata": {
    "pycharm": {
     "name": "#%%\n"
    }
   },
   "outputs": [],
   "source": [
    "df_neg = pd.read_excel('../data/annotation_sentence.xlsx')"
   ]
  },
  {
   "cell_type": "code",
   "execution_count": 4,
   "metadata": {
    "pycharm": {
     "name": "#%%\n"
    }
   },
   "outputs": [
    {
     "name": "stdout",
     "output_type": "stream",
     "text": [
      "2135\n"
     ]
    },
    {
     "data": {
      "text/plain": [
       "['Fan stays peacefully quiet',\n",
       " 'It has the best processor you can practically get in a laptop right now and has plenty of ram to go with it!',\n",
       " 'I found the keyboard very uncomfortable for gaming']"
      ]
     },
     "execution_count": 4,
     "metadata": {},
     "output_type": "execute_result"
    }
   ],
   "source": [
    "neg_sentences = []\n",
    "for _,row in df_neg.iterrows():\n",
    "    for col in df_neg.columns:\n",
    "        if isinstance(row[col], str):\n",
    "            neg_sentences.append(row[col])\n",
    "neg_sentences = list(set(neg_sentences))\n",
    "print(len(neg_sentences))\n",
    "neg_labels = [0]*len(neg_sentences)\n",
    "neg_sentences[:3]"
   ]
  },
  {
   "cell_type": "code",
   "execution_count": 5,
   "metadata": {
    "pycharm": {
     "name": "#%%\n"
    }
   },
   "outputs": [
    {
     "data": {
      "text/html": [
       "<div>\n",
       "<style scoped>\n",
       "    .dataframe tbody tr th:only-of-type {\n",
       "        vertical-align: middle;\n",
       "    }\n",
       "\n",
       "    .dataframe tbody tr th {\n",
       "        vertical-align: top;\n",
       "    }\n",
       "\n",
       "    .dataframe thead th {\n",
       "        text-align: right;\n",
       "    }\n",
       "</style>\n",
       "<table border=\"1\" class=\"dataframe\">\n",
       "  <thead>\n",
       "    <tr style=\"text-align: right;\">\n",
       "      <th></th>\n",
       "      <th>text</th>\n",
       "      <th>label</th>\n",
       "      <th>prompt1</th>\n",
       "      <th>prompt2</th>\n",
       "      <th>prompt3</th>\n",
       "      <th>generate_v1</th>\n",
       "    </tr>\n",
       "  </thead>\n",
       "  <tbody>\n",
       "    <tr>\n",
       "      <th>0</th>\n",
       "      <td>Integration of artificial intelligence (AI) to...</td>\n",
       "      <td>unique</td>\n",
       "      <td>I'm excited by the prospect of artificial inte...</td>\n",
       "      <td>The integration of AI in computers has truly r...</td>\n",
       "      <td>(AI Assistant): I've been using this computer ...</td>\n",
       "      <td>I think this computer is overall not bad, and ...</td>\n",
       "    </tr>\n",
       "    <tr>\n",
       "      <th>1</th>\n",
       "      <td>Computers should feature AR displays, enabling...</td>\n",
       "      <td>unique</td>\n",
       "      <td>AR displays on computers would be a game chang...</td>\n",
       "      <td>The introduction of AR displays in computing h...</td>\n",
       "      <td>(AR Enthusiast): This computer is amazing. One...</td>\n",
       "      <td>The computer runs fast, but the cooling is lac...</td>\n",
       "    </tr>\n",
       "    <tr>\n",
       "      <th>2</th>\n",
       "      <td>Computers should possess quantum computing cap...</td>\n",
       "      <td>unique</td>\n",
       "      <td>The inclusion of quantum computing capabilitie...</td>\n",
       "      <td>I'm truly astounded by the sheer power of quan...</td>\n",
       "      <td>(Quantum Leap): I've recently switched to this...</td>\n",
       "      <td>This computer has a great processing speed and...</td>\n",
       "    </tr>\n",
       "    <tr>\n",
       "      <th>3</th>\n",
       "      <td>Computers should seamlessly integrate with sma...</td>\n",
       "      <td>unique</td>\n",
       "      <td>Seamless integration of computers with smart h...</td>\n",
       "      <td>The seamless integration of my computer with m...</td>\n",
       "      <td>(Smart Home Integrator): This computer effortl...</td>\n",
       "      <td>The graphics card on this machine is top-notch...</td>\n",
       "    </tr>\n",
       "    <tr>\n",
       "      <th>4</th>\n",
       "      <td>Computers should support wireless charging for...</td>\n",
       "      <td>unique</td>\n",
       "      <td>The idea of computers supporting wireless char...</td>\n",
       "      <td>Wireless charging support for peripherals and ...</td>\n",
       "      <td>(Wireless Power): No more dealing with tangled...</td>\n",
       "      <td>I'm quite satisfied with the storage capacity ...</td>\n",
       "    </tr>\n",
       "    <tr>\n",
       "      <th>...</th>\n",
       "      <td>...</td>\n",
       "      <td>...</td>\n",
       "      <td>...</td>\n",
       "      <td>...</td>\n",
       "      <td>...</td>\n",
       "      <td>...</td>\n",
       "    </tr>\n",
       "    <tr>\n",
       "      <th>75</th>\n",
       "      <td>a keyboard that has customizable backlighting ...</td>\n",
       "      <td>unique</td>\n",
       "      <td>The keyboard comes with customizable backlight...</td>\n",
       "      <td>The keyboard on this device has customizable b...</td>\n",
       "      <td>NaN</td>\n",
       "      <td>I'm utterly frustrated with the laptop's batte...</td>\n",
       "    </tr>\n",
       "    <tr>\n",
       "      <th>76</th>\n",
       "      <td>a keyboard that has dedicated media keys and v...</td>\n",
       "      <td>unique</td>\n",
       "      <td>The keyboard includes dedicated media keys and...</td>\n",
       "      <td>This device features a keyboard with dedicated...</td>\n",
       "      <td>NaN</td>\n",
       "      <td>The laptop's security features are impressive,...</td>\n",
       "    </tr>\n",
       "    <tr>\n",
       "      <th>77</th>\n",
       "      <td>a motherboard that supports ECC memory, allowi...</td>\n",
       "      <td>unique</td>\n",
       "      <td>The motherboard supports ECC memory, allowing ...</td>\n",
       "      <td>The motherboard of this device supports ECC me...</td>\n",
       "      <td>NaN</td>\n",
       "      <td>The backlit keyboard is a godsend for late-nig...</td>\n",
       "    </tr>\n",
       "    <tr>\n",
       "      <th>78</th>\n",
       "      <td>a motherboard that supports multiple graphics ...</td>\n",
       "      <td>unique</td>\n",
       "      <td>The motherboard can accommodate multiple graph...</td>\n",
       "      <td>The motherboard of this device supports multip...</td>\n",
       "      <td>NaN</td>\n",
       "      <td>It's disheartening to see such a high-quality ...</td>\n",
       "    </tr>\n",
       "    <tr>\n",
       "      <th>79</th>\n",
       "      <td>a removable graphics card, allowing you to eas...</td>\n",
       "      <td>unique</td>\n",
       "      <td>The graphics card is removable, providing an e...</td>\n",
       "      <td>The graphics card on this device is removable,...</td>\n",
       "      <td>NaN</td>\n",
       "      <td>I find the laptop's webcam quality to be lackl...</td>\n",
       "    </tr>\n",
       "  </tbody>\n",
       "</table>\n",
       "<p>80 rows × 6 columns</p>\n",
       "</div>"
      ],
      "text/plain": [
       "                                                 text   label  \\\n",
       "0   Integration of artificial intelligence (AI) to...  unique   \n",
       "1   Computers should feature AR displays, enabling...  unique   \n",
       "2   Computers should possess quantum computing cap...  unique   \n",
       "3   Computers should seamlessly integrate with sma...  unique   \n",
       "4   Computers should support wireless charging for...  unique   \n",
       "..                                                ...     ...   \n",
       "75  a keyboard that has customizable backlighting ...  unique   \n",
       "76  a keyboard that has dedicated media keys and v...  unique   \n",
       "77  a motherboard that supports ECC memory, allowi...  unique   \n",
       "78  a motherboard that supports multiple graphics ...  unique   \n",
       "79  a removable graphics card, allowing you to eas...  unique   \n",
       "\n",
       "                                              prompt1  \\\n",
       "0   I'm excited by the prospect of artificial inte...   \n",
       "1   AR displays on computers would be a game chang...   \n",
       "2   The inclusion of quantum computing capabilitie...   \n",
       "3   Seamless integration of computers with smart h...   \n",
       "4   The idea of computers supporting wireless char...   \n",
       "..                                                ...   \n",
       "75  The keyboard comes with customizable backlight...   \n",
       "76  The keyboard includes dedicated media keys and...   \n",
       "77  The motherboard supports ECC memory, allowing ...   \n",
       "78  The motherboard can accommodate multiple graph...   \n",
       "79  The graphics card is removable, providing an e...   \n",
       "\n",
       "                                              prompt2  \\\n",
       "0   The integration of AI in computers has truly r...   \n",
       "1   The introduction of AR displays in computing h...   \n",
       "2   I'm truly astounded by the sheer power of quan...   \n",
       "3   The seamless integration of my computer with m...   \n",
       "4   Wireless charging support for peripherals and ...   \n",
       "..                                                ...   \n",
       "75  The keyboard on this device has customizable b...   \n",
       "76  This device features a keyboard with dedicated...   \n",
       "77  The motherboard of this device supports ECC me...   \n",
       "78  The motherboard of this device supports multip...   \n",
       "79  The graphics card on this device is removable,...   \n",
       "\n",
       "                                              prompt3  \\\n",
       "0   (AI Assistant): I've been using this computer ...   \n",
       "1   (AR Enthusiast): This computer is amazing. One...   \n",
       "2   (Quantum Leap): I've recently switched to this...   \n",
       "3   (Smart Home Integrator): This computer effortl...   \n",
       "4   (Wireless Power): No more dealing with tangled...   \n",
       "..                                                ...   \n",
       "75                                                NaN   \n",
       "76                                                NaN   \n",
       "77                                                NaN   \n",
       "78                                                NaN   \n",
       "79                                                NaN   \n",
       "\n",
       "                                          generate_v1  \n",
       "0   I think this computer is overall not bad, and ...  \n",
       "1   The computer runs fast, but the cooling is lac...  \n",
       "2   This computer has a great processing speed and...  \n",
       "3   The graphics card on this machine is top-notch...  \n",
       "4   I'm quite satisfied with the storage capacity ...  \n",
       "..                                                ...  \n",
       "75  I'm utterly frustrated with the laptop's batte...  \n",
       "76  The laptop's security features are impressive,...  \n",
       "77  The backlit keyboard is a godsend for late-nig...  \n",
       "78  It's disheartening to see such a high-quality ...  \n",
       "79  I find the laptop's webcam quality to be lackl...  \n",
       "\n",
       "[80 rows x 6 columns]"
      ]
     },
     "execution_count": 5,
     "metadata": {},
     "output_type": "execute_result"
    }
   ],
   "source": [
    "df_new = pd.read_excel('../data/new_novel_need.xlsx')\n",
    "df_new"
   ]
  },
  {
   "cell_type": "code",
   "execution_count": 6,
   "metadata": {
    "pycharm": {
     "name": "#%%\n"
    }
   },
   "outputs": [
    {
     "name": "stdout",
     "output_type": "stream",
     "text": [
      "80\n"
     ]
    }
   ],
   "source": [
    "pos_sentences = []\n",
    "\n",
    "for _,row in df_new.iterrows():\n",
    "#     pos_sentences.append(row['text'])\n",
    "#     pos_sentences.append(row['prompt1'])\n",
    "#     pos_sentences.append(row['prompt2'])\n",
    "    pos_sentences.append(row['generate_v1'])\n",
    "print(len(pos_sentences))\n",
    "pos_labels = [1]*len(pos_sentences)"
   ]
  },
  {
   "cell_type": "code",
   "execution_count": 7,
   "metadata": {
    "pycharm": {
     "name": "#%%\n"
    }
   },
   "outputs": [],
   "source": [
    "# df = pd.DataFrame.from_dict({'sentence1':pos_sentences+neg_sentences, 'label': pos_labels+neg_labels})\n",
    "# df = df.sample(n=len(df))\n",
    "\n",
    "# df['label'].value_counts()\n",
    "# df_train, df_valid = train_test_split(df, train_size = 0.8, random_state=1)\n",
    "# print(df_valid.label.value_counts())\n",
    "# print(df_train.label.value_counts())\n",
    "# df_train.to_csv('data/novel_train_v2.csv', index=False)\n",
    "# df_valid.to_csv('data/novel_valid_v2.csv', index=False)"
   ]
  },
  {
   "cell_type": "code",
   "execution_count": 8,
   "metadata": {
    "pycharm": {
     "name": "#%%\n"
    }
   },
   "outputs": [
    {
     "name": "stdout",
     "output_type": "stream",
     "text": [
      "5663\n",
      "8771\n"
     ]
    }
   ],
   "source": [
    "df_unlabel = pd.read_excel('../data/reviews 2020-23.xlsx', sheet_name=0)\n",
    "unlabel_sentences = []\n",
    "for _,row in df_unlabel[3:].iterrows():\n",
    "    for col in df_unlabel.columns[1:]:\n",
    "        if isinstance(row[col], str):\n",
    "            processed = row[col][row[col].find('):')+2:].strip()\n",
    "            if len(processed) == 0:\n",
    "                continue\n",
    "            unlabel_sentences.append(processed)\n",
    "unlabel_sentences = list(set(unlabel_sentences))\n",
    "unlabel_labels = [0]*len(unlabel_sentences)\n",
    "print(len(unlabel_sentences))\n",
    "\n",
    "\n",
    "df_unlabel2 = pd.read_excel('../data/reviews 2020-23.xlsx', sheet_name=1)\n",
    "unlabel_sentences2 = []\n",
    "for _,row in df_unlabel2[3:].iterrows():\n",
    "    for col in df_unlabel2.columns[1:]:\n",
    "        if isinstance(row[col], str):\n",
    "            processed = row[col][row[col].find('):')+2:].strip()\n",
    "            if len(processed) == 0:\n",
    "                continue\n",
    "            unlabel_sentences2.append(processed)\n",
    "unlabel_sentences2 = list(set(unlabel_sentences2))\n",
    "unlabel_labels2 = [0]*len(unlabel_sentences2)\n",
    "print(len(unlabel_sentences2))\n"
   ]
  },
  {
   "cell_type": "code",
   "execution_count": 10,
   "metadata": {
    "pycharm": {
     "name": "#%%\n"
    }
   },
   "outputs": [
    {
     "name": "stdout",
     "output_type": "stream",
     "text": [
      "label\n",
      "0    3313\n",
      "1      17\n",
      "Name: count, dtype: int64\n",
      "label\n",
      "0    13256\n",
      "1       63\n",
      "Name: count, dtype: int64\n"
     ]
    }
   ],
   "source": [
    "df = pd.DataFrame.from_dict({'sentence1':pos_sentences+neg_sentences+unlabel_sentences+unlabel_sentences2\n",
    "                                , 'label': pos_labels+neg_labels+unlabel_labels+unlabel_labels2})\n",
    "df = df.sample(n=len(df))\n",
    "\n",
    "df_train, df_valid = train_test_split(df, train_size = 0.8, random_state=1)\n",
    "print(df_valid.label.value_counts())\n",
    "print(df_train.label.value_counts())\n",
    "# df_train.to_csv('../data/novel_train_prompt1.csv', index=False)\n",
    "# df_valid.to_csv('../data/novel_valid_prompt1.csv', index=False)\n",
    "\n",
    "# df_train.to_csv('../data/novel_train_prompt2.csv', index=False)\n",
    "# df_valid.to_csv('../data/novel_valid_prompt2.csv', index=False)\n",
    "\n",
    "df_train.to_csv('../data/novel_train_generate_v1.csv', index=False)\n",
    "df_valid.to_csv('../data/novel_valid_generate_v1.csv', index=False)"
   ]
  },
  {
   "cell_type": "code",
   "execution_count": 26,
   "metadata": {
    "pycharm": {
     "name": "#%%\n"
    }
   },
   "outputs": [],
   "source": [
    "# # df = df.astype({\"sentence1\": str, \"label_unused\": int, \"label\": int})\n",
    "# df['sentence1'] = df['sentence1'].astype('str')"
   ]
  },
  {
   "cell_type": "code",
   "execution_count": 58,
   "metadata": {
    "pycharm": {
     "name": "#%%\n"
    }
   },
   "outputs": [],
   "source": []
  }
 ],
 "metadata": {
  "kernelspec": {
   "display_name": "novel need",
   "language": "python",
   "name": "novel_need"
  },
  "language_info": {
   "codemirror_mode": {
    "name": "ipython",
    "version": 3
   },
   "file_extension": ".py",
   "mimetype": "text/x-python",
   "name": "python",
   "nbconvert_exporter": "python",
   "pygments_lexer": "ipython3",
   "version": "3.8.16"
  }
 },
 "nbformat": 4,
 "nbformat_minor": 1
}
