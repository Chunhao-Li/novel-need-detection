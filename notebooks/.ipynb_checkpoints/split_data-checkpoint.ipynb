{
 "cells": [
  {
   "cell_type": "code",
   "execution_count": 1,
   "metadata": {
    "pycharm": {
     "is_executing": true,
     "name": "#%%\n"
    }
   },
   "outputs": [],
   "source": [
    "from sklearn.model_selection import train_test_split\n",
    "import pandas as pd"
   ]
  },
  {
   "cell_type": "code",
   "execution_count": 2,
   "metadata": {
    "pycharm": {
     "is_executing": true,
     "name": "#%%\n"
    }
   },
   "outputs": [],
   "source": [
    "# df = pd.read_csv('data/novel_test_modified.csv')\n",
    "# df.head()"
   ]
  },
  {
   "cell_type": "code",
   "execution_count": 3,
   "metadata": {
    "pycharm": {
     "name": "#%%\n"
    }
   },
   "outputs": [],
   "source": [
    "df_neg = pd.read_excel('../data/annotation_sentence.xlsx')"
   ]
  },
  {
   "cell_type": "code",
   "execution_count": 4,
   "metadata": {
    "pycharm": {
     "name": "#%%\n"
    }
   },
   "outputs": [
    {
     "name": "stdout",
     "output_type": "stream",
     "text": [
      "2135\n"
     ]
    },
    {
     "data": {
      "text/plain": [
       "['Once it crashed and blue screened on me when I afk (I was doing nothing with it, literally nothing) with the above error code.',\n",
       " \"I'm able to run at the highest graphic settings, with ray tracing set to it's highest and also get very playable frame rates.\",\n",
       " 'drivers were old, on a laptop that was *just* released in the last few weeks.']"
      ]
     },
     "execution_count": 4,
     "metadata": {},
     "output_type": "execute_result"
    }
   ],
   "source": [
    "neg_sentences = []\n",
    "for _,row in df_neg.iterrows():\n",
    "    for col in df_neg.columns:\n",
    "        if isinstance(row[col], str):\n",
    "            neg_sentences.append(row[col])\n",
    "neg_sentences = list(set(neg_sentences))\n",
    "print(len(neg_sentences))\n",
    "neg_labels = [0]*len(neg_sentences)\n",
    "neg_sentences[:3]"
   ]
  },
  {
   "cell_type": "code",
   "execution_count": 5,
   "metadata": {
    "pycharm": {
     "name": "#%%\n"
    }
   },
   "outputs": [
    {
     "data": {
      "text/html": [
       "<div>\n",
       "<style scoped>\n",
       "    .dataframe tbody tr th:only-of-type {\n",
       "        vertical-align: middle;\n",
       "    }\n",
       "\n",
       "    .dataframe tbody tr th {\n",
       "        vertical-align: top;\n",
       "    }\n",
       "\n",
       "    .dataframe thead th {\n",
       "        text-align: right;\n",
       "    }\n",
       "</style>\n",
       "<table border=\"1\" class=\"dataframe\">\n",
       "  <thead>\n",
       "    <tr style=\"text-align: right;\">\n",
       "      <th></th>\n",
       "      <th>text</th>\n",
       "      <th>label</th>\n",
       "      <th>prompt1</th>\n",
       "      <th>prompt2</th>\n",
       "      <th>prompt3</th>\n",
       "      <th>generate_v1</th>\n",
       "      <th>generate_v2</th>\n",
       "    </tr>\n",
       "  </thead>\n",
       "  <tbody>\n",
       "    <tr>\n",
       "      <th>0</th>\n",
       "      <td>Integration of artificial intelligence (AI) to...</td>\n",
       "      <td>unique</td>\n",
       "      <td>I'm excited by the prospect of artificial inte...</td>\n",
       "      <td>The integration of AI in computers has truly r...</td>\n",
       "      <td>(AI Assistant): I've been using this computer ...</td>\n",
       "      <td>I think this computer is overall not bad, and ...</td>\n",
       "      <td>I think this computer is overall not bad, and ...</td>\n",
       "    </tr>\n",
       "    <tr>\n",
       "      <th>1</th>\n",
       "      <td>Computers should feature AR displays, enabling...</td>\n",
       "      <td>unique</td>\n",
       "      <td>AR displays on computers would be a game chang...</td>\n",
       "      <td>The introduction of AR displays in computing h...</td>\n",
       "      <td>(AR Enthusiast): This computer is amazing. One...</td>\n",
       "      <td>The computer runs fast, but the cooling is lac...</td>\n",
       "      <td>The computer runs fast, but the cooling is lac...</td>\n",
       "    </tr>\n",
       "    <tr>\n",
       "      <th>2</th>\n",
       "      <td>Computers should possess quantum computing cap...</td>\n",
       "      <td>unique</td>\n",
       "      <td>The inclusion of quantum computing capabilitie...</td>\n",
       "      <td>I'm truly astounded by the sheer power of quan...</td>\n",
       "      <td>(Quantum Leap): I've recently switched to this...</td>\n",
       "      <td>This computer has a great processing speed and...</td>\n",
       "      <td>This computer has a great processing speed and...</td>\n",
       "    </tr>\n",
       "    <tr>\n",
       "      <th>3</th>\n",
       "      <td>Computers should seamlessly integrate with sma...</td>\n",
       "      <td>unique</td>\n",
       "      <td>Seamless integration of computers with smart h...</td>\n",
       "      <td>The seamless integration of my computer with m...</td>\n",
       "      <td>(Smart Home Integrator): This computer effortl...</td>\n",
       "      <td>The graphics card on this machine is top-notch...</td>\n",
       "      <td>The graphics card on this machine is top-notch...</td>\n",
       "    </tr>\n",
       "    <tr>\n",
       "      <th>4</th>\n",
       "      <td>Computers should support wireless charging for...</td>\n",
       "      <td>unique</td>\n",
       "      <td>The idea of computers supporting wireless char...</td>\n",
       "      <td>Wireless charging support for peripherals and ...</td>\n",
       "      <td>(Wireless Power): No more dealing with tangled...</td>\n",
       "      <td>I'm quite satisfied with the storage capacity ...</td>\n",
       "      <td>I'm quite satisfied with the storage capacity ...</td>\n",
       "    </tr>\n",
       "    <tr>\n",
       "      <th>...</th>\n",
       "      <td>...</td>\n",
       "      <td>...</td>\n",
       "      <td>...</td>\n",
       "      <td>...</td>\n",
       "      <td>...</td>\n",
       "      <td>...</td>\n",
       "      <td>...</td>\n",
       "    </tr>\n",
       "    <tr>\n",
       "      <th>93</th>\n",
       "      <td>NaN</td>\n",
       "      <td>NaN</td>\n",
       "      <td>NaN</td>\n",
       "      <td>NaN</td>\n",
       "      <td>NaN</td>\n",
       "      <td>NaN</td>\n",
       "      <td>It would be fantastic if the laptop is foldabl...</td>\n",
       "    </tr>\n",
       "    <tr>\n",
       "      <th>94</th>\n",
       "      <td>NaN</td>\n",
       "      <td>NaN</td>\n",
       "      <td>NaN</td>\n",
       "      <td>NaN</td>\n",
       "      <td>NaN</td>\n",
       "      <td>NaN</td>\n",
       "      <td>I hope an eye-tracking system that allows the ...</td>\n",
       "    </tr>\n",
       "    <tr>\n",
       "      <th>95</th>\n",
       "      <td>NaN</td>\n",
       "      <td>NaN</td>\n",
       "      <td>NaN</td>\n",
       "      <td>NaN</td>\n",
       "      <td>NaN</td>\n",
       "      <td>NaN</td>\n",
       "      <td>I hope I can have a computer with integrated o...</td>\n",
       "    </tr>\n",
       "    <tr>\n",
       "      <th>96</th>\n",
       "      <td>NaN</td>\n",
       "      <td>NaN</td>\n",
       "      <td>NaN</td>\n",
       "      <td>NaN</td>\n",
       "      <td>NaN</td>\n",
       "      <td>NaN</td>\n",
       "      <td>With the rise of blockchain technology, comput...</td>\n",
       "    </tr>\n",
       "    <tr>\n",
       "      <th>97</th>\n",
       "      <td>NaN</td>\n",
       "      <td>NaN</td>\n",
       "      <td>NaN</td>\n",
       "      <td>NaN</td>\n",
       "      <td>NaN</td>\n",
       "      <td>NaN</td>\n",
       "      <td>I want a computer that utilizes AI-driven natu...</td>\n",
       "    </tr>\n",
       "  </tbody>\n",
       "</table>\n",
       "<p>98 rows × 7 columns</p>\n",
       "</div>"
      ],
      "text/plain": [
       "                                                 text   label  \\\n",
       "0   Integration of artificial intelligence (AI) to...  unique   \n",
       "1   Computers should feature AR displays, enabling...  unique   \n",
       "2   Computers should possess quantum computing cap...  unique   \n",
       "3   Computers should seamlessly integrate with sma...  unique   \n",
       "4   Computers should support wireless charging for...  unique   \n",
       "..                                                ...     ...   \n",
       "93                                                NaN     NaN   \n",
       "94                                                NaN     NaN   \n",
       "95                                                NaN     NaN   \n",
       "96                                                NaN     NaN   \n",
       "97                                                NaN     NaN   \n",
       "\n",
       "                                              prompt1  \\\n",
       "0   I'm excited by the prospect of artificial inte...   \n",
       "1   AR displays on computers would be a game chang...   \n",
       "2   The inclusion of quantum computing capabilitie...   \n",
       "3   Seamless integration of computers with smart h...   \n",
       "4   The idea of computers supporting wireless char...   \n",
       "..                                                ...   \n",
       "93                                                NaN   \n",
       "94                                                NaN   \n",
       "95                                                NaN   \n",
       "96                                                NaN   \n",
       "97                                                NaN   \n",
       "\n",
       "                                              prompt2  \\\n",
       "0   The integration of AI in computers has truly r...   \n",
       "1   The introduction of AR displays in computing h...   \n",
       "2   I'm truly astounded by the sheer power of quan...   \n",
       "3   The seamless integration of my computer with m...   \n",
       "4   Wireless charging support for peripherals and ...   \n",
       "..                                                ...   \n",
       "93                                                NaN   \n",
       "94                                                NaN   \n",
       "95                                                NaN   \n",
       "96                                                NaN   \n",
       "97                                                NaN   \n",
       "\n",
       "                                              prompt3  \\\n",
       "0   (AI Assistant): I've been using this computer ...   \n",
       "1   (AR Enthusiast): This computer is amazing. One...   \n",
       "2   (Quantum Leap): I've recently switched to this...   \n",
       "3   (Smart Home Integrator): This computer effortl...   \n",
       "4   (Wireless Power): No more dealing with tangled...   \n",
       "..                                                ...   \n",
       "93                                                NaN   \n",
       "94                                                NaN   \n",
       "95                                                NaN   \n",
       "96                                                NaN   \n",
       "97                                                NaN   \n",
       "\n",
       "                                          generate_v1  \\\n",
       "0   I think this computer is overall not bad, and ...   \n",
       "1   The computer runs fast, but the cooling is lac...   \n",
       "2   This computer has a great processing speed and...   \n",
       "3   The graphics card on this machine is top-notch...   \n",
       "4   I'm quite satisfied with the storage capacity ...   \n",
       "..                                                ...   \n",
       "93                                                NaN   \n",
       "94                                                NaN   \n",
       "95                                                NaN   \n",
       "96                                                NaN   \n",
       "97                                                NaN   \n",
       "\n",
       "                                          generate_v2  \n",
       "0   I think this computer is overall not bad, and ...  \n",
       "1   The computer runs fast, but the cooling is lac...  \n",
       "2   This computer has a great processing speed and...  \n",
       "3   The graphics card on this machine is top-notch...  \n",
       "4   I'm quite satisfied with the storage capacity ...  \n",
       "..                                                ...  \n",
       "93  It would be fantastic if the laptop is foldabl...  \n",
       "94  I hope an eye-tracking system that allows the ...  \n",
       "95  I hope I can have a computer with integrated o...  \n",
       "96  With the rise of blockchain technology, comput...  \n",
       "97  I want a computer that utilizes AI-driven natu...  \n",
       "\n",
       "[98 rows x 7 columns]"
      ]
     },
     "execution_count": 5,
     "metadata": {},
     "output_type": "execute_result"
    }
   ],
   "source": [
    "df_new = pd.read_excel('../data/new_novel_need.xlsx')\n",
    "df_new"
   ]
  },
  {
   "cell_type": "code",
   "execution_count": 6,
   "metadata": {
    "pycharm": {
     "name": "#%%\n"
    }
   },
   "outputs": [
    {
     "name": "stdout",
     "output_type": "stream",
     "text": [
      "98\n"
     ]
    }
   ],
   "source": [
    "pos_sentences = []\n",
    "\n",
    "for _,row in df_new.iterrows():\n",
    "#     pos_sentences.append(row['text'])\n",
    "#     pos_sentences.append(row['prompt1'])\n",
    "#     pos_sentences.append(row['prompt2'])\n",
    "    pos_sentences.append(row['generate_v2'])\n",
    "print(len(pos_sentences))\n",
    "pos_labels = [1]*len(pos_sentences)"
   ]
  },
  {
   "cell_type": "code",
   "execution_count": 7,
   "metadata": {
    "pycharm": {
     "name": "#%%\n"
    }
   },
   "outputs": [],
   "source": [
    "# df = pd.DataFrame.from_dict({'sentence1':pos_sentences+neg_sentences, 'label': pos_labels+neg_labels})\n",
    "# df = df.sample(n=len(df))\n",
    "\n",
    "# df['label'].value_counts()\n",
    "# df_train, df_valid = train_test_split(df, train_size = 0.8, random_state=1)\n",
    "# print(df_valid.label.value_counts())\n",
    "# print(df_train.label.value_counts())\n",
    "# df_train.to_csv('data/novel_train_v2.csv', index=False)\n",
    "# df_valid.to_csv('data/novel_valid_v2.csv', index=False)"
   ]
  },
  {
   "cell_type": "code",
   "execution_count": 8,
   "metadata": {
    "pycharm": {
     "name": "#%%\n"
    }
   },
   "outputs": [
    {
     "name": "stdout",
     "output_type": "stream",
     "text": [
      "5663\n",
      "8771\n"
     ]
    }
   ],
   "source": [
    "df_unlabel = pd.read_excel('../data/reviews 2020-23.xlsx', sheet_name=0)\n",
    "unlabel_sentences = []\n",
    "for _,row in df_unlabel[3:].iterrows():\n",
    "    for col in df_unlabel.columns[1:]:\n",
    "        if isinstance(row[col], str):\n",
    "            processed = row[col][row[col].find('):')+2:].strip()\n",
    "            if len(processed) == 0:\n",
    "                continue\n",
    "            unlabel_sentences.append(processed)\n",
    "unlabel_sentences = list(set(unlabel_sentences))\n",
    "unlabel_labels = [0]*len(unlabel_sentences)\n",
    "print(len(unlabel_sentences))\n",
    "\n",
    "\n",
    "df_unlabel2 = pd.read_excel('../data/reviews 2020-23.xlsx', sheet_name=1)\n",
    "unlabel_sentences2 = []\n",
    "for _,row in df_unlabel2[3:].iterrows():\n",
    "    for col in df_unlabel2.columns[1:]:\n",
    "        if isinstance(row[col], str):\n",
    "            processed = row[col][row[col].find('):')+2:].strip()\n",
    "            if len(processed) == 0:\n",
    "                continue\n",
    "            unlabel_sentences2.append(processed)\n",
    "unlabel_sentences2 = list(set(unlabel_sentences2))\n",
    "unlabel_labels2 = [0]*len(unlabel_sentences2)\n",
    "print(len(unlabel_sentences2))\n"
   ]
  },
  {
   "cell_type": "code",
   "execution_count": 9,
   "metadata": {
    "pycharm": {
     "name": "#%%\n"
    }
   },
   "outputs": [
    {
     "name": "stdout",
     "output_type": "stream",
     "text": [
      "0    3314\n",
      "1      20\n",
      "Name: label, dtype: int64\n",
      "0    13255\n",
      "1       78\n",
      "Name: label, dtype: int64\n"
     ]
    }
   ],
   "source": [
    "df = pd.DataFrame.from_dict({'sentence1':pos_sentences+neg_sentences+unlabel_sentences+unlabel_sentences2\n",
    "                                , 'label': pos_labels+neg_labels+unlabel_labels+unlabel_labels2})\n",
    "df = df.sample(n=len(df))\n",
    "\n",
    "df_train, df_valid = train_test_split(df, train_size = 0.8, random_state=1)\n",
    "print(df_valid.label.value_counts())\n",
    "print(df_train.label.value_counts())\n",
    "# df_train.to_csv('../data/novel_train_prompt1.csv', index=False)\n",
    "# df_valid.to_csv('../data/novel_valid_prompt1.csv', index=False)\n",
    "\n",
    "# df_train.to_csv('../data/novel_train_prompt2.csv', index=False)\n",
    "# df_valid.to_csv('../data/novel_valid_prompt2.csv', index=False)\n",
    "\n",
    "# df_train.to_csv('../data/novel_train_generate_v1.csv', index=False)\n",
    "# df_valid.to_csv('../data/novel_valid_generate_v1.csv', index=False)\n",
    "\n",
    "df_train.to_csv('../data/novel_train_generate_v2.csv', index=False)\n",
    "df_valid.to_csv('../data/novel_valid_generate_v2.csv', index=False)"
   ]
  },
  {
   "cell_type": "code",
   "execution_count": 26,
   "metadata": {
    "pycharm": {
     "name": "#%%\n"
    }
   },
   "outputs": [],
   "source": [
    "# # df = df.astype({\"sentence1\": str, \"label_unused\": int, \"label\": int})\n",
    "# df['sentence1'] = df['sentence1'].astype('str')"
   ]
  }
 ],
 "metadata": {
  "kernelspec": {
   "display_name": "novel need",
   "language": "python",
   "name": "novel_need"
  },
  "language_info": {
   "codemirror_mode": {
    "name": "ipython",
    "version": 3
   },
   "file_extension": ".py",
   "mimetype": "text/x-python",
   "name": "python",
   "nbconvert_exporter": "python",
   "pygments_lexer": "ipython3",
   "version": "3.8.16"
  }
 },
 "nbformat": 4,
 "nbformat_minor": 1
}
