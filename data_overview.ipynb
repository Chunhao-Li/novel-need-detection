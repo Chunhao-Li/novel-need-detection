{
 "cells": [
  {
   "cell_type": "code",
   "execution_count": 1,
   "id": "6a52c395",
   "metadata": {},
   "outputs": [],
   "source": [
    "import numpy as np\n",
    "import pandas as pd"
   ]
  },
  {
   "cell_type": "code",
   "execution_count": 2,
   "id": "b997e739",
   "metadata": {},
   "outputs": [],
   "source": [
    "df_19 = pd.read_excel('annotation_sentence.xlsx', sheet_name=0)"
   ]
  },
  {
   "cell_type": "code",
   "execution_count": 3,
   "id": "45f9bf8e",
   "metadata": {},
   "outputs": [],
   "source": [
    "df_17 = pd.read_excel('annotation_sentence.xlsx', sheet_name=2)"
   ]
  },
  {
   "cell_type": "code",
   "execution_count": 4,
   "id": "ab1e6fe5",
   "metadata": {},
   "outputs": [],
   "source": [
    "df1 = pd.read_excel('reviews 2020-23.xlsx', sheet_name=0)\n",
    "df2 = pd.read_excel('reviews 2020-23.xlsx', sheet_name=1)"
   ]
  },
  {
   "cell_type": "code",
   "execution_count": 5,
   "id": "60433161",
   "metadata": {},
   "outputs": [],
   "source": [
    "xl = pd.ExcelFile('2017.xlsx')\n",
    "products_17 = xl.sheet_names"
   ]
  },
  {
   "cell_type": "code",
   "execution_count": 6,
   "id": "03554350",
   "metadata": {},
   "outputs": [
    {
     "data": {
      "text/plain": [
       "Index(['Unnamed: 0', 'PC01', 'PC02', 'PC03', 'PC04', 'PC05', 'PC06', 'PC07',\n",
       "       'PC08', 'PC09', 'PC10', 'PC11', 'PC12', 'PC13', 'PC14', 'PC15', 'PC16',\n",
       "       'PC17', 'PC18', 'PC19', 'PC20', 'PC21', 'PC22', 'PC23', 'PC24', 'PC25',\n",
       "       'PC26', 'PC27', 'PC28', 'PC29', 'PC30', 'PC31', 'PC32', 'PC33', 'PC34',\n",
       "       'PC35', 'PC36', 'PC37', 'PC38', 'PC39', 'PC40', 'PC41', 'PC42', 'PC43',\n",
       "       'PC44', 'PC45', 'PC46', 'PC47', 'PC48', 'PC49', 'PC50'],\n",
       "      dtype='object')"
      ]
     },
     "execution_count": 6,
     "metadata": {},
     "output_type": "execute_result"
    }
   ],
   "source": [
    "df1.columns"
   ]
  },
  {
   "cell_type": "code",
   "execution_count": 7,
   "id": "36a8bd3e",
   "metadata": {},
   "outputs": [],
   "source": [
    "df2_products = list(df2.iloc[0])[1:]\n",
    "df1_products = list(df1.iloc[0])[1:]"
   ]
  },
  {
   "cell_type": "code",
   "execution_count": 8,
   "id": "74df1f01",
   "metadata": {},
   "outputs": [],
   "source": [
    "df_tmp = pd.read_excel('2017.xlsx', sheet_name=products_17[23])"
   ]
  },
  {
   "cell_type": "code",
   "execution_count": 9,
   "id": "97deaa5e",
   "metadata": {},
   "outputs": [
    {
     "data": {
      "text/html": [
       "<div>\n",
       "<style scoped>\n",
       "    .dataframe tbody tr th:only-of-type {\n",
       "        vertical-align: middle;\n",
       "    }\n",
       "\n",
       "    .dataframe tbody tr th {\n",
       "        vertical-align: top;\n",
       "    }\n",
       "\n",
       "    .dataframe thead th {\n",
       "        text-align: right;\n",
       "    }\n",
       "</style>\n",
       "<table border=\"1\" class=\"dataframe\">\n",
       "  <thead>\n",
       "    <tr style=\"text-align: right;\">\n",
       "      <th></th>\n",
       "      <th>Review</th>\n",
       "      <th>Refurbished goods? (Y/N)</th>\n",
       "      <th>Product Relevant Keywords (Positive)</th>\n",
       "      <th>Product Relevant Keywords (Negative)</th>\n",
       "      <th>Rephrased Customer Needs Based on Positive Keywords and Reviews</th>\n",
       "      <th>rating</th>\n",
       "    </tr>\n",
       "  </thead>\n",
       "  <tbody>\n",
       "    <tr>\n",
       "      <th>0</th>\n",
       "      <td>I just got this and I am transferring from my ...</td>\n",
       "      <td>N</td>\n",
       "      <td>slick, great screen quality, touch screen, on ...</td>\n",
       "      <td>NaN</td>\n",
       "      <td>I want a slick machine with great screen quali...</td>\n",
       "      <td>5</td>\n",
       "    </tr>\n",
       "    <tr>\n",
       "      <th>1</th>\n",
       "      <td>Chromebooks rock. They are perfect for many pe...</td>\n",
       "      <td>NaN</td>\n",
       "      <td>NaN</td>\n",
       "      <td>NaN</td>\n",
       "      <td>NaN</td>\n",
       "      <td>5</td>\n",
       "    </tr>\n",
       "    <tr>\n",
       "      <th>2</th>\n",
       "      <td>Newest Flagship Acer R13 13.3\" Convertible 2-i...</td>\n",
       "      <td>NaN</td>\n",
       "      <td>large screen</td>\n",
       "      <td>bad microSD card slot, bad charging cord</td>\n",
       "      <td>I hope to have a laptop with large screen.</td>\n",
       "      <td>4</td>\n",
       "    </tr>\n",
       "    <tr>\n",
       "      <th>3</th>\n",
       "      <td>I use this for everything. The fact that you c...</td>\n",
       "      <td>NaN</td>\n",
       "      <td>convertible</td>\n",
       "      <td>NaN</td>\n",
       "      <td>I wish to have a convertible laptop.</td>\n",
       "      <td>4</td>\n",
       "    </tr>\n",
       "    <tr>\n",
       "      <th>4</th>\n",
       "      <td>I purchased this to replace my lagging Win 10 ...</td>\n",
       "      <td>NaN</td>\n",
       "      <td>NaN</td>\n",
       "      <td>messy navigation, crash, Gmail compatibility</td>\n",
       "      <td>NaN</td>\n",
       "      <td>4</td>\n",
       "    </tr>\n",
       "  </tbody>\n",
       "</table>\n",
       "</div>"
      ],
      "text/plain": [
       "                                              Review Refurbished goods? (Y/N)  \\\n",
       "0  I just got this and I am transferring from my ...                        N   \n",
       "1  Chromebooks rock. They are perfect for many pe...                      NaN   \n",
       "2  Newest Flagship Acer R13 13.3\" Convertible 2-i...                      NaN   \n",
       "3  I use this for everything. The fact that you c...                      NaN   \n",
       "4  I purchased this to replace my lagging Win 10 ...                      NaN   \n",
       "\n",
       "                Product Relevant Keywords (Positive)  \\\n",
       "0  slick, great screen quality, touch screen, on ...   \n",
       "1                                                NaN   \n",
       "2                                      large screen    \n",
       "3                                        convertible   \n",
       "4                                                NaN   \n",
       "\n",
       "           Product Relevant Keywords (Negative)  \\\n",
       "0                                           NaN   \n",
       "1                                           NaN   \n",
       "2      bad microSD card slot, bad charging cord   \n",
       "3                                           NaN   \n",
       "4  messy navigation, crash, Gmail compatibility   \n",
       "\n",
       "  Rephrased Customer Needs Based on Positive Keywords and Reviews  rating  \n",
       "0  I want a slick machine with great screen quali...                    5  \n",
       "1                                                NaN                    5  \n",
       "2         I hope to have a laptop with large screen.                    4  \n",
       "3               I wish to have a convertible laptop.                    4  \n",
       "4                                                NaN                    4  "
      ]
     },
     "execution_count": 9,
     "metadata": {},
     "output_type": "execute_result"
    }
   ],
   "source": [
    "df_tmp.head()"
   ]
  },
  {
   "cell_type": "code",
   "execution_count": 10,
   "id": "9d76844c",
   "metadata": {},
   "outputs": [
    {
     "name": "stdout",
     "output_type": "stream",
     "text": [
      "2536\n"
     ]
    }
   ],
   "source": [
    "all_reviews = set()\n",
    "# add up all reviews in 2017.xlsx\n",
    "for product in products_17:\n",
    "    df_tmp = pd.read_excel('2017.xlsx', sheet_name=product)\n",
    "    for r in df_tmp.Review:\n",
    "        all_reviews.add(r)\n",
    "print(len(all_reviews))"
   ]
  },
  {
   "cell_type": "code",
   "execution_count": 11,
   "id": "1450fabd",
   "metadata": {},
   "outputs": [
    {
     "name": "stdout",
     "output_type": "stream",
     "text": [
      "8259\n"
     ]
    }
   ],
   "source": [
    "for i in range(1,len(df1)):\n",
    "    for col_name in df1.columns[1:]:\n",
    "        if isinstance(df1.iloc[i][col_name], str):\n",
    "            all_reviews.add(df1.iloc[i][col_name])\n",
    "print(len(all_reviews))"
   ]
  },
  {
   "cell_type": "code",
   "execution_count": 12,
   "id": "728f1170",
   "metadata": {},
   "outputs": [
    {
     "name": "stdout",
     "output_type": "stream",
     "text": [
      "17179\n"
     ]
    }
   ],
   "source": [
    "for i in range(1,len(df2)):\n",
    "    for col_name in df2.columns[1:]:\n",
    "        if isinstance(df2.iloc[i][col_name], str):\n",
    "            all_reviews.add(df2.iloc[i][col_name])\n",
    "print(len(all_reviews))"
   ]
  },
  {
   "cell_type": "code",
   "execution_count": 13,
   "id": "2f027616",
   "metadata": {},
   "outputs": [
    {
     "name": "stdout",
     "output_type": "stream",
     "text": [
      "19314\n"
     ]
    }
   ],
   "source": [
    "for i in range(len(df_19)):\n",
    "    for col_name in df_19.columns:\n",
    "        if isinstance(df_19.iloc[i][col_name], str):\n",
    "            all_reviews.add(df_19.iloc[i][col_name])\n",
    "print(len(all_reviews))"
   ]
  },
  {
   "cell_type": "code",
   "execution_count": 14,
   "id": "fc472b63",
   "metadata": {},
   "outputs": [
    {
     "name": "stdout",
     "output_type": "stream",
     "text": [
      "19439\n"
     ]
    }
   ],
   "source": [
    "for i in range(len(df_17)):\n",
    "    for col_name in df_17.columns:\n",
    "        if isinstance(df_17.iloc[i][col_name], str):\n",
    "            all_reviews.add(df_17.iloc[i][col_name])\n",
    "print(len(all_reviews))"
   ]
  },
  {
   "cell_type": "code",
   "execution_count": 17,
   "id": "080b190c",
   "metadata": {},
   "outputs": [
    {
     "name": "stdout",
     "output_type": "stream",
     "text": [
      "72\n",
      "119\n",
      "205\n"
     ]
    }
   ],
   "source": [
    "all_products = set()\n",
    "for p in products_17:\n",
    "    all_products.add(p)\n",
    "print(len(all_products))\n",
    "\n",
    "\n",
    "\n",
    "for p in df1_products:\n",
    "    all_products.add(p)\n",
    "print(len(all_products))\n",
    "\n",
    "for p in df2_products:\n",
    "    all_products.add(p)\n",
    "print(len(all_products))"
   ]
  },
  {
   "cell_type": "code",
   "execution_count": 19,
   "id": "6db6165d",
   "metadata": {},
   "outputs": [
    {
     "data": {
      "text/plain": [
       "222"
      ]
     },
     "execution_count": 19,
     "metadata": {},
     "output_type": "execute_result"
    }
   ],
   "source": [
    "len(products_17+df1_products+df2_products)"
   ]
  },
  {
   "cell_type": "code",
   "execution_count": null,
   "id": "450bfbcc",
   "metadata": {},
   "outputs": [],
   "source": []
  },
  {
   "cell_type": "code",
   "execution_count": 20,
   "id": "f539d6bc",
   "metadata": {},
   "outputs": [],
   "source": [
    "review_lengths = [len(i) for i in all_reviews]"
   ]
  },
  {
   "cell_type": "code",
   "execution_count": 28,
   "id": "bf5b473d",
   "metadata": {
    "scrolled": true
   },
   "outputs": [
    {
     "name": "stdout",
     "output_type": "stream",
     "text": [
      "1\n",
      "9789\n",
      "342.1277329080714\n",
      "162.0\n"
     ]
    }
   ],
   "source": [
    "print(np.min(review_lengths))\n",
    "print(np.max(review_lengths))\n",
    "print(np.mean(review_lengths))\n",
    "print(np.median(review_lengths))"
   ]
  },
  {
   "cell_type": "code",
   "execution_count": 29,
   "id": "93d4eb3c",
   "metadata": {
    "scrolled": true
   },
   "outputs": [
    {
     "data": {
      "text/plain": [
       "['B073WQLZ7M',\n",
       " 'B073WQLZ7M(2017)',\n",
       " 'B078DN2PVJ',\n",
       " 'B078DN2PVJ(2017)',\n",
       " 'B06X1869F3',\n",
       " 'B075JLPLBL',\n",
       " 'B0764N2QL3',\n",
       " 'B077X9D48G',\n",
       " 'B076CTR3MW',\n",
       " 'B078WSX4QL',\n",
       " 'B077GF2VY8',\n",
       " 'B06X9TH2RX',\n",
       " 'B0744GWBXC',\n",
       " 'B078Z3HJ1X',\n",
       " 'B074TXHFX4',\n",
       " 'B0752W6W4Q',\n",
       " 'B077P7D2B2',\n",
       " 'B072N4D64S',\n",
       " 'B072M22XK8',\n",
       " 'B077XS11LS',\n",
       " 'B074G5DQ5M',\n",
       " 'B077XS11LS(2017)',\n",
       " 'B06X9DR1B8',\n",
       " 'B077TCVT7Q',\n",
       " 'B01MYT98MS',\n",
       " 'B076X6T1XP',\n",
       " 'B0792SMNVX',\n",
       " 'B077YSPHZX',\n",
       " 'B074HDDH7B',\n",
       " 'B077RQSMSR',\n",
       " 'B01N5K9VXB',\n",
       " 'B076V3FM6L',\n",
       " 'B077RT843F',\n",
       " 'B077X1ZB7H',\n",
       " 'B073PXNPG7',\n",
       " 'B01MS79M6Y',\n",
       " 'B076JXW7D6',\n",
       " 'B072LS5KPF',\n",
       " 'B077HZQKJQ',\n",
       " 'B071KF6MWC',\n",
       " 'B071KF6MWC(2017)',\n",
       " 'B078NPYG9Y',\n",
       " 'B071RPDNRZ',\n",
       " 'B0746LZK1R',\n",
       " 'B075QJDVHP',\n",
       " 'B0718WKLWT',\n",
       " 'B07578TC9B',\n",
       " 'B01MZ77Z3S',\n",
       " 'B075QKG7QX',\n",
       " 'B0769G4STB',\n",
       " 'B0777QPQLY',\n",
       " 'B0785RWL6C',\n",
       " 'B075JHQRHK',\n",
       " 'B01N11P4C5',\n",
       " 'B077GT5RBV',\n",
       " 'B07B3YCP37',\n",
       " 'B077Y8GTHR',\n",
       " 'B0769DQG4X',\n",
       " 'B071ZL9X36',\n",
       " 'B077HXCNQV',\n",
       " 'B0764DJSCL',\n",
       " 'B078MJYQ15(2017)',\n",
       " 'B075J3YLZ3',\n",
       " 'B077QXGF6R',\n",
       " 'B078BT8NMR',\n",
       " 'B078MJYQ15',\n",
       " 'B0711H25NH(2017)',\n",
       " 'B0711H25NH',\n",
       " 'B06ZZYSNJR',\n",
       " 'B01NC0DJ4B',\n",
       " 'B077Y5CKVP',\n",
       " 'B07386CCWQ']"
      ]
     },
     "execution_count": 29,
     "metadata": {},
     "output_type": "execute_result"
    }
   ],
   "source": [
    "products_17"
   ]
  },
  {
   "cell_type": "code",
   "execution_count": null,
   "id": "653b0788",
   "metadata": {},
   "outputs": [],
   "source": []
  },
  {
   "cell_type": "code",
   "execution_count": 12,
   "id": "50080816",
   "metadata": {
    "scrolled": false
   },
   "outputs": [
    {
     "data": {
      "text/plain": [
       "array([[ 25.552074 ,   2.8522377],\n",
       "       [ 52.389507 ,  -4.2090797],\n",
       "       [ 47.434784 , -15.747616 ],\n",
       "       [ 47.107265 , -13.435527 ],\n",
       "       [ 22.168783 ,   2.664675 ],\n",
       "       [ 26.994268 ,  20.774725 ],\n",
       "       [ 49.730865 , -15.688996 ],\n",
       "       [ 31.220203 ,   2.0368383],\n",
       "       [ 44.4949   , -23.471441 ],\n",
       "       [ 49.748425 ,  -6.0069   ]], dtype=float32)"
      ]
     },
     "execution_count": 12,
     "metadata": {},
     "output_type": "execute_result"
    }
   ],
   "source": [
    "import numpy as np\n",
    "from sklearn.manifold import TSNE\n",
    "import matplotlib.pyplot as plt\n",
    "from sklearn.datasets import load_iris\n",
    "iris = load_iris()\n",
    "\n",
    "X_embedded = TSNE(n_components=2, learning_rate='auto',\n",
    "                  init='random', perplexity=3).fit_transform(iris.data)\n",
    "X_embedded[:10]"
   ]
  },
  {
   "cell_type": "code",
   "execution_count": 15,
   "id": "d7200a3a",
   "metadata": {},
   "outputs": [
    {
     "data": {
      "text/plain": [
       "<matplotlib.collections.PathCollection at 0x7fa219815880>"
      ]
     },
     "execution_count": 15,
     "metadata": {},
     "output_type": "execute_result"
    },
    {
     "data": {
      "image/png": "[encoded data removed]",
      "text/plain": [
       "<Figure size 640x480 with 1 Axes>"
      ]
     },
     "metadata": {},
     "output_type": "display_data"
    }
   ],
   "source": [
    "fig = plt.figure()\n",
    "ax = plt.subplot(111)\n",
    "plt.scatter(X_embedded[:,0], X_embedded[:, 1], c=iris.target)"
   ]
  },
  {
   "cell_type": "code",
   "execution_count": null,
   "id": "87f7fff1",
   "metadata": {},
   "outputs": [],
   "source": [
    "def plot_embedding(data, label, title):\n",
    "    x_min, x_max = np.min(data, 0), np.max(data, 0)\n",
    "    data = (data-x_min)/(x_max-x_min)\n",
    "    fig = plt.figure()\n",
    "    ax = plt.subplot(111)\n",
    "    for i in range(data.shape[0]):\n",
    "        plt."
   ]
  }
 ],
 "metadata": {
  "kernelspec": {
   "display_name": "novel need",
   "language": "python",
   "name": "novel_need"
  },
  "language_info": {
   "codemirror_mode": {
    "name": "ipython",
    "version": 3
   },
   "file_extension": ".py",
   "mimetype": "text/x-python",
   "name": "python",
   "nbconvert_exporter": "python",
   "pygments_lexer": "ipython3",
   "version": "3.8.16"
  }
 },
 "nbformat": 4,
 "nbformat_minor": 5
}
